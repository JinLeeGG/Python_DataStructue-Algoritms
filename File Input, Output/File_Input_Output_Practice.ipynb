{
  "nbformat": 4,
  "nbformat_minor": 0,
  "metadata": {
    "colab": {
      "provenance": [],
      "mount_file_id": "1tnub5yJxwMolYuha6lDIk_640_2xktD1",
      "authorship_tag": "ABX9TyNM8rBVKm8cDU2d2UxHmndK",
      "include_colab_link": true
    },
    "kernelspec": {
      "name": "python3",
      "display_name": "Python 3"
    },
    "language_info": {
      "name": "python"
    }
  },
  "cells": [
    {
      "cell_type": "markdown",
      "metadata": {
        "id": "view-in-github",
        "colab_type": "text"
      },
      "source": [
        "<a href=\"https://colab.research.google.com/github/JinLeeGG/Python_DataStructue-Algoritms/blob/main/(Day1)%20File%20Input%2C%20Output/File_Input_Output_Practice.ipynb\" target=\"_parent\"><img src=\"https://colab.research.google.com/assets/colab-badge.svg\" alt=\"Open In Colab\"/></a>"
      ]
    },
    {
      "cell_type": "code",
      "execution_count": 11,
      "metadata": {
        "id": "yJ51LkRrMKZq"
      },
      "outputs": [],
      "source": [
        "# Open(filename, mode, encoding option)\n",
        "f = open('./file_test1.txt', 'w', encoding='utf-8')\n",
        "\n",
        "f.write('Hello \\n')\n",
        "f.write('My name is \\n')\n",
        "f.write('John Lee')\n",
        "\n",
        "f.close()"
      ]
    },
    {
      "cell_type": "code",
      "source": [
        "# Now we read files\n",
        "# read()\n",
        "\n",
        "f = open('./file_test1.txt', 'r')\n",
        "data = f.read()\n",
        "\n",
        "f.close()\n",
        "print(data)"
      ],
      "metadata": {
        "colab": {
          "base_uri": "https://localhost:8080/"
        },
        "id": "1Huo1SRqM4RC",
        "outputId": "bba0d5e2-e29b-4661-8b6a-f2fa83781d65"
      },
      "execution_count": 12,
      "outputs": [
        {
          "output_type": "stream",
          "name": "stdout",
          "text": [
            "Hello \n",
            "My name is \n",
            "John Lee\n"
          ]
        }
      ]
    },
    {
      "cell_type": "code",
      "source": [
        "# Read each individual files\n",
        "f = open('./file_test1.txt', 'r')\n",
        "line1 = f.readline()\n",
        "line2 = f.readline()\n",
        "\n",
        "#Must close after read it\n",
        "f.close()\n",
        "\n",
        "print(line1)\n",
        "print(line2)\n",
        "\n"
      ],
      "metadata": {
        "id": "bQj6h5OiP6Bn",
        "colab": {
          "base_uri": "https://localhost:8080/"
        },
        "outputId": "b4b1030a-bb0d-4f62-e0b0-2d06b2cff21f"
      },
      "execution_count": 14,
      "outputs": [
        {
          "output_type": "stream",
          "name": "stdout",
          "text": [
            "Hello \n",
            "\n",
            "My name is \n",
            "\n"
          ]
        }
      ]
    },
    {
      "cell_type": "code",
      "source": [
        "'''\n",
        "Lets practice Exception with open, close methods\n",
        "1. create a file that can be overwritten\n",
        "2. write a food list\n",
        "3. add try and except methods for any possible exceptions\n",
        "'''\n",
        "\n",
        "try:\n",
        "  f = open('./exampleFile.txt', 'wt', encoding='utf-8')\n",
        "  f.write('List Of Food\\n')\n",
        "  f.write('Fried Chicken\\n')\n",
        "  f.write('Pizza\\n')\n",
        "  f.write('Hamberger\\n')\n",
        "  f.write('Kimchi')\n",
        "except NameError:\n",
        "  print('Invalid open method')\n",
        "except AttributeError:\n",
        "  print('Invalid method name')\n",
        "except Exception:\n",
        "    print(Exception.args)\n",
        "    print('Unknown Err')\n",
        "finally:\n",
        "  print('exampleFile.text created.')\n",
        "  f.close()\n",
        "\n",
        "\n"
      ],
      "metadata": {
        "colab": {
          "base_uri": "https://localhost:8080/"
        },
        "id": "MCxAdbBF0-DJ",
        "outputId": "1cfb7a8d-5851-4903-e6dc-21fd3876c834"
      },
      "execution_count": 32,
      "outputs": [
        {
          "output_type": "stream",
          "name": "stdout",
          "text": [
            "exapleFile.text created.\n"
          ]
        }
      ]
    },
    {
      "cell_type": "code",
      "source": [
        "# with method\n",
        "# The advantage of with method is that you do not have to use close method\n",
        "# The file automatically closes when error occurs\n",
        "\n",
        "with open('./exampleFile2.txt', 'wt', encoding='utf-8') as f:\n",
        "  f.write('Hello there\\n')\n",
        "  f.write('This is the end of my lesson')\n",
        "  print('exampleFile2.txt created')\n"
      ],
      "metadata": {
        "colab": {
          "base_uri": "https://localhost:8080/"
        },
        "id": "f0JkkLeB5cuf",
        "outputId": "5ab5c087-e4c8-4787-cd9d-1b1b22bf68bf"
      },
      "execution_count": 34,
      "outputs": [
        {
          "output_type": "stream",
          "name": "stdout",
          "text": [
            "exampleFile2.txt created\n"
          ]
        }
      ]
    },
    {
      "cell_type": "code",
      "source": [
        "# Lets merge different files!\n",
        "\n",
        "with open('./mergedFiles.txt', 'a', encoding='utf-8') as merged_File:\n",
        "  with open('./exampleFile.txt', 'r', encoding='utf-8') as example_File:\n",
        "    data  = example_File.read()\n",
        "    merged_File.write(data)\n",
        "\n",
        "  with open('./exampleFile2.txt', 'r', encoding='utf-8') as example_File2:\n",
        "    data = example_File2.read()\n",
        "    merged_File.write(data)\n",
        "\n",
        "  with open('./file_test1.txt', 'r', encoding='utf-8') as file_test1:\n",
        "    data = file_test1.read()\n",
        "    merged_File.write(data)\n",
        "\n",
        "print(f)\n"
      ],
      "metadata": {
        "colab": {
          "base_uri": "https://localhost:8080/"
        },
        "id": "KwBAQXtE6cMx",
        "outputId": "d50042c4-bf21-4e94-ef8d-52d122fc566a"
      },
      "execution_count": 49,
      "outputs": [
        {
          "output_type": "stream",
          "name": "stdout",
          "text": [
            "<_io.TextIOWrapper name='./mergedFiles.txt' mode='a' encoding='utf-8'>\n"
          ]
        }
      ]
    },
    {
      "cell_type": "code",
      "source": [
        "'''\n",
        "  Now, Bring merged file and extract the data we need.\n",
        "  Let's say If I want to see if the text file contains \"Pizza\"\n",
        "  Also add exception method for error handling\n",
        "\n",
        "'''\n",
        "try:\n",
        "  with open('./mergedFiles.txt', 'r', encoding='utf-8') as merged_File:\n",
        "\n",
        "    data = merged_File.read()\n",
        "    data_list = data.split('\\n')\n",
        "    for i in data_list:\n",
        "      if (i == 'Pizza'):\n",
        "        print(i)\n",
        "        break\n",
        "\n",
        "except FileNotFoundError:\n",
        "    print('Invalid file path')\n",
        "except AttributeError:\n",
        "    print('Invalid methods')\n",
        "except Exception:\n",
        "    print('Unknown error')\n",
        "finally:\n",
        "    f.close()"
      ],
      "metadata": {
        "colab": {
          "base_uri": "https://localhost:8080/"
        },
        "id": "kUF2gPWD9Utr",
        "outputId": "3d2f0d9c-a006-4824-b455-2ae5e921342a"
      },
      "execution_count": 67,
      "outputs": [
        {
          "output_type": "stream",
          "name": "stdout",
          "text": [
            "Pizza\n"
          ]
        }
      ]
    },
    {
      "cell_type": "code",
      "source": [
        "'''\n",
        "  Now, Bring merged file and extract the data we need.\n",
        "  print all lines using Walrus Operator\n",
        "\n",
        "'''\n",
        "with open('./mergedFiles.txt', 'r', encoding='utf-8') as merged_File:\n",
        "    # Walrus Operator\n",
        "    while(line:= merged_File.readline()):\n",
        "        print(line.strip())\n"
      ],
      "metadata": {
        "colab": {
          "base_uri": "https://localhost:8080/"
        },
        "id": "WmrePnRCA-CJ",
        "outputId": "2cfd70e2-be8c-4562-d734-0dea9c801f1f"
      },
      "execution_count": 66,
      "outputs": [
        {
          "output_type": "stream",
          "name": "stdout",
          "text": [
            "List Of Food\n",
            "Fried Chicken\n",
            "Pizza\n",
            "Hamberger\n",
            "KimchiHello there\n",
            "This is the end of my lessonHello\n",
            "My name is\n",
            "John Lee\n"
          ]
        }
      ]
    },
    {
      "cell_type": "code",
      "source": [],
      "metadata": {
        "id": "_CWxoLzcBdcM"
      },
      "execution_count": null,
      "outputs": []
    },
    {
      "cell_type": "markdown",
      "source": [],
      "metadata": {
        "id": "rVoiYws3qh1w"
      }
    }
  ]
}