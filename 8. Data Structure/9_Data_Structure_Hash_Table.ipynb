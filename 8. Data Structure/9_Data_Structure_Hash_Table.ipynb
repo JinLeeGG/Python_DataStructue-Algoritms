{
  "nbformat": 4,
  "nbformat_minor": 0,
  "metadata": {
    "colab": {
      "provenance": [],
      "authorship_tag": "ABX9TyOOwu6b6mbkYGp/eTVIngy2",
      "include_colab_link": true
    },
    "kernelspec": {
      "name": "python3",
      "display_name": "Python 3"
    },
    "language_info": {
      "name": "python"
    }
  },
  "cells": [
    {
      "cell_type": "markdown",
      "metadata": {
        "id": "view-in-github",
        "colab_type": "text"
      },
      "source": [
        "<a href=\"https://colab.research.google.com/github/JinLeeGG/Python_DataStructue-Algoritms/blob/main/8.%20Data%20Structure/9_Data_Structure_Hash_Table.ipynb\" target=\"_parent\"><img src=\"https://colab.research.google.com/assets/colab-badge.svg\" alt=\"Open In Colab\"/></a>"
      ]
    },
    {
      "cell_type": "code",
      "execution_count": null,
      "metadata": {
        "id": "vTn5s8lxuLO8"
      },
      "outputs": [],
      "source": [
        "class Node:\n",
        "    def __init__(self, key, value):\n",
        "        self.key = key\n",
        "        self.value = value\n",
        "\n",
        "class HashTable:\n",
        "    def __init__(self, size):\n",
        "        # 해시테이블의 크기\n",
        "        self.size = size\n",
        "        self.table = [None] * size\n",
        "        # 노드의 개수 (저장된 데이터의 개수)\n",
        "        self.node_num = 0\n",
        "\n",
        "    def hash_func(self, key):\n",
        "        return key % self.size\n",
        "\n",
        "    def insert(self, key, value):\n",
        "        # 노드 생성\n",
        "        node = Node(key, value)\n",
        "        idx = self.hash_func(key)\n",
        "        # 해시값을 통해 테이블에 저장\n",
        "        self.table[idx] = node\n",
        "        self.node_num += 1\n",
        "\n",
        "    # 키 값을 확인하기\n",
        "    def contains_key(self, key):\n",
        "        idx = self.hash_func(key)\n",
        "        return True if self.table[idx] else False\n",
        "\n",
        "    # 데이터 삭제\n",
        "    def remove(self, key):\n",
        "        if not self.contains_key(key):\n",
        "            raise ValueError('key not in hash table')\n",
        "\n",
        "        idx = self.hash_func(key)\n",
        "        self.table[idx] = None\n",
        "        self.node_num -= 1\n",
        "\n",
        "    # 데이터 검색\n",
        "    def get(self, key):\n",
        "        if not self.contains_key(key):\n",
        "            raise ValueError('Key not in hash table')\n",
        "\n",
        "        idx = self.hash_func(key)\n",
        "        return self.table[idx].value\n",
        "\n",
        "    # 비어있는지 확인\n",
        "    def is_empty(self):\n",
        "        return self.node_num == 0\n",
        "\n",
        "    # 데이터 확인\n",
        "    def show(self):\n",
        "        if self.is_empty():\n",
        "            print('빈 해시테이블입니다')\n",
        "            return\n",
        "\n",
        "        for node in self.table:\n",
        "            if node is not None:\n",
        "                print(f'key = {node.key}, value ={node.value}')"
      ]
    },
    {
      "cell_type": "code",
      "source": [
        "table = HashTable(10)\n",
        "\n",
        "table.insert(1, '홍길동')\n",
        "table.insert(2, '장보고')\n",
        "table.insert(3, '이순신')\n",
        "table.show()\n",
        "\n",
        "# 검색\n",
        "print(table.get(2))\n",
        "\n",
        "# 조회\n",
        "print(table.contains_key(3))\n",
        "print(table.contains_key(10))\n",
        "\n",
        "# 삭제\n",
        "print(table.remove(1))\n",
        "table.show()"
      ],
      "metadata": {
        "colab": {
          "base_uri": "https://localhost:8080/"
        },
        "id": "L_1L0Bd40xgZ",
        "outputId": "bea43428-d767-4e88-d010-f2c450eb7954"
      },
      "execution_count": null,
      "outputs": [
        {
          "output_type": "stream",
          "name": "stdout",
          "text": [
            "key = 1, value =홍길동\n",
            "key = 2, value =장보고\n",
            "key = 3, value =이순신\n",
            "장보고\n",
            "True\n",
            "False\n",
            "None\n",
            "key = 2, value =장보고\n",
            "key = 3, value =이순신\n"
          ]
        }
      ]
    },
    {
      "cell_type": "code",
      "source": [
        "# 해시테이블 알고리즘 10분\n",
        "# 한 학급에서 학생들이 출석하면 출석부에 체크됩니다.\n",
        "# 학생들이 출석할 때마다 해시테이블(딕셔너리)을 이용하여 출석 여부를 기록하고,\n",
        "# 마지막에 출석한 학생 -> 지각한 학생 순으로 이름을 출력하세요.\n",
        "\n",
        "\n",
        "# 출석 데이터 리스트\n",
        "attendance_data = [\n",
        "    (\"Alice\", \"출석\"), #\n",
        "    (\"Bob\", \"지각\"),\n",
        "    (\"Charlie\", \"결석\"),\n",
        "    (\"David\", \"출석\"), #\n",
        "    (\"Eve\", \"지각\"),\n",
        "    (\"Frank\", \"결석\"),\n",
        "    (\"Grace\", \"출석\"), #\n",
        "    (\"Hank\", \"출석\") #\n",
        "]\n",
        "\n",
        "def solution(data):\n",
        "    result = []\n",
        "    d = dict(data)\n",
        "\n",
        "    for status in d:\n",
        "        if d[status] == \"출석\":\n",
        "            result.append(status)\n",
        "            if d[status] == \"지각\" or \"결석\":\n",
        "              result.append(status)\n",
        "\n",
        "    for status in d:\n",
        "        if d[status] == \"지각\" or \"결석\":\n",
        "            result.append(status)\n",
        "\n",
        "\n",
        "    return result\n",
        "# Test the function\n",
        "print(solution(attendance_data))\n"
      ],
      "metadata": {
        "colab": {
          "base_uri": "https://localhost:8080/"
        },
        "id": "0io-IbeV131N",
        "outputId": "9a28d194-6440-4e83-964b-945d9c0e8cf3"
      },
      "execution_count": null,
      "outputs": [
        {
          "output_type": "stream",
          "name": "stdout",
          "text": [
            "['Alice', 'Alice', 'David', 'David', 'Grace', 'Grace', 'Hank', 'Hank', 'Alice', 'Bob', 'Charlie', 'David', 'Eve', 'Frank', 'Grace', 'Hank']\n"
          ]
        }
      ]
    },
    {
      "cell_type": "code",
      "source": [
        "# 해시테이블 알고리즘 10분\n",
        "# 한 학급에서 학생들이 출석하면 출석부에 체크됩니다.\n",
        "# 학생들이 출석할 때마다 해시테이블(딕셔너리)을 이용하여 출석 여부를 기록하고,\n",
        "# 마지막에 출석한 학생 -> 지각한 학생 순으로 이름을 출력하세요.\n",
        "\n",
        "\n",
        "# 출석 데이터 리스트\n",
        "attendance_data = [\n",
        "    (\"Alice\", \"출석\"), #\n",
        "    (\"Bob\", \"지각\"),\n",
        "    (\"Charlie\", \"결석\"),\n",
        "    (\"David\", \"출석\"), #\n",
        "    (\"Eve\", \"지각\"),\n",
        "    (\"Frank\", \"결석\"),\n",
        "    (\"Grace\", \"출석\"), #\n",
        "    (\"Hank\", \"출석\") #\n",
        "]\n",
        "\n",
        "attendance_dict = {\n",
        "    \"출석\" : [],\n",
        "    \"지각\" : [],\n",
        "    \"결석\" : []\n",
        "}\n",
        "\n",
        "# 출석 데이터 처리\n",
        "\n",
        "for name, status in attendance_data:\n",
        "    if status == \"출석\":\n",
        "        attendance_dict[status].append(name)\n",
        "    elif status == \"지각\":\n",
        "        attendance_dict[status].append(name)\n",
        "    else:\n",
        "        attendance_dict[status].append(name)\n",
        "\n",
        "# 정렬 후 출력\n",
        "print('출석: ')\n",
        "for student in sorted(attendance_dict['출석']):\n",
        "    print(student)\n",
        "\n",
        "print('지각: ')\n",
        "for student in sorted(attendance_dict['지각']):\n",
        "    print(student)\n",
        "\n",
        "print('결석: ')\n",
        "for student in sorted(attendance_dict['결석']):\n",
        "    print(student)"
      ],
      "metadata": {
        "colab": {
          "base_uri": "https://localhost:8080/"
        },
        "id": "YO8Z-bMm3qEG",
        "outputId": "f83fd85c-8fae-4cd5-a447-c570fade7684"
      },
      "execution_count": null,
      "outputs": [
        {
          "output_type": "stream",
          "name": "stdout",
          "text": [
            "출석: \n",
            "Alice\n",
            "David\n",
            "Grace\n",
            "Hank\n",
            "지각: \n",
            "Bob\n",
            "Eve\n",
            "결석: \n",
            "Charlie\n",
            "Frank\n"
          ]
        }
      ]
    },
    {
      "cell_type": "code",
      "source": [
        "# 1) 체이닝\n",
        "class CNode:\n",
        "    def __init__(self, key, value, next = None):\n",
        "        self.key = key\n",
        "        self.value = value\n",
        "        self.next = next\n",
        "\n",
        "\n",
        "# 2) 오픈 어드레싱\n",
        "class ANode:\n",
        "    def __init__(self, key, value):\n",
        "        self.key = key\n",
        "        self.value = value\n",
        "\n",
        "    def __repr__(self):\n",
        "        return self.value\n"
      ],
      "metadata": {
        "id": "abKISNk78WFB"
      },
      "execution_count": null,
      "outputs": []
    },
    {
      "cell_type": "code",
      "source": [
        "from sys import hash_info\n",
        "import hashlib\n",
        "\n",
        "# sha256 해시값을 이용한 암호화 방법중 하나\n",
        "# hashlib.sha256()\n",
        "\n",
        "class NewHashTable:\n",
        "    def __init__(self, size):\n",
        "        self.size = size\n",
        "        self.table = [None] * size\n",
        "        self.node_num = 0\n",
        "\n",
        "    def hash_func(self,key):\n",
        "        hash_obj = hashlib.sha256()\n",
        "        hash_obj.update(str(key).encode())\n",
        "        return int(hash_obj.hexdigest(), 16) % self.size\n",
        "\n",
        "    # 체이닝 기법을 통한 충돌 해결\n",
        "    def insert_with_chaining(self, key, value):\n",
        "        node = CNode(key, value)\n",
        "        idx = self.hash_func(key)\n",
        "\n",
        "        if self.table[idx] is not None:\n",
        "            self.table[idx].next = CNode(key, value)\n",
        "            self.node_num += 1\n",
        "            return\n",
        "\n",
        "        self.table[idx] = node\n",
        "        self.node_num +=1\n",
        "\n",
        "\n",
        "    # 오픈 어드레싱 선형 탐색기법을 통한 충돌 해결 방법\n",
        "    def insert_with_addressing(self, key, value):\n",
        "        node = ANode(key, value)\n",
        "        idx = self.hash_func(key)\n",
        "\n",
        "        if self.table[idx] is not None:\n",
        "            for i in range(idx + 1, self.size):\n",
        "                if self.table[i] is None:\n",
        "                    self.table[i] = ANode(key, value)\n",
        "                    self.node_num += 1\n",
        "                    return\n",
        "\n",
        "            for i in range(idx):\n",
        "                if self.table[i] is None:\n",
        "                    self.table[i] = ANode(key, value)\n",
        "                    self.node_num += 1\n",
        "                    return\n",
        "\n",
        "            # 빈 공간이 존재하지 않는다면 에러\n",
        "            raise IndexError('데이터를 추가할 수 없습니다')\n",
        "\n",
        "        self.table[idx] = node\n",
        "        self.node_num += 1"
      ],
      "metadata": {
        "id": "ArW0l61E9I_g"
      },
      "execution_count": null,
      "outputs": []
    },
    {
      "cell_type": "code",
      "source": [],
      "metadata": {
        "id": "g9p38__K_VuB"
      },
      "execution_count": null,
      "outputs": []
    }
  ]
}