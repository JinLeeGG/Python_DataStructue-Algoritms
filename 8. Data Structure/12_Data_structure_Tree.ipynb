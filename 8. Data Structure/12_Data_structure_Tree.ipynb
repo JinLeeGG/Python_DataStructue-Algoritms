{
  "nbformat": 4,
  "nbformat_minor": 0,
  "metadata": {
    "colab": {
      "provenance": [],
      "authorship_tag": "ABX9TyOTYZm9iRteEfBOtHk2s6On",
      "include_colab_link": true
    },
    "kernelspec": {
      "name": "python3",
      "display_name": "Python 3"
    },
    "language_info": {
      "name": "python"
    }
  },
  "cells": [
    {
      "cell_type": "markdown",
      "metadata": {
        "id": "view-in-github",
        "colab_type": "text"
      },
      "source": [
        "<a href=\"https://colab.research.google.com/github/JinLeeGG/Python_DataStructue-Algoritms/blob/main/8.%20Data%20Structure/12_Data_structure_Tree.ipynb\" target=\"_parent\"><img src=\"https://colab.research.google.com/assets/colab-badge.svg\" alt=\"Open In Colab\"/></a>"
      ]
    },
    {
      "cell_type": "markdown",
      "source": [
        "<img src = 'https://www.mathwarehouse.com/programming/images/binary-search-tree/binary-search-tree-insertion-animation.gif' width = 300 />\n",
        "\n"
      ],
      "metadata": {
        "id": "UcIuJsHoJQl7"
      }
    },
    {
      "cell_type": "code",
      "source": [
        "# 트리\n",
        "class Tree:\n",
        "    def __init__(self):\n",
        "        # 루트 노드의 값\n",
        "        self.val = None\n",
        "        self.left = None\n",
        "        self.right = None\n",
        "\n",
        "tree = Tree()\n",
        "print(tree)\n",
        "\n",
        "tree.val = 20\n",
        "tree.left = 15\n",
        "tree.right = 25\n",
        "\n",
        "print(tree.val)\n",
        "print(tree.left, tree.right)\n",
        "\n",
        "\n",
        "# 방법2\n",
        "class Tree:\n",
        "  def __init__(self, val = None):\n",
        "      if val != None:\n",
        "          self.val = val\n",
        "      else:\n",
        "          self.val = None\n",
        "      self.left = None\n",
        "      self.right = None\n",
        "\n",
        "# 루트 노드를 기준으로 선언\n",
        "tree = Tree('A')\n",
        "print(tree.val)\n",
        "\n",
        "tree.left = Tree('B')\n",
        "tree.right = Tree('C')\n",
        "print(tree.left.val, tree.right.val)"
      ],
      "metadata": {
        "colab": {
          "base_uri": "https://localhost:8080/"
        },
        "id": "Xr6MwpzlOuqZ",
        "outputId": "9eb96f55-985f-4545-b22f-213a4e3002db"
      },
      "execution_count": 4,
      "outputs": [
        {
          "output_type": "stream",
          "name": "stdout",
          "text": [
            "<__main__.Tree object at 0x7e91949eb150>\n",
            "20\n",
            "15 25\n",
            "A\n",
            "B C\n"
          ]
        }
      ]
    },
    {
      "cell_type": "code",
      "source": [
        "# 이진트리\n",
        "# 깊이 우선 탐색 (DFS)\n",
        "\n",
        "# 클래스를 1개만 선언\n",
        "# 전위순회, 중위순회, 후위순회\n",
        "\n",
        "class TNode:\n",
        "    def __init__(self, data, left, right):\n",
        "        self.data = data\n",
        "        self.left = left\n",
        "        self.right = right\n",
        "\n",
        "# 전위 순회\n",
        "# root >> left >> right\n",
        "def preorder(n):\n",
        "    if n != None:\n",
        "        print(n.data, end=' ') # root 출력\n",
        "        preorder(n.left)\n",
        "        preorder(n.right)\n",
        "\n",
        "# 중위 순회\n",
        "# left >> root >> right\n",
        "def inorder(n):\n",
        "    if n != None:\n",
        "        inorder(n.left)\n",
        "        print(n.data, end=' ')\n",
        "        inorder(n.right)\n",
        "\n",
        "# 후위 순회\n",
        "# left >> right >> roodef postorder(n):\n",
        "    if n != None:\n",
        "        postorder(n.left)\n",
        "        postorder(n.right)\n",
        "        print(n.data, end=' ')\n",
        "\n"
      ],
      "metadata": {
        "id": "Uwe7QLIkR3Vy"
      },
      "execution_count": 7,
      "outputs": []
    },
    {
      "cell_type": "code",
      "source": [
        "d = TNode('D', None, None)\n",
        "e = TNode('E', None, None)\n",
        "b = TNode('B', d, e)\n",
        "f = TNode('F', None, None)\n",
        "c = TNode('C', f, None)\n",
        "root = TNode('A', b, c)\n",
        "\n",
        "#       [A]\n",
        "#    [B]    [C]\n",
        "#  [D][E]  [F]\n",
        "\n",
        "print(\"중위 순회:\", end = \"\")\n",
        "inorder(root)\n",
        "\n",
        "print(\"\\n후위 순회:\", end = \"\")\n",
        "postorder(root)\n",
        "\n",
        "print(\"\\n전위 순회:\", end = \"\")\n",
        "preorder(root)"
      ],
      "metadata": {
        "colab": {
          "base_uri": "https://localhost:8080/"
        },
        "id": "1uzVx1fXTzs-",
        "outputId": "d203fd8d-e6d2-40b1-a828-c5e69be03096"
      },
      "execution_count": 16,
      "outputs": [
        {
          "output_type": "stream",
          "name": "stdout",
          "text": [
            "중위 순회:D B E A F C \n",
            "후위 순회:D E B F C A \n",
            "전위 순회:A B D E C F "
          ]
        }
      ]
    },
    {
      "cell_type": "code",
      "source": [
        "# 노드 개수 구하기\n",
        "# 왼쪽 서브트리 노드 수 + 오른쪽 서브트리 노드 수 + 루트 수\n",
        "# 후위순회 사용\n",
        "def count_node(n):\n",
        "    if n == None:\n",
        "        return 0\n",
        "    else:\n",
        "        return 1 + count_node(n.left) + count_node(n.right)\n",
        "\n",
        "# 단말노드 개수 구하기\n",
        "def count_leaf(n):\n",
        "    if n == None:\n",
        "        return 0  # 공백 트리\n",
        "    elif n.left == None and n.right == None: # 단말노드\n",
        "        return 1\n",
        "    else:\n",
        "        return count_leaf(n.left) + count_leaf(n.right)\n",
        "\n",
        "# 트리 높이 구하기\n",
        "def height(n):\n",
        "    if n == None:\n",
        "        return 0\n",
        "    h_left = height(n.left)\n",
        "    h_right = height(n.right)\n",
        "\n",
        "    if h_left > h_right:\n",
        "        return h_left + 1\n",
        "    else:\n",
        "        return h_right + 1\n"
      ],
      "metadata": {
        "id": "NDjerdHlUKfo"
      },
      "execution_count": 20,
      "outputs": []
    },
    {
      "cell_type": "code",
      "source": [
        "#       [A]\n",
        "#    [B]    [C]\n",
        "#  [D][E]  [F]\n",
        "\n",
        "print(f'\\n단말 노드의 개수 : {count_leaf(root)}')\n",
        "print(f'\\n노드의 개수 : {count_node(root)}')\n",
        "print(f'\\n트리의 높이 : {height(root)}')"
      ],
      "metadata": {
        "colab": {
          "base_uri": "https://localhost:8080/"
        },
        "id": "0SeI03miW0az",
        "outputId": "d0546caf-4987-4d0c-fc70-9867bcae7efe"
      },
      "execution_count": 25,
      "outputs": [
        {
          "output_type": "stream",
          "name": "stdout",
          "text": [
            "\n",
            "단말 노드의 개수 : 3\n",
            "\n",
            "노드의 개수 : 6\n",
            "\n",
            "트리의 높이 : 3\n"
          ]
        }
      ]
    },
    {
      "cell_type": "code",
      "source": [
        "# 너비 우선 탐색 (BFS)\n",
        "class Node:\n",
        "    def __init__(self, data = None, left = None, right = None):\n",
        "        self.data = data\n",
        "        self.left = left\n",
        "        self.right = right\n",
        "\n",
        "# 트리 클래스\n",
        "class Tree:\n",
        "    def __init__(self, root= None):\n",
        "        self.root = root\n",
        "\n",
        "    # BFS 구현\n",
        "    def bfs(self):\n",
        "        if self.root is None:\n",
        "            return []\n",
        "\n",
        "        result = []\n",
        "        queue = [self.root] # BFS를 위한 큐를 초기화\n",
        "\n",
        "        while queue:\n",
        "            node = queue.pop(0)\n",
        "            result.append(node.data)\n",
        "            if node.left:\n",
        "                queue.append(node.left)\n",
        "            if node.right:\n",
        "                queue.append(node.right)\n",
        "        return result\n",
        ""
      ],
      "metadata": {
        "id": "jEUGNRXsbFqk"
      },
      "execution_count": 27,
      "outputs": []
    },
    {
      "cell_type": "code",
      "source": [
        "#        [1]\n",
        "#     [2]   [3]\n",
        "#   [4][5] [6][7]\n",
        "\n",
        "root = Node(1, Node(2, Node(4), Node(5)), Node(3, Node(6), Node(7)))\n",
        "tree = Tree(root)\n",
        "print(tree.bfs())"
      ],
      "metadata": {
        "colab": {
          "base_uri": "https://localhost:8080/"
        },
        "id": "sE2Ji8Aub1vc",
        "outputId": "8d863d94-1861-41fe-edc5-6bcf68567841"
      },
      "execution_count": 29,
      "outputs": [
        {
          "output_type": "stream",
          "name": "stdout",
          "text": [
            "[1, 2, 3, 4, 5, 6, 7]\n"
          ]
        }
      ]
    },
    {
      "cell_type": "markdown",
      "source": [
        "# 이진 탐색 트리 (BST)\n",
        "<img src='https://www.mathwarehouse.com/programming/images/binary-search-tree/binary-search-tree-sorted-array-animation.gif' width=400 />\n"
      ],
      "metadata": {
        "id": "lk3Xm0YWdxVD"
      }
    },
    {
      "cell_type": "code",
      "source": [
        "# 이진 탐색 트리(BST)\n",
        "class BST:\n",
        "    class Node:\n",
        "        def __init__(self, data = None, left = None, right = None):\n",
        "            self.data = data\n",
        "            self.left = left\n",
        "            self.right = right\n",
        "\n",
        "\n",
        "    def __init__(self):\n",
        "        self.root = None\n",
        "\n",
        "\n",
        "    # 전위 순회(root >> left >> right)\n",
        "    def preorder(self, node):\n",
        "        if node is None:\n",
        "            return\n",
        "        print(node.data, end=' ')\n",
        "        self.preorder(node.left)\n",
        "        self.preorder(node.right)\n",
        "\n",
        "    def preshow(self):\n",
        "        self.preorder(self.root)\n",
        "        print()\n",
        "\n",
        "    # 중위 순회(left >> root >> right)\n",
        "    def inorder(self, node):\n",
        "        if node is None:\n",
        "            return\n",
        "        self.preorder(node.left)\n",
        "        print(node.data, end=' ')\n",
        "        self.preorder(node.right)\n",
        "\n",
        "    def inshow(self):\n",
        "        self.inorder(self.root)\n",
        "        print()\n",
        "\n",
        "    # 후회 순회(left >> right >> root)\n",
        "    def postorder(self, node):\n",
        "        if node is None:\n",
        "            return\n",
        "        self.postorder(node.left)\n",
        "        self.preorder(node.right)\n",
        "        print(node.data, end=' ')\n",
        "\n",
        "    def postshow(self):\n",
        "        self.postorder(self.root)\n",
        "        print()\n",
        "\n",
        "\n",
        "    # 추가 메서드\n",
        "    def add(self, data):\n",
        "        newnode = self.Node(data)\n",
        "        if self.root == None:\n",
        "            self.root = newnode\n",
        "            return\n",
        "\n",
        "        # 트리가 비어있지 않다면\n",
        "        current = self.root\n",
        "        while current != None:\n",
        "            parent = current\n",
        "            if current.data == data:\n",
        "                return\n",
        "            elif current.data < data:\n",
        "                current = current.right\n",
        "            else:\n",
        "              # current.data > data\n",
        "              current = current.left\n",
        "\n",
        "        # root보다 큰 값이면 오른쪽에 추가\n",
        "        if parent.data < data:\n",
        "            parent.right = newnode\n",
        "        else:\n",
        "            parent.left = newnode\n",
        "\n",
        "\n",
        "    # 삭제 메서드\n",
        "    def remove(self, key):\n",
        "        if self.root == None:\n",
        "            return\n",
        "\n",
        "        # 삭제할 노드와 부모 노드 찾기\n",
        "        parent = self.root\n",
        "        target = self.root\n",
        "\n",
        "        while target != None:\n",
        "            if target.data == key:\n",
        "                break\n",
        "            else:\n",
        "                parent = target\n",
        "                if key > target.data:\n",
        "                    target = target.right\n",
        "                else:\n",
        "                    target = target.left\n",
        "\n",
        "        if target == None:\n",
        "            return\n",
        "\n",
        "        # 삭제할 노드가 자식이 없을 때\n",
        "        if not target.left and not target.right:\n",
        "            if parent == target:\n",
        "                self.root = None\n",
        "            elif target == parent.left:\n",
        "                parent.left = None\n",
        "            else:\n",
        "                parent.right = None\n",
        "\n",
        "        # 삭제할 노드가 두 자식을 가지고 있을때\n",
        "        elif target.left and target.right:\n",
        "            succ_parent = target\n",
        "            succ = target.left\n",
        "\n",
        "            while succ.right != None:\n",
        "                succ_parent = succ\n",
        "                succ = target.right\n",
        "\n",
        "            # 삭제할 노드 데이터를 후속자의 데이터를 덮어씌운다.\n",
        "            target.data = succ.data\n",
        "\n",
        "            if succ == succ_parent.right:\n",
        "                  succ_parent.right = succ.left\n",
        "            else:\n",
        "                succ_parent.left = succ.right\n",
        "\n",
        "        # 삭제할 노드가 하나의 자식을 가지고 있을때\n",
        "        else:\n",
        "          child = target.left or target.right\n",
        "          if target == parent:\n",
        "              self.root = child\n",
        "          elif target == parent.left:\n",
        "              self.left = child\n",
        "          else:\n",
        "            self.right = child\n",
        "\n",
        "    #탐색\n",
        "    def search(self, key):\n",
        "        current = self.root\n",
        "\n",
        "        while current != None:\n",
        "            if key == current.data:\n",
        "                break\n",
        "            elif key > current.data:\n",
        "                current = current.right\n",
        "            else:\n",
        "                current = current.left\n",
        "\n",
        "        if current == None:\n",
        "            return\n",
        "\n",
        "        return current.data"
      ],
      "metadata": {
        "id": "aMZzUlSMd-_4"
      },
      "execution_count": 51,
      "outputs": []
    },
    {
      "cell_type": "code",
      "source": [
        "t = BST()\n",
        "t.add(5)\n",
        "t.add(3)\n",
        "t.add(7)\n",
        "t.add(2)\n",
        "t.add(4)\n",
        "t.add(6)\n",
        "t.add(9)\n",
        "\n",
        "#         [5]\n",
        "#      [3]   [7]\n",
        "#    [2][4] [6][9]\n",
        "\n",
        "print(\"========전위 순회 결과 ========\")\n",
        "t.preshow()\n",
        "\n",
        "# 삭제\n",
        "t.remove(9)\n",
        "t.preshow()\n",
        "t.remove(3)\n",
        "t.preshow()\n",
        "\n",
        "# 탐색\n",
        "found = t.search(4)\n",
        "print(found)"
      ],
      "metadata": {
        "colab": {
          "base_uri": "https://localhost:8080/"
        },
        "id": "tgvWTewEf4AI",
        "outputId": "1a611552-a597-423c-a34f-aef9e4e75c8e"
      },
      "execution_count": 54,
      "outputs": [
        {
          "output_type": "stream",
          "name": "stdout",
          "text": [
            "========전위 순회 결과 ========\n",
            "5 3 2 4 7 6 9 \n",
            "5 3 2 4 7 6 \n",
            "5 2 4 7 6 \n",
            "4\n"
          ]
        }
      ]
    }
  ]
}