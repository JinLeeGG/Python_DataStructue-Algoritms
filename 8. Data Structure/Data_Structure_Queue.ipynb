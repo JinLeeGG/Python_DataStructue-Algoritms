{
  "nbformat": 4,
  "nbformat_minor": 0,
  "metadata": {
    "colab": {
      "provenance": []
    },
    "kernelspec": {
      "name": "python3",
      "display_name": "Python 3"
    },
    "language_info": {
      "name": "python"
    }
  },
  "cells": [
    {
      "cell_type": "code",
      "source": [
        "def Queue():\n",
        "    qu = []\n",
        "\n",
        "    qu.append(1)\n",
        "    qu.append(2)\n",
        "    qu.append(3)\n",
        "\n",
        "    while qu:\n",
        "        print(f\"get value:{qu.pop(0)}\")\n",
        "\n",
        "\n",
        "Queue()"
      ],
      "metadata": {
        "colab": {
          "base_uri": "https://localhost:8080/"
        },
        "id": "ACDLcwdMTTb5",
        "outputId": "e5196f0e-84b6-4afc-9620-e8f55ed77cc9"
      },
      "execution_count": null,
      "outputs": [
        {
          "output_type": "stream",
          "name": "stdout",
          "text": [
            "get value:1\n",
            "get value:2\n",
            "get value:3\n"
          ]
        }
      ]
    },
    {
      "cell_type": "code",
      "source": [
        "class Queue:\n",
        "    def __init__(self, max = 5):\n",
        "        self.que = [None for i in range(max)]\n",
        "        self.max = max\n",
        "        self.rear = 0\n",
        "\n",
        "    def is_empty(self):\n",
        "        return self.rear == 0\n",
        "\n",
        "    def is_full(self):\n",
        "        return self.max == self.rear\n",
        "\n",
        "    def enqueue(self, element):\n",
        "        if not self.is_full():\n",
        "            self.que[self.rear] = element\n",
        "            self.rear += 1\n",
        "\n",
        "    def dequeue(self):\n",
        "        if not self.is_empty():\n",
        "            temp = self.que[0]\n",
        "            for i in range(self.rear - 1):\n",
        "                self.que[i] = self.que[i + 1]\n",
        "                print(self.que[i])\n",
        "\n",
        "            self.rear -= 1\n",
        "            return temp\n",
        "\n",
        "    def peek(self):\n",
        "        if not self.is_empty():\n",
        "            return self.que[0]\n",
        "\n",
        "    def clear(self):\n",
        "        self.rear = 0\n",
        "\n",
        "    def show(self):\n",
        "        for i in range(self.rear):\n",
        "            print(self.que[i], end='|')\n",
        "        print()"
      ],
      "metadata": {
        "id": "v_Y6ADGDTyLZ"
      },
      "execution_count": null,
      "outputs": []
    },
    {
      "cell_type": "code",
      "source": [
        "q = Queue()"
      ],
      "metadata": {
        "id": "pc2tJRiFVvKT"
      },
      "execution_count": null,
      "outputs": []
    },
    {
      "cell_type": "code",
      "source": [
        "q.show()\n",
        "q.enqueue(10)\n",
        "q.enqueue(20)\n",
        "q.enqueue(30)\n",
        "q.enqueue(40)\n",
        "q.enqueue(50)\n",
        "q.enqueue(100)\n",
        "q.show()"
      ],
      "metadata": {
        "colab": {
          "base_uri": "https://localhost:8080/"
        },
        "id": "QaWmS8yqX75N",
        "outputId": "83b90d56-545e-4dc4-de0b-4154e97d5ae4"
      },
      "execution_count": null,
      "outputs": [
        {
          "output_type": "stream",
          "name": "stdout",
          "text": [
            "\n",
            "10|20|30|40|50|\n"
          ]
        }
      ]
    },
    {
      "cell_type": "code",
      "source": [
        "print(f\"rear값: {q.rear}\")\n",
        "print(f\"삭제 데이터: {q.dequeue()}\")\n",
        "print(f\"rear값: {q.rear}\")\n",
        "\n",
        "q.show()\n",
        "\n",
        "q.clear()\n"
      ],
      "metadata": {
        "colab": {
          "base_uri": "https://localhost:8080/"
        },
        "id": "pcz6ZcxyYQ8k",
        "outputId": "5932aa73-1b76-458e-d168-e7025d89a8d5"
      },
      "execution_count": null,
      "outputs": [
        {
          "output_type": "stream",
          "name": "stdout",
          "text": [
            "rear값: 5\n",
            "20\n",
            "30\n",
            "40\n",
            "50\n",
            "삭제 데이터: 10\n",
            "rear값: 4\n",
            "20|30|40|50|\n"
          ]
        }
      ]
    },
    {
      "cell_type": "code",
      "source": [
        "# 큐 알고리즘 문제 10분\n",
        "# 한 은행에서 고객들이 번호표를 받고 먼저 도착한 순서대로 창구에서 업무봅니다.\n",
        "# VIP 고객부터 먼저 업무를 처리하는 로직을 완성하세요.\n",
        "\n",
        "# 은행에 도착한 순서는 아래와 같다\n",
        "customers = [\n",
        "    (\"Alice\", \"일반\"),\n",
        "    (\"Bob\", \"VIP\"),\n",
        "    (\"Charlie\", \"일반\"),\n",
        "    (\"David\", \"VIP\"),\n",
        "    (\"Eve\", \"일반\"),\n",
        "]\n",
        "\n",
        "# 출력예시)\n",
        "# Bob\n",
        "# David\n",
        "# Alice\n",
        "# Charlie\n",
        "# Eve\n",
        "\n",
        "# VIP중 먼저 온 사람순으로 출력  -> 일반 중 먼저 온사람 순으로 출력\n",
        "\n",
        "def solution(customers):\n",
        "    vip_queue = []  # VIP 고객들을 담을 큐\n",
        "    regular_queue = []  # 일반 고객들을 담을 큐\n",
        "\n",
        "    # 고객들을 VIP와 일반으로 분리하여 각각 큐에 넣기\n",
        "    for i in customers:\n",
        "        if i[1] == \"VIP\":\n",
        "            vip_queue.append(i[0])  # 고객의 이름을 VIP 큐에 추가\n",
        "        else:\n",
        "            regular_queue.append(i[0])  # 고객의 이름을 일반 큐에 추가\n",
        "\n",
        "    # VIP 고객들을 먼저 출력하고, 그 후 일반 고객들을 출력\n",
        "    for i in vip_queue:\n",
        "        print(i)\n",
        "    for i in regular_queue:\n",
        "        print(i)\n",
        "\n",
        "\n",
        "solution(customers)\n",
        "\n"
      ],
      "metadata": {
        "colab": {
          "base_uri": "https://localhost:8080/"
        },
        "id": "r9p0GPWXYmOe",
        "outputId": "32484454-f499-46eb-8054-868ef41245a2"
      },
      "execution_count": null,
      "outputs": [
        {
          "output_type": "stream",
          "name": "stdout",
          "text": [
            "Bob\n",
            "David\n",
            "Alice\n",
            "Charlie\n",
            "Eve\n"
          ]
        }
      ]
    },
    {
      "cell_type": "code",
      "source": [
        "# 큐 알고리즘 문제 10분\n",
        "# 한 은행에서 고객들이 번호표를 받고 먼저 도착한 순서대로 창구에서 업무봅니다.\n",
        "# VIP 고객부터 먼저 업무를 처리하는 로직을 완성하세요.\n",
        "\n",
        "# 은행에 도착한 순서는 아래와 같다\n",
        "customers = [\n",
        "    (\"Alice\", \"일반\"),\n",
        "    (\"Bob\", \"VIP\"),\n",
        "    (\"Charlie\", \"일반\"),\n",
        "    (\"David\", \"VIP\"),\n",
        "    (\"Eve\", \"일반\"),\n",
        "]\n",
        "\n",
        "# 출력예시)\n",
        "# Bob\n",
        "# David\n",
        "# Alice\n",
        "# Charlie\n",
        "# Eve\n",
        "\n",
        "vip_queue = []\n",
        "normal_queue = []\n",
        "\n",
        "for name, grade in customers:\n",
        "    if grade == \"VIP\":\n",
        "        vip_queue.append(name)\n",
        "    else:\n",
        "        normal_queue.append(name)\n",
        "\n",
        "for vip in vip_queue:\n",
        "    print(vip)\n",
        "\n",
        "for customer in normal_queue:\n",
        "    print(customer)\n"
      ],
      "metadata": {
        "colab": {
          "base_uri": "https://localhost:8080/"
        },
        "id": "p2F-Jvm0cAT0",
        "outputId": "7714341b-6334-4191-eb0c-2b251703de3f"
      },
      "execution_count": null,
      "outputs": [
        {
          "output_type": "stream",
          "name": "stdout",
          "text": [
            "Bob\n",
            "David\n",
            "Alice\n",
            "Charlie\n",
            "Eve\n"
          ]
        }
      ]
    },
    {
      "cell_type": "markdown",
      "source": [
        "## Circular Queue"
      ],
      "metadata": {
        "id": "4vDwEyQEdP6i"
      }
    },
    {
      "cell_type": "code",
      "source": [
        "class Circle_queue:\n",
        "    def __init__(self, max = 5):\n",
        "        self.que = [None] * max\n",
        "        self.length = self.front = self.rear = 0\n",
        "        self.max = max\n",
        "\n",
        "    def is_empty(self):\n",
        "        return self.length == 0\n",
        "\n",
        "    def is_full(self):\n",
        "        return self.length == self.max\n",
        "\n",
        "    def enqueue(self, element):\n",
        "        if not self.is_full():\n",
        "            self.que[self.rear] = element\n",
        "            self.rear = (self.rear +1) % self.max\n",
        "            self.length += 1\n",
        "\n",
        "    def dequeue(self):\n",
        "        if not self.is_empty():\n",
        "            temp = self.que[self.front]\n",
        "            self.front = (self.front + 1) % self.max\n",
        "            self.length -= 1\n",
        "            return temp\n",
        "\n",
        "    def peek(self):\n",
        "        if not self.is_empty():\n",
        "            return self.que[self.front]\n",
        "\n",
        "    def clear(self):\n",
        "        self.front = self.rear\n",
        "        self.length = 0\n",
        "\n",
        "    def show(self):\n",
        "        print(f\"front: {self.front}, rear: {self.rear}, length: {self.length}\")\n",
        "        idx = self.front\n",
        "\n",
        "        for i in range(self.length):\n",
        "            print(self.que[idx], end = '|')\n",
        "            idx = (idx + 1) % self.max\n",
        "        print()\n"
      ],
      "metadata": {
        "id": "VmZ57ooydhW3"
      },
      "execution_count": null,
      "outputs": []
    },
    {
      "cell_type": "code",
      "source": [
        "# for i in range(15):\n",
        "#     print(i % 4, end = '')"
      ],
      "metadata": {
        "id": "PWqL1RUhfgWT"
      },
      "execution_count": null,
      "outputs": []
    },
    {
      "cell_type": "code",
      "source": [
        "c = Circle_queue()\n",
        "c.show()\n",
        "\n",
        "\n",
        "c.enqueue(10)\n",
        "c.enqueue(20)\n",
        "c.enqueue(30)\n",
        "c.enqueue(40)\n",
        "c.show()\n",
        "\n"
      ],
      "metadata": {
        "colab": {
          "base_uri": "https://localhost:8080/"
        },
        "id": "f3lxgNJOgbXW",
        "outputId": "b060fcb2-736a-4d5a-e9f0-be8c2ed39c6e"
      },
      "execution_count": null,
      "outputs": [
        {
          "output_type": "stream",
          "name": "stdout",
          "text": [
            "front: 0, rear: 0, length: 0\n",
            "\n",
            "front: 0, rear: 4, length: 4\n",
            "10|20|30|40|\n"
          ]
        }
      ]
    },
    {
      "cell_type": "code",
      "source": [
        "print(c.dequeue())\n",
        "c.show()"
      ],
      "metadata": {
        "colab": {
          "base_uri": "https://localhost:8080/"
        },
        "id": "TNBWvUyWgnQT",
        "outputId": "9ad03bc3-7208-4010-a048-9bd1d1ade37a"
      },
      "execution_count": null,
      "outputs": [
        {
          "output_type": "stream",
          "name": "stdout",
          "text": [
            "10\n",
            "front: 1, rear: 4, length: 3\n",
            "20|30|40|\n"
          ]
        }
      ]
    },
    {
      "cell_type": "code",
      "source": [
        "c.peek()"
      ],
      "metadata": {
        "id": "9kEYaOoFg7qw",
        "outputId": "e020a4ae-2361-4107-8375-3448efde3bf4",
        "colab": {
          "base_uri": "https://localhost:8080/"
        }
      },
      "execution_count": null,
      "outputs": [
        {
          "output_type": "execute_result",
          "data": {
            "text/plain": [
              "20"
            ]
          },
          "metadata": {},
          "execution_count": 70
        }
      ]
    }
  ]
}