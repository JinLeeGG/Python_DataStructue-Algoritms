{
  "nbformat": 4,
  "nbformat_minor": 0,
  "metadata": {
    "colab": {
      "provenance": [],
      "authorship_tag": "ABX9TyOm+kPiu91+qW2Xvy7hdZ5z",
      "include_colab_link": true
    },
    "kernelspec": {
      "name": "python3",
      "display_name": "Python 3"
    },
    "language_info": {
      "name": "python"
    }
  },
  "cells": [
    {
      "cell_type": "markdown",
      "metadata": {
        "id": "view-in-github",
        "colab_type": "text"
      },
      "source": [
        "<a href=\"https://colab.research.google.com/github/JinLeeGG/Python_DataStructue-Algoritms/blob/main/9.%20Algorithms/11_Sort_algorithm.ipynb\" target=\"_parent\"><img src=\"https://colab.research.google.com/assets/colab-badge.svg\" alt=\"Open In Colab\"/></a>"
      ]
    },
    {
      "cell_type": "code",
      "execution_count": null,
      "metadata": {
        "colab": {
          "base_uri": "https://localhost:8080/"
        },
        "id": "z5EmGwRWNsi2",
        "outputId": "50b9fd3e-5687-4819-a8d8-f71f366989f9"
      },
      "outputs": [
        {
          "output_type": "stream",
          "name": "stdout",
          "text": [
            "[3, 10, 5, 6, 8, 7, 4]\n",
            "[3, 4, 5, 6, 8, 7, 10]\n",
            "[3, 4, 5, 6, 8, 7, 10]\n",
            "[3, 4, 5, 6, 8, 7, 10]\n",
            "[3, 4, 5, 6, 7, 8, 10]\n",
            "[3, 4, 5, 6, 7, 8, 10]\n"
          ]
        }
      ],
      "source": [
        "# 1) 선택정렬\n",
        "def selection_sort(arr):\n",
        "    n = len(arr)\n",
        "    for i in range(n - 1):\n",
        "        min_idx = i\n",
        "        for j in range(i + 1, n):  # i + 1 ~ n~1 까지 반복\n",
        "            if arr[j] < arr[min_idx]:\n",
        "                min_idx = j\n",
        "        arr[i], arr[min_idx] = arr[min_idx], arr[i]\n",
        "        print(arr)\n",
        "\n",
        "arr = [5, 10, 3, 6, 8, 7, 4]\n",
        "selection_sort(arr)"
      ]
    },
    {
      "cell_type": "code",
      "source": [
        "# 2) 삽입정렬\n",
        "def insert_sort(arr):\n",
        "    n = len(arr)\n",
        "    for i in range(1, n):\n",
        "      j = i - 1\n",
        "      while j >= 0 and arr[j] > arr[j+1]:\n",
        "          arr[j], arr[j+1] = arr[j+1], arr[j]\n",
        "          # 다시 이전 위치로\n",
        "          j -= 1\n",
        "          print(arr)\n",
        "\n",
        "arr = [1, 3, 4, 5, 6, 7, 9, 2, 8]\n",
        "insert_sort(arr)\n",
        "print(arr)"
      ],
      "metadata": {
        "colab": {
          "base_uri": "https://localhost:8080/"
        },
        "id": "VAdpmtRORhue",
        "outputId": "6f19b79e-ea44-47d6-e0eb-c24fc5f60b19"
      },
      "execution_count": null,
      "outputs": [
        {
          "output_type": "stream",
          "name": "stdout",
          "text": [
            "[1, 3, 4, 5, 6, 7, 2, 9, 8]\n",
            "[1, 3, 4, 5, 6, 2, 7, 9, 8]\n",
            "[1, 3, 4, 5, 2, 6, 7, 9, 8]\n",
            "[1, 3, 4, 2, 5, 6, 7, 9, 8]\n",
            "[1, 3, 2, 4, 5, 6, 7, 9, 8]\n",
            "[1, 2, 3, 4, 5, 6, 7, 9, 8]\n",
            "[1, 2, 3, 4, 5, 6, 7, 8, 9]\n",
            "[1, 2, 3, 4, 5, 6, 7, 8, 9]\n"
          ]
        }
      ]
    }
  ]
}