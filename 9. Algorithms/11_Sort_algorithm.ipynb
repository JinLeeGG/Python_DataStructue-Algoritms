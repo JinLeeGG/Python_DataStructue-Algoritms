{
  "nbformat": 4,
  "nbformat_minor": 0,
  "metadata": {
    "colab": {
      "provenance": [],
      "authorship_tag": "ABX9TyOlB7qY2Wvi4DstZvNAmuag",
      "include_colab_link": true
    },
    "kernelspec": {
      "name": "python3",
      "display_name": "Python 3"
    },
    "language_info": {
      "name": "python"
    }
  },
  "cells": [
    {
      "cell_type": "markdown",
      "metadata": {
        "id": "view-in-github",
        "colab_type": "text"
      },
      "source": [
        "<a href=\"https://colab.research.google.com/github/JinLeeGG/Python_DataStructue-Algoritms/blob/main/9.%20Algorithms/11_Sort_algorithm.ipynb\" target=\"_parent\"><img src=\"https://colab.research.google.com/assets/colab-badge.svg\" alt=\"Open In Colab\"/></a>"
      ]
    },
    {
      "cell_type": "code",
      "execution_count": null,
      "metadata": {
        "colab": {
          "base_uri": "https://localhost:8080/"
        },
        "id": "z5EmGwRWNsi2",
        "outputId": "50b9fd3e-5687-4819-a8d8-f71f366989f9"
      },
      "outputs": [
        {
          "output_type": "stream",
          "name": "stdout",
          "text": [
            "[3, 10, 5, 6, 8, 7, 4]\n",
            "[3, 4, 5, 6, 8, 7, 10]\n",
            "[3, 4, 5, 6, 8, 7, 10]\n",
            "[3, 4, 5, 6, 8, 7, 10]\n",
            "[3, 4, 5, 6, 7, 8, 10]\n",
            "[3, 4, 5, 6, 7, 8, 10]\n"
          ]
        }
      ],
      "source": [
        "# 1) 선택정렬\n",
        "def selection_sort(arr):\n",
        "    n = len(arr)\n",
        "    for i in range(n - 1):\n",
        "        min_idx = i\n",
        "        for j in range(i + 1, n):  # i + 1 ~ n~1 까지 반복\n",
        "            if arr[j] < arr[min_idx]:\n",
        "                min_idx = j\n",
        "        arr[i], arr[min_idx] = arr[min_idx], arr[i]\n",
        "        print(arr)\n",
        "\n",
        "arr = [5, 10, 3, 6, 8, 7, 4]\n",
        "selection_sort(arr)"
      ]
    },
    {
      "cell_type": "code",
      "source": [
        "# 2) 삽입정렬\n",
        "def insert_sort(arr):\n",
        "    n = len(arr)\n",
        "    for i in range(1, n):\n",
        "      j = i - 1\n",
        "      while j >= 0 and arr[j] > arr[j+1]:\n",
        "          arr[j], arr[j+1] = arr[j+1], arr[j]\n",
        "          # 다시 이전 위치로\n",
        "          j -= 1\n",
        "          print(arr)\n",
        "\n",
        "arr = [1, 3, 4, 5, 6, 7, 9, 2, 8]\n",
        "insert_sort(arr)\n",
        "print(arr)"
      ],
      "metadata": {
        "colab": {
          "base_uri": "https://localhost:8080/"
        },
        "id": "VAdpmtRORhue",
        "outputId": "6f19b79e-ea44-47d6-e0eb-c24fc5f60b19"
      },
      "execution_count": null,
      "outputs": [
        {
          "output_type": "stream",
          "name": "stdout",
          "text": [
            "[1, 3, 4, 5, 6, 7, 2, 9, 8]\n",
            "[1, 3, 4, 5, 6, 2, 7, 9, 8]\n",
            "[1, 3, 4, 5, 2, 6, 7, 9, 8]\n",
            "[1, 3, 4, 2, 5, 6, 7, 9, 8]\n",
            "[1, 3, 2, 4, 5, 6, 7, 9, 8]\n",
            "[1, 2, 3, 4, 5, 6, 7, 9, 8]\n",
            "[1, 2, 3, 4, 5, 6, 7, 8, 9]\n",
            "[1, 2, 3, 4, 5, 6, 7, 8, 9]\n"
          ]
        }
      ]
    },
    {
      "cell_type": "code",
      "source": [
        "# 3) 버블정렬\n",
        "def bubble_sort(arr):\n",
        "    n = len(arr)\n",
        "    for i in range(n - 1):\n",
        "        for j in range(n - i - 1):\n",
        "            if arr[j] > arr[j+1]:\n",
        "                arr[j], arr[j+1] = arr[j+1], arr[j]\n",
        "                print(arr)\n",
        "\n",
        "\n",
        "\n",
        "arr = [5, 2, 1, 0, 4, 6]\n",
        "bubble_sort(arr)\n",
        "print(f\"최종결과: {arr}\")"
      ],
      "metadata": {
        "colab": {
          "base_uri": "https://localhost:8080/"
        },
        "id": "KQm78Or0CQkj",
        "outputId": "58e6c903-e691-44f9-d054-982935e3255e"
      },
      "execution_count": null,
      "outputs": [
        {
          "output_type": "stream",
          "name": "stdout",
          "text": [
            "[2, 5, 1, 0, 4, 6]\n",
            "[2, 1, 5, 0, 4, 6]\n",
            "[2, 1, 0, 5, 4, 6]\n",
            "[2, 1, 0, 4, 5, 6]\n",
            "[1, 2, 0, 4, 5, 6]\n",
            "[1, 0, 2, 4, 5, 6]\n",
            "[0, 1, 2, 4, 5, 6]\n",
            "최종결과: [0, 1, 2, 4, 5, 6]\n"
          ]
        }
      ]
    },
    {
      "cell_type": "code",
      "source": [
        "# 병합 정렬\n",
        "def merge_sort(arr):\n",
        "    if len(arr) > 1:\n",
        "        mid = len(arr) // 2\n",
        "        left_arr = arr[:mid]\n",
        "        right_arr = arr[mid:]\n",
        "\n",
        "        # 정복(재귀)\n",
        "        merge_sort(left_arr)\n",
        "        merge_sort(right_arr)\n",
        "\n",
        "        i = j = k = 0\n",
        "        while i < len(left_arr) and j < len(right_arr):\n",
        "            if left_arr[i] < right_arr[j]:\n",
        "                # 두개를 비교해서 작은 쪽을 k\n",
        "                arr[k] = left_arr[i]\n",
        "                # 다음 정렬로 반복\n",
        "                i += 1\n",
        "            else:\n",
        "                arr[k] = right_arr[j]\n",
        "                j += 1\n",
        "            k +=1\n",
        "\n",
        "        # 두 부분을 합친다\n",
        "        while i < len(left_arr):\n",
        "            arr[k] = left_arr[i]\n",
        "            i += 1\n",
        "            k += 1\n",
        "\n",
        "        while j < len(right_arr):\n",
        "            arr[k] = right_arr[j]\n",
        "            j += 1\n",
        "            k += 1\n",
        "\n",
        "        print(arr)\n"
      ],
      "metadata": {
        "id": "kpftNk8uCSA2"
      },
      "execution_count": 28,
      "outputs": []
    },
    {
      "cell_type": "code",
      "source": [
        "arr = [5,2,1,9,0,4,6]\n",
        "merge_sort(arr)"
      ],
      "metadata": {
        "colab": {
          "base_uri": "https://localhost:8080/"
        },
        "id": "lgi-JcBMES6W",
        "outputId": "e84616e4-b887-4ecb-d0d0-f7705b5f51ed"
      },
      "execution_count": 29,
      "outputs": [
        {
          "output_type": "stream",
          "name": "stdout",
          "text": [
            "[1, 2]\n",
            "[1, 2, 5]\n",
            "[0, 9]\n",
            "[4, 6]\n",
            "[0, 4, 6, 9]\n",
            "[0, 1, 2, 4, 5, 6, 9]\n"
          ]
        }
      ]
    },
    {
      "cell_type": "code",
      "source": [
        "def quick_sort(arr):\n",
        "    if len(arr) <= 1:\n",
        "        return arr\n",
        "\n",
        "    pivot = arr[len(arr) // 2]\n",
        "    left, right, equal = [], [], []\n",
        "\n",
        "    # 분할\n",
        "    for num in arr:\n",
        "        if num < pivot:\n",
        "            left.append(num)\n",
        "        elif num > pivot:\n",
        "            right.append(num)\n",
        "        else:\n",
        "            equal.append(num)\n",
        "\n",
        "    # 중간 결과값\n",
        "    print(f\"기준점 pivot : {pivot}\")\n",
        "    print(f\"작은 값 left : {left}\")\n",
        "    print(f\"큰 값 right : {right}\")\n",
        "    print(f\"같은 값 equal : {equal}\")\n",
        "    print(\"================================\")\n",
        "\n",
        "    sorted_arr = quick_sort(left) + equal + quick_sort(right)\n",
        "    return sorted_arr"
      ],
      "metadata": {
        "id": "aNyJvghYFJHQ"
      },
      "execution_count": 30,
      "outputs": []
    },
    {
      "cell_type": "code",
      "source": [
        "arr = [5, 2, 1, 9, 0, 4, 6]\n",
        "result = quick_sort(arr)\n",
        "print(f\"최종결과 : {result}\")\n",
        "\n"
      ],
      "metadata": {
        "colab": {
          "base_uri": "https://localhost:8080/"
        },
        "id": "O4KGO4-UHoFc",
        "outputId": "68b76ff5-303a-4015-d8cd-9d7fc5a95b67"
      },
      "execution_count": 32,
      "outputs": [
        {
          "output_type": "stream",
          "name": "stdout",
          "text": [
            "기준점 pivot : 9\n",
            "작은 값 left : [5, 2, 1, 0, 4, 6]\n",
            "큰 값 right : []\n",
            "같은 값 equal : [9]\n",
            "================================\n",
            "기준점 pivot : 0\n",
            "작은 값 left : []\n",
            "큰 값 right : [5, 2, 1, 4, 6]\n",
            "같은 값 equal : [0]\n",
            "================================\n",
            "기준점 pivot : 1\n",
            "작은 값 left : []\n",
            "큰 값 right : [5, 2, 4, 6]\n",
            "같은 값 equal : [1]\n",
            "================================\n",
            "기준점 pivot : 4\n",
            "작은 값 left : [2]\n",
            "큰 값 right : [5, 6]\n",
            "같은 값 equal : [4]\n",
            "================================\n",
            "기준점 pivot : 6\n",
            "작은 값 left : [5]\n",
            "큰 값 right : []\n",
            "같은 값 equal : [6]\n",
            "================================\n",
            "최종결과 : [0, 1, 2, 4, 5, 6, 9]\n"
          ]
        }
      ]
    },
    {
      "cell_type": "code",
      "source": [],
      "metadata": {
        "id": "kVOaN-sZIT_S"
      },
      "execution_count": null,
      "outputs": []
    }
  ]
}