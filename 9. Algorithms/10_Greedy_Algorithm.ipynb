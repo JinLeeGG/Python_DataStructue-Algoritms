{
  "nbformat": 4,
  "nbformat_minor": 0,
  "metadata": {
    "colab": {
      "provenance": [],
      "authorship_tag": "ABX9TyM/DSgAg9EKKNGWpYmY+SO3",
      "include_colab_link": true
    },
    "kernelspec": {
      "name": "python3",
      "display_name": "Python 3"
    },
    "language_info": {
      "name": "python"
    }
  },
  "cells": [
    {
      "cell_type": "markdown",
      "metadata": {
        "id": "view-in-github",
        "colab_type": "text"
      },
      "source": [
        "<a href=\"https://colab.research.google.com/github/JinLeeGG/Python_DataStructue-Algoritms/blob/main/9.%20Algorithms/10_Greedy_Algorithm.ipynb\" target=\"_parent\"><img src=\"https://colab.research.google.com/assets/colab-badge.svg\" alt=\"Open In Colab\"/></a>"
      ]
    },
    {
      "cell_type": "code",
      "execution_count": null,
      "metadata": {
        "colab": {
          "base_uri": "https://localhost:8080/"
        },
        "id": "0qpZ4OQmEDmg",
        "outputId": "6dec703c-80e2-474f-8d2d-8da3d661c330"
      },
      "outputs": [
        {
          "output_type": "stream",
          "name": "stdout",
          "text": [
            "4720원일때, 동전으로 동전수가 가장 적게 지불하는 방법: \n",
            "\n",
            "오백원: 9개\n",
            "백원: 2개\n",
            "오십원: 0개\n",
            "십원: 2개\n"
          ]
        }
      ],
      "source": [
        "# My answer:\n",
        "\n",
        "# 탐욕 알고리즘(Greedy Algorithm)\n",
        "# 동전 문제\n",
        "# 1원, 50원, 100원, 500원\n",
        "# 위에 동전으로 동전수가 가장 적게 지불하는 방법\n",
        "\n",
        "# 4720원\n",
        "\n",
        "def solution(n):\n",
        "    currency = [10, 50, 100, 500]\n",
        "\n",
        "    d = n\n",
        "\n",
        "    five = 0\n",
        "    hundred = 0\n",
        "    fifty = 0\n",
        "    ten = 0\n",
        "\n",
        "    while True:\n",
        "      if n - 500 >= 0:\n",
        "         five += 1\n",
        "         n = n - 500\n",
        "      else:\n",
        "        break\n",
        "\n",
        "    while True:\n",
        "      if n - 100 >= 0:\n",
        "         hundred += 1\n",
        "         n = n - 100\n",
        "      else:\n",
        "        break\n",
        "\n",
        "    while True:\n",
        "      if n - 50 >= 0:\n",
        "         fifty += 1\n",
        "         n = n - 50\n",
        "      else:\n",
        "        break\n",
        "\n",
        "    while True:\n",
        "      if n - 10 >= 0:\n",
        "         ten += 1\n",
        "         n = n - 10\n",
        "      else:\n",
        "        break\n",
        "\n",
        "    print(f\"{d}원일때, 동전으로 동전수가 가장 적게 지불하는 방법: \\n\")\n",
        "    print(f\"오백원: {five}개\")\n",
        "    print(f\"백원: {hundred}개\")\n",
        "    print(f\"오십원: {fifty}개\")\n",
        "    print(f\"십원: {ten}개\")\n",
        "\n",
        "\n",
        "solution(4720)\n"
      ]
    },
    {
      "cell_type": "code",
      "source": [
        "# 탐욕 알고리즘(Greedy Algorithm)\n",
        "# 동전 문제\n",
        "# 1원, 50원, 100원, 500원\n",
        "# 위에 동전으로 동전수가 가장 적게 지불하는 방법\n",
        "\n",
        "# 4720원, 5000, 6290원\n",
        "# 1. 큰 동전으로 먼저 나눈다. (몫, 나머지)\n",
        "# 2. 나머지를 버리면 안된다.\n",
        "# 3. 다음 동전으로 나눈다. (몫, 나머지)\n",
        "\n",
        "coin_list = [1, 50, 100, 500]\n",
        "def min_coin_count(value, coin_list):\n",
        "    total_coin_count = 0\n",
        "    details = list()\n",
        "    coin_list.sort(reverse = True) # 가장 큰 값부터 인덱스 0으로 정렬\n",
        "\n",
        "    for coin in coin_list:\n",
        "        coin_num = value // coin      #몪\n",
        "        total_coin_count += coin_num\n",
        "        # value = value % coin\n",
        "        value -= coin_num * coin         # 나머지값\n",
        "        details.append([coin, coin_num])\n",
        "\n",
        "    return total_coin_count, details\n",
        "\n",
        "\n",
        "min_coin_count(4720, coin_list)\n"
      ],
      "metadata": {
        "colab": {
          "base_uri": "https://localhost:8080/"
        },
        "id": "SjO6gNQpLCfX",
        "outputId": "da538439-c8e2-4eb2-ce9a-d436fb9840c5"
      },
      "execution_count": null,
      "outputs": [
        {
          "output_type": "execute_result",
          "data": {
            "text/plain": [
              "(31, [[500, 9], [100, 2], [50, 0], [1, 20]])"
            ]
          },
          "metadata": {},
          "execution_count": 30
        }
      ]
    },
    {
      "cell_type": "code",
      "source": [],
      "metadata": {
        "id": "wzt2v3EPNo5U"
      },
      "execution_count": null,
      "outputs": []
    }
  ]
}