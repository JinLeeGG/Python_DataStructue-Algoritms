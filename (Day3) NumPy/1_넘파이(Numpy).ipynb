{
  "nbformat": 4,
  "nbformat_minor": 0,
  "metadata": {
    "colab": {
      "provenance": [],
      "authorship_tag": "ABX9TyNuf+FOGd+u69oi7pi9opsX",
      "include_colab_link": true
    },
    "kernelspec": {
      "name": "python3",
      "display_name": "Python 3"
    },
    "language_info": {
      "name": "python"
    }
  },
  "cells": [
    {
      "cell_type": "markdown",
      "metadata": {
        "id": "view-in-github",
        "colab_type": "text"
      },
      "source": [
        "<a href=\"https://colab.research.google.com/github/JinLeeGG/Python_DataStructue-Algoritms/blob/main/(Day03)%20NumPy/1_%EB%84%98%ED%8C%8C%EC%9D%B4(Numpy).ipynb\" target=\"_parent\"><img src=\"https://colab.research.google.com/assets/colab-badge.svg\" alt=\"Open In Colab\"/></a>"
      ]
    },
    {
      "cell_type": "markdown",
      "source": [
        "# 넘파이 (Numpy)\n",
        "    - 파이썬을 활용한 데이터 분석에서 가장 기본이되는 라이브러리\n",
        "    - 넘파이로만으로도 많이 사용되지만, 판다스(Pandas), 머신러닝 등 수 많은 분야에서 기본적으로 사용되므로, 파이썬 개발자라면 필수로 알아야하는 라이브러리이다.\n",
        "    - https://numpy.org/\n",
        "\n",
        "### 1) 수학 수치 연산\n",
        "    - 합, 평균, 행렬연산 등이 가능하다\n",
        "\n",
        "### 2) 기본 타입\n",
        "    - ndarray(n-dimenstional array) 다차원 배열의 표연이 가능하다\n",
        "\n",
        "### 3) 파이썬 list가 있음에도 필요한 이유\n",
        "    - 성능 : 성능적으로 훨씬 빠르다.\n",
        "    - 메모리 : 적은 메모리를 사용한다\n",
        "    - 제공함수 : 선형대수, 통계관련 여러 수치 함수를 제공한다.\n",
        "    - 그 외 수많은 모듈에서 numpy 함수명과 기능을 그대로 사용한다.\n",
        "\n"
      ],
      "metadata": {
        "id": "gCdJ_tc62W3P"
      }
    },
    {
      "cell_type": "markdown",
      "source": [
        "<img width=\"500\" src=\"https://raw.githubusercontent.com/mrdbourke/tensorflow-deep-learning/main/images/00-scalar-vector-matrix-tensor.png\" />\n",
        "\n",
        "    - Scalar: 0차원 array(단일값)\n",
        "    - Vector : 1차원 array\n",
        "    - Matrix : 2차원 array\n",
        "    - Tensor : 3차원(이상) array"
      ],
      "metadata": {
        "id": "eSMCyVB1DDHc"
      }
    },
    {
      "cell_type": "code",
      "source": [
        "import numpy as np"
      ],
      "metadata": {
        "id": "SRmyA9m6Dgcu"
      },
      "execution_count": null,
      "outputs": []
    },
    {
      "cell_type": "code",
      "source": [
        "# 1차원 array(백터) 생성\n",
        "# np.array(iterable)\n",
        "\n",
        "arr1 = np.array([1,2,3])\n",
        "arr2 = np.array([5,6,7])"
      ],
      "metadata": {
        "id": "U4EcBnR3DzYR"
      },
      "execution_count": null,
      "outputs": []
    },
    {
      "cell_type": "code",
      "source": [
        "# __repr__ : represent호출 (미리보기)\n",
        "arr1"
      ],
      "metadata": {
        "colab": {
          "base_uri": "https://localhost:8080/"
        },
        "id": "TbtKW01IEPNK",
        "outputId": "f5c7d3aa-b930-4f4b-99d3-8d73a682a1d4"
      },
      "execution_count": null,
      "outputs": [
        {
          "output_type": "execute_result",
          "data": {
            "text/plain": [
              "array([1, 2, 3])"
            ]
          },
          "metadata": {},
          "execution_count": 8
        }
      ]
    },
    {
      "cell_type": "code",
      "source": [
        "print(type(arr1))"
      ],
      "metadata": {
        "colab": {
          "base_uri": "https://localhost:8080/"
        },
        "id": "BGKZyaqPF0m_",
        "outputId": "886f5ea3-5de4-476c-9eed-afe9c33854cc"
      },
      "execution_count": null,
      "outputs": [
        {
          "output_type": "stream",
          "name": "stdout",
          "text": [
            "<class 'numpy.ndarray'>\n"
          ]
        }
      ]
    },
    {
      "cell_type": "code",
      "source": [
        "# __str__ : String호출\n",
        "print(arr1)"
      ],
      "metadata": {
        "colab": {
          "base_uri": "https://localhost:8080/"
        },
        "id": "ftlFzVXREQzQ",
        "outputId": "ef74c004-357c-487f-e10f-e63e1179c332"
      },
      "execution_count": null,
      "outputs": [
        {
          "output_type": "stream",
          "name": "stdout",
          "text": [
            "[1 2 3]\n"
          ]
        }
      ]
    },
    {
      "cell_type": "code",
      "source": [
        "# 0차원 : Scalar\n",
        "# np.array(10)\n",
        "print(np.array(10))"
      ],
      "metadata": {
        "colab": {
          "base_uri": "https://localhost:8080/"
        },
        "id": "3bsNIOPhHN2J",
        "outputId": "c22a57a0-31aa-48b1-a606-1adae9bbf858"
      },
      "execution_count": null,
      "outputs": [
        {
          "output_type": "stream",
          "name": "stdout",
          "text": [
            "10\n"
          ]
        }
      ]
    },
    {
      "cell_type": "markdown",
      "source": [
        "## 타입 승격\n",
        "    - array는 모든 원소가 '한 가지 타입' 으로 정의해야 한다.\n",
        "    - 모든 타입 중 가장 큰 타입으로 강제로 변환한다.\n"
      ],
      "metadata": {
        "id": "w0RENDmuIb-i"
      }
    },
    {
      "cell_type": "markdown",
      "source": [],
      "metadata": {
        "id": "SoYOBUyiIbUl"
      }
    },
    {
      "cell_type": "code",
      "source": [
        "# List\n",
        "\n",
        "li1 =  [1, 2, True, '김', 5.5]\n",
        "print(li1)\n",
        "print(type(li1))\n",
        "\n",
        "# 타입 승격\n",
        "arr1 = np.array([1, 2, True, '김', 5.5])\n",
        "print(arr1)\n",
        "print(type(arr1))\n"
      ],
      "metadata": {
        "colab": {
          "base_uri": "https://localhost:8080/"
        },
        "id": "ajfbbqrSHcuB",
        "outputId": "348165bc-58ed-466e-96b1-cb3736ff9365"
      },
      "execution_count": null,
      "outputs": [
        {
          "output_type": "stream",
          "name": "stdout",
          "text": [
            "[1, 2, True, '김', 5.5]\n",
            "<class 'list'>\n",
            "['1' '2' 'True' '김' '5.5']\n",
            "<class 'numpy.ndarray'>\n"
          ]
        }
      ]
    },
    {
      "cell_type": "code",
      "source": [
        "# 정수와 실수가 포함되어 있음으로 실수 타입으로 타입 승격한다.\n",
        "np.array([1,1,5,5.5,5])"
      ],
      "metadata": {
        "colab": {
          "base_uri": "https://localhost:8080/"
        },
        "id": "SVeQVnKLIpfw",
        "outputId": "96094677-621f-49d8-84d1-1adac9353059"
      },
      "execution_count": null,
      "outputs": [
        {
          "output_type": "execute_result",
          "data": {
            "text/plain": [
              "array([1. , 1. , 5. , 5.5, 5. ])"
            ]
          },
          "metadata": {},
          "execution_count": 18
        }
      ]
    },
    {
      "cell_type": "markdown",
      "source": [
        "## numpy 필드"
      ],
      "metadata": {
        "id": "09YrSwaLI4V1"
      }
    },
    {
      "cell_type": "code",
      "source": [
        "arr3 = np.array([1,2,3,4,5])\n",
        "arr3"
      ],
      "metadata": {
        "colab": {
          "base_uri": "https://localhost:8080/"
        },
        "id": "AYM-g-meI75L",
        "outputId": "c5155738-c790-4ae0-d1a0-4251973d6414"
      },
      "execution_count": null,
      "outputs": [
        {
          "output_type": "execute_result",
          "data": {
            "text/plain": [
              "array([1, 2, 3, 4, 5])"
            ]
          },
          "metadata": {},
          "execution_count": 19
        }
      ]
    },
    {
      "cell_type": "markdown",
      "source": [
        "### shape\n",
        "    - numpy에서는 해당 array의 크기를 알 수 있다. shape를 확인함으로서 몇개의 데이터가 있는지 몇 차원으로 존재하는지 확인할 수 있다.\n",
        "    - arr.shape의 경과는 튜플로 (행, 열)로 행만 존재하면 1차원, 행렬이 존재하면 2차원으로 차수를 알 수 있다. 또한 행*열을 곱하면 크기도 확인할 수 있다.\n",
        "\n"
      ],
      "metadata": {
        "id": "UHcD8SigJIqd"
      }
    },
    {
      "cell_type": "code",
      "source": [
        "arr3.shape"
      ],
      "metadata": {
        "colab": {
          "base_uri": "https://localhost:8080/"
        },
        "id": "l-hB8jtLJG0N",
        "outputId": "bee3a93e-b529-43fb-b1fc-59a6915a408f"
      },
      "execution_count": null,
      "outputs": [
        {
          "output_type": "execute_result",
          "data": {
            "text/plain": [
              "(5,)"
            ]
          },
          "metadata": {},
          "execution_count": 20
        }
      ]
    },
    {
      "cell_type": "markdown",
      "source": [
        "### mdim\n",
        "    - 몇 차원 데이터인지 확인할 수 있는 필드\n"
      ],
      "metadata": {
        "id": "9URDX5dDKRH_"
      }
    },
    {
      "cell_type": "code",
      "source": [
        "# len(arr3.shape) 와 같다.\n",
        "arr3.ndim"
      ],
      "metadata": {
        "colab": {
          "base_uri": "https://localhost:8080/"
        },
        "id": "7LGbVSVSKYTu",
        "outputId": "f49ab8f2-ad95-41c5-ae2e-1fe77d721e1c"
      },
      "execution_count": null,
      "outputs": [
        {
          "output_type": "execute_result",
          "data": {
            "text/plain": [
              "1"
            ]
          },
          "metadata": {},
          "execution_count": 23
        }
      ]
    },
    {
      "cell_type": "markdown",
      "source": [
        "### size\n",
        "  - 데이터의 개수"
      ],
      "metadata": {
        "id": "RmNco7GMKmhr"
      }
    },
    {
      "cell_type": "code",
      "source": [
        "arr3.size"
      ],
      "metadata": {
        "colab": {
          "base_uri": "https://localhost:8080/"
        },
        "id": "e9gulGb_Kpih",
        "outputId": "0ed4d7e2-12ff-4477-bd87-7ad4398033a0"
      },
      "execution_count": null,
      "outputs": [
        {
          "output_type": "execute_result",
          "data": {
            "text/plain": [
              "5"
            ]
          },
          "metadata": {},
          "execution_count": 24
        }
      ]
    },
    {
      "cell_type": "markdown",
      "source": [
        "### len()\n",
        "  - array는 iterable한 객체이다. 따라서 길이를 셀 수 있다."
      ],
      "metadata": {
        "id": "IvJ69U9EK2jW"
      }
    },
    {
      "cell_type": "code",
      "source": [
        "len(arr3)"
      ],
      "metadata": {
        "colab": {
          "base_uri": "https://localhost:8080/"
        },
        "id": "poA_Eq4dK0PJ",
        "outputId": "d9ada7e4-00cc-4e3d-9f6e-8e60353435ee"
      },
      "execution_count": null,
      "outputs": [
        {
          "output_type": "execute_result",
          "data": {
            "text/plain": [
              "5"
            ]
          },
          "metadata": {},
          "execution_count": 26
        }
      ]
    },
    {
      "cell_type": "markdown",
      "source": [
        "### dtype\n",
        "  - 데이터의 타입\n",
        "  "
      ],
      "metadata": {
        "id": "971vs93hLDhB"
      }
    },
    {
      "cell_type": "code",
      "source": [
        "# 정수는 8byte 이다.\n",
        "arr3.dtype"
      ],
      "metadata": {
        "colab": {
          "base_uri": "https://localhost:8080/"
        },
        "id": "AxnMmIZ8LHgQ",
        "outputId": "3940a30a-fb5b-49aa-8d43-7b6090f33535"
      },
      "execution_count": null,
      "outputs": [
        {
          "output_type": "execute_result",
          "data": {
            "text/plain": [
              "dtype('int64')"
            ]
          },
          "metadata": {},
          "execution_count": 27
        }
      ]
    },
    {
      "cell_type": "markdown",
      "source": [],
      "metadata": {
        "id": "1Ew5JfQLLOsa"
      }
    },
    {
      "cell_type": "markdown",
      "source": [
        "##  numpy의 자료형\n",
        "    - 부호가 있는 정수 int(8, 16, 32, 64)\n",
        "    - 부호가 없는 정수 uint(8, 16, 32, 64)\n",
        "    - 실수 float(16, 32, 64, 128)\n",
        "    - x복소수 complex(64, 128 256)\n",
        "    - 불리언 bool\n",
        "    - x 문자열 string_\n",
        "    - x 파이썬 오브젝트 object\n",
        "    - x 유니코드 unicode_"
      ],
      "metadata": {
        "id": "1Mgys1xHLyMz"
      }
    },
    {
      "cell_type": "markdown",
      "source": [
        "## 2차원 array 생성"
      ],
      "metadata": {
        "id": "n2-Sx1DZMwn2"
      }
    },
    {
      "cell_type": "code",
      "source": [
        "arr5 = np.array([1,2,3,4])\n",
        "arr6 = np.array([[5,6,7,8], [9,10,11,12]])"
      ],
      "metadata": {
        "id": "eLROydW2Lww0"
      },
      "execution_count": null,
      "outputs": []
    },
    {
      "cell_type": "code",
      "source": [
        "arr5"
      ],
      "metadata": {
        "colab": {
          "base_uri": "https://localhost:8080/"
        },
        "id": "LewoBPDFNCKQ",
        "outputId": "e8edf829-ba26-40ee-e53f-46be5262ea4e"
      },
      "execution_count": null,
      "outputs": [
        {
          "output_type": "execute_result",
          "data": {
            "text/plain": [
              "array([1, 2, 3, 4])"
            ]
          },
          "metadata": {},
          "execution_count": 29
        }
      ]
    },
    {
      "cell_type": "code",
      "source": [
        "arr6"
      ],
      "metadata": {
        "colab": {
          "base_uri": "https://localhost:8080/"
        },
        "id": "DDFgodDYNEkH",
        "outputId": "59d54c8d-65fe-4c03-ab7b-a27a8fcf938f"
      },
      "execution_count": null,
      "outputs": [
        {
          "output_type": "execute_result",
          "data": {
            "text/plain": [
              "array([[ 5,  6,  7,  8],\n",
              "       [ 9, 10, 11, 12]])"
            ]
          },
          "metadata": {},
          "execution_count": 31
        }
      ]
    },
    {
      "cell_type": "code",
      "source": [
        "print(arr6.shape)\n",
        "arr6"
      ],
      "metadata": {
        "colab": {
          "base_uri": "https://localhost:8080/"
        },
        "id": "hOqeRPAdNG2E",
        "outputId": "d0394a8b-aa36-403a-d48b-aa6880be888c"
      },
      "execution_count": null,
      "outputs": [
        {
          "output_type": "stream",
          "name": "stdout",
          "text": [
            "(2, 4)\n"
          ]
        },
        {
          "output_type": "execute_result",
          "data": {
            "text/plain": [
              "array([[ 5,  6,  7,  8],\n",
              "       [ 9, 10, 11, 12]])"
            ]
          },
          "metadata": {},
          "execution_count": 34
        }
      ]
    },
    {
      "cell_type": "code",
      "source": [
        "arr6.ndim"
      ],
      "metadata": {
        "colab": {
          "base_uri": "https://localhost:8080/"
        },
        "id": "a5ojjMR0NaUR",
        "outputId": "cb8743a3-675a-46da-9cc3-d432828a803f"
      },
      "execution_count": null,
      "outputs": [
        {
          "output_type": "execute_result",
          "data": {
            "text/plain": [
              "2"
            ]
          },
          "metadata": {},
          "execution_count": 35
        }
      ]
    },
    {
      "cell_type": "code",
      "source": [
        "arr6.size"
      ],
      "metadata": {
        "colab": {
          "base_uri": "https://localhost:8080/"
        },
        "id": "MmZwi2GyNcP0",
        "outputId": "20264a16-87df-426c-85bf-21cea357fe67"
      },
      "execution_count": null,
      "outputs": [
        {
          "output_type": "execute_result",
          "data": {
            "text/plain": [
              "8"
            ]
          },
          "metadata": {},
          "execution_count": 36
        }
      ]
    },
    {
      "cell_type": "markdown",
      "source": [
        "## 3차원 array"
      ],
      "metadata": {
        "id": "SESMHhVSNlPH"
      }
    },
    {
      "cell_type": "code",
      "source": [
        "arr7 = np.array([\n",
        "          [\n",
        "              [10, 20, 30, 40],\n",
        "              [50, 60, 70, 80],\n",
        "              [90, 100, 110, 120],\n",
        "          ],\n",
        "          [\n",
        "              [100, 200, 300, 400],\n",
        "              [500, 600, 700, 800],\n",
        "              [90, 1000, 1100, 1200],\n",
        "          ]\n",
        "      ])"
      ],
      "metadata": {
        "id": "pTheIFhBNeNT"
      },
      "execution_count": null,
      "outputs": []
    },
    {
      "cell_type": "code",
      "source": [
        "# 숫자가 3개니까 3차원\n",
        "# 2*3*4 24 size\n",
        "arr7.shape"
      ],
      "metadata": {
        "colab": {
          "base_uri": "https://localhost:8080/"
        },
        "id": "Uhnb354uOd0y",
        "outputId": "376635a6-5f92-4ef7-e887-c418c76545a9"
      },
      "execution_count": null,
      "outputs": [
        {
          "output_type": "execute_result",
          "data": {
            "text/plain": [
              "(2, 3, 4)"
            ]
          },
          "metadata": {},
          "execution_count": 40
        }
      ]
    },
    {
      "cell_type": "code",
      "source": [
        "arr7.size"
      ],
      "metadata": {
        "colab": {
          "base_uri": "https://localhost:8080/"
        },
        "id": "CEG-Nc2mO0xP",
        "outputId": "25a5647a-a2a9-40dd-87d9-4b0a085d99f6"
      },
      "execution_count": null,
      "outputs": [
        {
          "output_type": "execute_result",
          "data": {
            "text/plain": [
              "24"
            ]
          },
          "metadata": {},
          "execution_count": 41
        }
      ]
    },
    {
      "cell_type": "code",
      "source": [
        "arr7.ndim"
      ],
      "metadata": {
        "colab": {
          "base_uri": "https://localhost:8080/"
        },
        "id": "eM03uBpQO2rR",
        "outputId": "4ee9dd2b-0e73-4a28-affd-0eb11f5bd7a7"
      },
      "execution_count": null,
      "outputs": [
        {
          "output_type": "execute_result",
          "data": {
            "text/plain": [
              "3"
            ]
          },
          "metadata": {},
          "execution_count": 42
        }
      ]
    },
    {
      "cell_type": "markdown",
      "source": [
        "## 같은 값이라도 차원이 다를 수 있다.\n",
        "    - \"차원 변환\" 이 중요하다."
      ],
      "metadata": {
        "id": "IFXGg7haO8bm"
      }
    },
    {
      "cell_type": "code",
      "source": [
        "np.array(10)"
      ],
      "metadata": {
        "colab": {
          "base_uri": "https://localhost:8080/"
        },
        "id": "LorlMeK5PB4s",
        "outputId": "cb9b6304-5d58-45a6-892d-26490bf9a51b"
      },
      "execution_count": null,
      "outputs": [
        {
          "output_type": "execute_result",
          "data": {
            "text/plain": [
              "array(10)"
            ]
          },
          "metadata": {},
          "execution_count": 43
        }
      ]
    },
    {
      "cell_type": "code",
      "source": [
        "np.array([10])"
      ],
      "metadata": {
        "colab": {
          "base_uri": "https://localhost:8080/"
        },
        "id": "MjFRfXFuPE87",
        "outputId": "c111e7a7-dddf-4038-e7e3-2cdba443b175"
      },
      "execution_count": null,
      "outputs": [
        {
          "output_type": "execute_result",
          "data": {
            "text/plain": [
              "array([10])"
            ]
          },
          "metadata": {},
          "execution_count": 44
        }
      ]
    },
    {
      "cell_type": "code",
      "source": [
        "np.array([[10]])"
      ],
      "metadata": {
        "colab": {
          "base_uri": "https://localhost:8080/"
        },
        "id": "_XFg8G61PMDm",
        "outputId": "5b0ab7e9-4535-434c-d0c7-e8c7bdfe22d7"
      },
      "execution_count": null,
      "outputs": [
        {
          "output_type": "execute_result",
          "data": {
            "text/plain": [
              "array([[10]])"
            ]
          },
          "metadata": {},
          "execution_count": 45
        }
      ]
    },
    {
      "cell_type": "code",
      "source": [
        "np.array([[[10]]])"
      ],
      "metadata": {
        "colab": {
          "base_uri": "https://localhost:8080/"
        },
        "id": "kmKIqHA1PPNM",
        "outputId": "bb8934e7-e258-4c10-aa43-c9705f058da3"
      },
      "execution_count": null,
      "outputs": [
        {
          "output_type": "execute_result",
          "data": {
            "text/plain": [
              "array([[[10]]])"
            ]
          },
          "metadata": {},
          "execution_count": 46
        }
      ]
    },
    {
      "cell_type": "markdown",
      "source": [
        "## np.arange\n",
        "  - range()와 유사하다\n"
      ],
      "metadata": {
        "id": "hEkBZGovPV_H"
      }
    },
    {
      "cell_type": "code",
      "source": [
        "np.arange(10)"
      ],
      "metadata": {
        "colab": {
          "base_uri": "https://localhost:8080/"
        },
        "id": "VoiMu_43Ph6N",
        "outputId": "1c991530-728f-4c7c-dc22-169ae74dc8f5"
      },
      "execution_count": null,
      "outputs": [
        {
          "output_type": "execute_result",
          "data": {
            "text/plain": [
              "array([0, 1, 2, 3, 4, 5, 6, 7, 8, 9])"
            ]
          },
          "metadata": {},
          "execution_count": 47
        }
      ]
    },
    {
      "cell_type": "code",
      "source": [
        "np.arange(0, 10)"
      ],
      "metadata": {
        "colab": {
          "base_uri": "https://localhost:8080/"
        },
        "id": "bt4dDoM6Psf2",
        "outputId": "dcc2b2f9-c674-464e-c6fb-8b980dac2356"
      },
      "execution_count": null,
      "outputs": [
        {
          "output_type": "execute_result",
          "data": {
            "text/plain": [
              "array([0, 1, 2, 3, 4, 5, 6, 7, 8, 9])"
            ]
          },
          "metadata": {},
          "execution_count": 48
        }
      ]
    },
    {
      "cell_type": "code",
      "source": [
        "np.arange(0, 10, 2)"
      ],
      "metadata": {
        "colab": {
          "base_uri": "https://localhost:8080/"
        },
        "id": "aS1nEXjQPw47",
        "outputId": "2c383a01-ad76-43fe-915b-58261a5a8efe"
      },
      "execution_count": null,
      "outputs": [
        {
          "output_type": "execute_result",
          "data": {
            "text/plain": [
              "array([0, 2, 4, 6, 8])"
            ]
          },
          "metadata": {},
          "execution_count": 49
        }
      ]
    },
    {
      "cell_type": "code",
      "source": [
        "#numpy에 dtype을 붙여주면 그 타입으로 변경된다.\n",
        "# np.arange(10, 0, -1, dtype=np.int16)\n",
        "np.arange(10, 0, -1, dtype=np.int16).dtype\n"
      ],
      "metadata": {
        "colab": {
          "base_uri": "https://localhost:8080/"
        },
        "id": "vrAzrXtEP5Oh",
        "outputId": "22d6f3f3-5d79-4557-fb8e-a3f8548d51b8"
      },
      "execution_count": null,
      "outputs": [
        {
          "output_type": "execute_result",
          "data": {
            "text/plain": [
              "dtype('int16')"
            ]
          },
          "metadata": {},
          "execution_count": 54
        }
      ]
    },
    {
      "cell_type": "code",
      "source": [
        "#다른 타입으로 어레이를 복제하려면?\n",
        "ar1 = np.arange(3,10)\n",
        "ar1.dtype"
      ],
      "metadata": {
        "colab": {
          "base_uri": "https://localhost:8080/"
        },
        "id": "0OXBPxrKQY0M",
        "outputId": "efa32296-4ab5-4d57-b125-b759693a6259"
      },
      "execution_count": null,
      "outputs": [
        {
          "output_type": "execute_result",
          "data": {
            "text/plain": [
              "dtype('int64')"
            ]
          },
          "metadata": {},
          "execution_count": 58
        }
      ]
    },
    {
      "cell_type": "markdown",
      "source": [
        "## astype(타입)\n",
        "    - 타입 변환한 array를 리턴(복제)\n",
        "    - 원본 배열은 변화가 없다"
      ],
      "metadata": {
        "id": "v_rBYpfdRFtr"
      }
    },
    {
      "cell_type": "code",
      "source": [
        "ar1_copy = ar1.astype(np.float32)\n",
        "#오리지널 데이터는 안건드린다\n",
        "print(ar1.dtype)\n",
        "print(ar1)\n",
        "#클론한 값만 변형된다.\n",
        "print(ar1_copy.dtype)\n",
        "print(ar1_copy)"
      ],
      "metadata": {
        "colab": {
          "base_uri": "https://localhost:8080/"
        },
        "id": "U4msCq6EQkSh",
        "outputId": "040f6e01-962e-4673-f7cd-317aee81e159"
      },
      "execution_count": null,
      "outputs": [
        {
          "output_type": "stream",
          "name": "stdout",
          "text": [
            "int64\n",
            "[3 4 5 6 7 8 9]\n",
            "float32\n",
            "[3. 4. 5. 6. 7. 8. 9.]\n"
          ]
        }
      ]
    },
    {
      "cell_type": "markdown",
      "source": [
        "## reshape()\n",
        "    - ndarray의 형태, 차원을 바꾸기 위해 사용한다.\n",
        "    - 머신러닝, 데이터 프로세싱에서 매우 자주 사용되는 차원 변환."
      ],
      "metadata": {
        "id": "MfnqN83ZRmUE"
      }
    },
    {
      "cell_type": "code",
      "source": [
        "np.arange(12).reshape(2, 6)\n",
        "\n",
        "#사이즈가 맞지 않아서 에러\n",
        "# np.arange(12).reshape(2, 4)"
      ],
      "metadata": {
        "colab": {
          "base_uri": "https://localhost:8080/"
        },
        "id": "k4XN3nheT2C5",
        "outputId": "02b79547-665f-4cc7-f5f1-a770965e8263"
      },
      "execution_count": null,
      "outputs": [
        {
          "output_type": "execute_result",
          "data": {
            "text/plain": [
              "array([[ 0,  1,  2,  3,  4,  5],\n",
              "       [ 6,  7,  8,  9, 10, 11]])"
            ]
          },
          "metadata": {},
          "execution_count": 72
        }
      ]
    },
    {
      "cell_type": "code",
      "source": [
        "# 3차원\n",
        "print(np.arange(12).reshape(3, 2, 2).shape)\n",
        "np.arange(12).reshape(3, 2, 2)"
      ],
      "metadata": {
        "colab": {
          "base_uri": "https://localhost:8080/"
        },
        "id": "rxFQSsoEUtJ6",
        "outputId": "ad03a5cb-f086-4410-fb04-60a9879455fd"
      },
      "execution_count": null,
      "outputs": [
        {
          "output_type": "stream",
          "name": "stdout",
          "text": [
            "(3, 2, 2)\n"
          ]
        },
        {
          "output_type": "execute_result",
          "data": {
            "text/plain": [
              "array([[[ 0,  1],\n",
              "        [ 2,  3]],\n",
              "\n",
              "       [[ 4,  5],\n",
              "        [ 6,  7]],\n",
              "\n",
              "       [[ 8,  9],\n",
              "        [10, 11]]])"
            ]
          },
          "metadata": {},
          "execution_count": 74
        }
      ]
    },
    {
      "cell_type": "markdown",
      "source": [
        "## np.ones, np.zeros\n",
        "    - array의 초기값을 설정\n",
        "    - 1로 채울껀지(ones) 0으로 채울껀지(zeros)"
      ],
      "metadata": {
        "id": "xoqhL7NjVHtL"
      }
    },
    {
      "cell_type": "code",
      "source": [
        "np.ones(5)\n",
        "np.ones(5, dtype=np.int16)"
      ],
      "metadata": {
        "colab": {
          "base_uri": "https://localhost:8080/"
        },
        "id": "ebWjS8E4VnnV",
        "outputId": "1fea8bf1-9d3e-41f1-812e-16cfb707bb26"
      },
      "execution_count": null,
      "outputs": [
        {
          "output_type": "execute_result",
          "data": {
            "text/plain": [
              "array([1, 1, 1, 1, 1], dtype=int16)"
            ]
          },
          "metadata": {},
          "execution_count": 75
        }
      ]
    },
    {
      "cell_type": "code",
      "source": [
        "np.ones(6, dtype=np.int8).reshape(2, 3)\n"
      ],
      "metadata": {
        "colab": {
          "base_uri": "https://localhost:8080/"
        },
        "id": "wU7XLgjeVuk9",
        "outputId": "9b9f16b9-7809-4e9a-9443-6bae40716697"
      },
      "execution_count": null,
      "outputs": [
        {
          "output_type": "execute_result",
          "data": {
            "text/plain": [
              "array([[1, 1, 1],\n",
              "       [1, 1, 1]], dtype=int8)"
            ]
          },
          "metadata": {},
          "execution_count": 77
        }
      ]
    },
    {
      "cell_type": "code",
      "source": [
        "#부호가 없는 int값만 들어갈수 있다 +-값은 못들어간다.\n",
        "np.zeros(10, dtype=np.uint8)"
      ],
      "metadata": {
        "colab": {
          "base_uri": "https://localhost:8080/"
        },
        "id": "PJyCpdz0WCJ3",
        "outputId": "2cf2a775-0667-4492-e935-cedd2a1fd08a"
      },
      "execution_count": null,
      "outputs": [
        {
          "output_type": "execute_result",
          "data": {
            "text/plain": [
              "array([0, 0, 0, 0, 0, 0, 0, 0, 0, 0], dtype=uint8)"
            ]
          },
          "metadata": {},
          "execution_count": 81
        }
      ]
    },
    {
      "cell_type": "code",
      "source": [
        "#3차원 매트릭스 구조로 자료구조가 들어간다.\n",
        "np.zeros((3,2,5), dtype=np.uint8)"
      ],
      "metadata": {
        "colab": {
          "base_uri": "https://localhost:8080/"
        },
        "id": "snvY86BaWnhh",
        "outputId": "d742ccb6-d458-4949-f921-214276d7208f"
      },
      "execution_count": null,
      "outputs": [
        {
          "output_type": "execute_result",
          "data": {
            "text/plain": [
              "array([[[0, 0, 0, 0, 0],\n",
              "        [0, 0, 0, 0, 0]],\n",
              "\n",
              "       [[0, 0, 0, 0, 0],\n",
              "        [0, 0, 0, 0, 0]],\n",
              "\n",
              "       [[0, 0, 0, 0, 0],\n",
              "        [0, 0, 0, 0, 0]]], dtype=uint8)"
            ]
          },
          "metadata": {},
          "execution_count": 84
        }
      ]
    },
    {
      "cell_type": "markdown",
      "source": [
        "## 단위 행렬\n",
        "    - 선형 대수학에서 사용되는 중요한 개념으로, 주어진 크기의 정사각형 행렬에서 주 대각서의 모든 원소는 1이고, 나머지 원소들은 0인 행렬을 의미한다\n",
        "    - 머신러닝에서 데이터를 변환하거나 특정 모델을 학습할 때, 가중치 초기화나 수치 계산에서 단위 행렬을 사용한다.\n"
      ],
      "metadata": {
        "id": "WBn_oFcVW1Fw"
      }
    },
    {
      "cell_type": "code",
      "source": [
        "np.eye(5)"
      ],
      "metadata": {
        "colab": {
          "base_uri": "https://localhost:8080/"
        },
        "id": "9LDOQyIDXPTY",
        "outputId": "7a888f2d-ac35-4871-9589-fa5a2092a799"
      },
      "execution_count": null,
      "outputs": [
        {
          "output_type": "execute_result",
          "data": {
            "text/plain": [
              "array([[1., 0., 0., 0., 0.],\n",
              "       [0., 1., 0., 0., 0.],\n",
              "       [0., 0., 1., 0., 0.],\n",
              "       [0., 0., 0., 1., 0.],\n",
              "       [0., 0., 0., 0., 1.]])"
            ]
          },
          "metadata": {},
          "execution_count": 85
        }
      ]
    },
    {
      "cell_type": "markdown",
      "source": [
        "## np.random 서브 모듈\n",
        "    - rand : 0 ~ 1 사이의 균일 분포(uniform distribution) [균일하게 값들을 뽑아내는 방법]\n",
        "    - randn : 가우시안 표준 정규 분포 [평균치의 값을 뽑아내는것]\n",
        "    - randint : 균일 분포의 정규 난수\n",
        "\n"
      ],
      "metadata": {
        "id": "hwVVUjHtXgLK"
      }
    },
    {
      "cell_type": "code",
      "source": [
        "# np.random.rand(개수)\n",
        "# 0~1까지의 난수\n",
        "np.random.rand(10)"
      ],
      "metadata": {
        "colab": {
          "base_uri": "https://localhost:8080/"
        },
        "id": "QBUccaukYKhq",
        "outputId": "61e09547-b2d7-4d38-ac33-c72f8ccd988e"
      },
      "execution_count": null,
      "outputs": [
        {
          "output_type": "execute_result",
          "data": {
            "text/plain": [
              "array([0.48729573, 0.33556735, 0.06224875, 0.01914177, 0.92832714,\n",
              "       0.50761296, 0.41012754, 0.07650328, 0.08700083, 0.29701745])"
            ]
          },
          "metadata": {},
          "execution_count": 91
        }
      ]
    },
    {
      "cell_type": "code",
      "source": [
        "#2행 3열로 만들수 있다. 다차원으로\n",
        "np.random.rand(2,3)"
      ],
      "metadata": {
        "colab": {
          "base_uri": "https://localhost:8080/"
        },
        "id": "k5sGBNQEYX7Q",
        "outputId": "e2f1c791-3e7d-4ccc-96b0-f358167e1abb"
      },
      "execution_count": null,
      "outputs": [
        {
          "output_type": "execute_result",
          "data": {
            "text/plain": [
              "array([[0.35660155, 0.48178675, 0.08510863],\n",
              "       [0.12791655, 0.55849258, 0.05384015]])"
            ]
          },
          "metadata": {},
          "execution_count": 92
        }
      ]
    },
    {
      "cell_type": "markdown",
      "source": [
        "<img width=300 src=\"https://thebook.io/img/080263/218.jpg\" />\n",
        "\n",
        "    1) 균일 분포\n",
        "        - 균일 분포는 모든 값이 동일한 확률로 발생하는 분포\n",
        "\n",
        "    2) 정규 분포 (가우시안 분포)\n",
        "        - 정규 분포는 가장 일반적이고 중요한 연속 확률 분포로, 벨 모양의 대칭적 분포\n",
        "        - 가장 많은 데이터가 평균 근처에 집중"
      ],
      "metadata": {
        "id": "HESBeuBvYlC7"
      }
    },
    {
      "cell_type": "code",
      "source": [
        "np.random.randn(5)"
      ],
      "metadata": {
        "colab": {
          "base_uri": "https://localhost:8080/"
        },
        "id": "mCdpKzyCYoss",
        "outputId": "35ecb911-0f43-4b2f-f224-01391877ecca"
      },
      "execution_count": null,
      "outputs": [
        {
          "output_type": "execute_result",
          "data": {
            "text/plain": [
              "array([-1.68815631,  0.00759967,  0.97321689,  0.0582216 ,  0.0944499 ])"
            ]
          },
          "metadata": {},
          "execution_count": 114
        }
      ]
    },
    {
      "cell_type": "code",
      "source": [
        "# 0 ~ 5까지의 난수\n",
        "np.random.randint(5)"
      ],
      "metadata": {
        "colab": {
          "base_uri": "https://localhost:8080/"
        },
        "id": "fapFh-YCZKZ3",
        "outputId": "7ad547ee-832f-4039-fc8b-9aa499ca76f4"
      },
      "execution_count": null,
      "outputs": [
        {
          "output_type": "execute_result",
          "data": {
            "text/plain": [
              "2"
            ]
          },
          "metadata": {},
          "execution_count": 127
        }
      ]
    },
    {
      "cell_type": "code",
      "source": [
        "# [10, 20) 10 이상 20 미만\n",
        "# (19, 20] 10초과 20 이하\n",
        "\n",
        "# 10 이상 20 미만\n",
        "np.random.randint(10, 20)"
      ],
      "metadata": {
        "colab": {
          "base_uri": "https://localhost:8080/"
        },
        "id": "KR7azO6RZW87",
        "outputId": "a48c7ac8-dc7e-482b-e06b-2d23225dc44f"
      },
      "execution_count": null,
      "outputs": [
        {
          "output_type": "execute_result",
          "data": {
            "text/plain": [
              "array([[[10, 12],\n",
              "        [18, 13],\n",
              "        [13, 16],\n",
              "        [13, 18],\n",
              "        [12, 10]],\n",
              "\n",
              "       [[19, 17],\n",
              "        [10, 19],\n",
              "        [17, 11],\n",
              "        [12, 11],\n",
              "        [19, 12]],\n",
              "\n",
              "       [[13, 18],\n",
              "        [13, 14],\n",
              "        [13, 11],\n",
              "        [19, 16],\n",
              "        [15, 13]]])"
            ]
          },
          "metadata": {},
          "execution_count": 191
        }
      ]
    },
    {
      "cell_type": "code",
      "source": [
        "# [10, 20) 10 이상 20 미만\n",
        "# (19, 20] 10초과 20 이하\n",
        "\n",
        "# 10 이상 20 미만\n",
        "# 3차원 배열\n",
        "np.random.randint(0, 100, (3, 5, 2))"
      ],
      "metadata": {
        "colab": {
          "base_uri": "https://localhost:8080/"
        },
        "id": "6qK-lHdGZjZd",
        "outputId": "7ebf1789-9dd7-4754-f4f4-5201b3d7f549"
      },
      "execution_count": null,
      "outputs": [
        {
          "output_type": "execute_result",
          "data": {
            "text/plain": [
              "array([[[ 0, 65],\n",
              "        [11, 67],\n",
              "        [75, 44],\n",
              "        [ 0,  9],\n",
              "        [47, 49]],\n",
              "\n",
              "       [[74, 96],\n",
              "        [20, 67],\n",
              "        [57, 36],\n",
              "        [77, 92],\n",
              "        [49, 97]],\n",
              "\n",
              "       [[97, 99],\n",
              "        [26, 55],\n",
              "        [ 4, 99],\n",
              "        [ 7, 20],\n",
              "        [53, 44]]])"
            ]
          },
          "metadata": {},
          "execution_count": 209
        }
      ]
    },
    {
      "cell_type": "markdown",
      "source": [
        "## seed()\n",
        "    - 난수를 예측가능하도록 만든다. 실행할 때마다 동일한 난수가 발생하도록 한다.\n",
        "    - 재현성 : 특정 알고리즘의 결과를 재현한다.\n",
        "    - 디버깅 : 해당 알고리즘의 결과로 오류를 추적한다.\n",
        "\n"
      ],
      "metadata": {
        "id": "F62VuEE3adtK"
      }
    },
    {
      "cell_type": "code",
      "source": [
        "# seed(시작값)\n",
        "np.random.seed(0)\n",
        "np.random.rand(5)"
      ],
      "metadata": {
        "colab": {
          "base_uri": "https://localhost:8080/"
        },
        "id": "N8_PM6Q3a7oP",
        "outputId": "19d0a7dc-8152-4174-a699-1a1fba3d27b0"
      },
      "execution_count": null,
      "outputs": [
        {
          "output_type": "execute_result",
          "data": {
            "text/plain": [
              "array([0.5488135 , 0.71518937, 0.60276338, 0.54488318, 0.4236548 ])"
            ]
          },
          "metadata": {},
          "execution_count": 214
        }
      ]
    },
    {
      "cell_type": "code",
      "source": [
        "# e-01: 지수 표기법\n",
        "# 숫자가 너무 작거나 클때 사용하는 과학적 표기법\n",
        "np.random.seed(1)\n",
        "np.random.rand(5)"
      ],
      "metadata": {
        "colab": {
          "base_uri": "https://localhost:8080/"
        },
        "id": "EDIFQ886bcH6",
        "outputId": "94ff3f01-8fbf-4445-e059-3f06b928ac38"
      },
      "execution_count": null,
      "outputs": [
        {
          "output_type": "execute_result",
          "data": {
            "text/plain": [
              "array([4.17022005e-01, 7.20324493e-01, 1.14374817e-04, 3.02332573e-01,\n",
              "       1.46755891e-01])"
            ]
          },
          "metadata": {},
          "execution_count": 218
        }
      ]
    },
    {
      "cell_type": "markdown",
      "source": [
        "## np.unique()\n",
        "    - 중복된 값을 제거하고 고유한 값들만 반환하는 함수"
      ],
      "metadata": {
        "id": "fYYa4o6mcOk4"
      }
    },
    {
      "cell_type": "code",
      "source": [
        "np.unique([11, 10, 11, 20, 15, 10])"
      ],
      "metadata": {
        "colab": {
          "base_uri": "https://localhost:8080/"
        },
        "id": "ZCI1yDgIctpY",
        "outputId": "2eda9be4-cadf-44bc-9faf-c49fbf404ee1"
      },
      "execution_count": null,
      "outputs": [
        {
          "output_type": "execute_result",
          "data": {
            "text/plain": [
              "array([10, 11, 15, 20])"
            ]
          },
          "metadata": {},
          "execution_count": 220
        }
      ]
    },
    {
      "cell_type": "markdown",
      "source": [
        "## 인덱싱(index)\n",
        "    - 파이썬 리스트와 동일한 계념으로 사용\n",
        "    - ,를 사용하여 각 차원의 인덱스에 접근이 가능하다.\n",
        "    - 인덱싱 할 때 마다 차원이 감소한다."
      ],
      "metadata": {
        "id": "2t2Z93t7czKc"
      }
    },
    {
      "cell_type": "code",
      "source": [
        "ar2 = np.arange(10)\n",
        "ar2"
      ],
      "metadata": {
        "colab": {
          "base_uri": "https://localhost:8080/"
        },
        "id": "bbVpXEBmdCSD",
        "outputId": "3d049a8c-2beb-4506-df07-a9d09ae6fae3"
      },
      "execution_count": null,
      "outputs": [
        {
          "output_type": "execute_result",
          "data": {
            "text/plain": [
              "array([0, 1, 2, 3, 4, 5, 6, 7, 8, 9])"
            ]
          },
          "metadata": {},
          "execution_count": 229
        }
      ]
    },
    {
      "cell_type": "code",
      "source": [
        "print(ar2[5])"
      ],
      "metadata": {
        "colab": {
          "base_uri": "https://localhost:8080/"
        },
        "id": "1qRc7VF9dk7n",
        "outputId": "4cd1e466-4fd8-496b-9ddd-9a4105e833d0"
      },
      "execution_count": null,
      "outputs": [
        {
          "output_type": "stream",
          "name": "stdout",
          "text": [
            "5\n"
          ]
        }
      ]
    },
    {
      "cell_type": "code",
      "source": [
        "print(ar2[-1], ar2[4])"
      ],
      "metadata": {
        "colab": {
          "base_uri": "https://localhost:8080/"
        },
        "id": "uI5G7ciWdpHg",
        "outputId": "fcc75d9b-a735-4514-be52-dd79655a6929"
      },
      "execution_count": null,
      "outputs": [
        {
          "output_type": "stream",
          "name": "stdout",
          "text": [
            "9 4\n"
          ]
        }
      ]
    },
    {
      "cell_type": "code",
      "source": [
        "ar2[5] = 100\n",
        "ar2"
      ],
      "metadata": {
        "colab": {
          "base_uri": "https://localhost:8080/"
        },
        "id": "ydNQ4XP5dsoe",
        "outputId": "28240139-dd93-49df-de2c-0b4bde112a44"
      },
      "execution_count": null,
      "outputs": [
        {
          "output_type": "execute_result",
          "data": {
            "text/plain": [
              "array([  0,   1,   2,   3,   4, 100,   6,   7,   8,   9])"
            ]
          },
          "metadata": {},
          "execution_count": 233
        }
      ]
    },
    {
      "cell_type": "code",
      "source": [
        "ar2 = ar2.reshape(2, 5)\n",
        "ar2[0][2]"
      ],
      "metadata": {
        "colab": {
          "base_uri": "https://localhost:8080/"
        },
        "id": "6rmMY5QydxAD",
        "outputId": "60dca436-4c8b-40f4-acd2-245a986ab6ab"
      },
      "execution_count": null,
      "outputs": [
        {
          "output_type": "execute_result",
          "data": {
            "text/plain": [
              "np.int64(2)"
            ]
          },
          "metadata": {},
          "execution_count": 236
        }
      ]
    },
    {
      "cell_type": "code",
      "source": [
        "ar2[1][0]"
      ],
      "metadata": {
        "colab": {
          "base_uri": "https://localhost:8080/"
        },
        "id": "GX5KDQf6eFLh",
        "outputId": "4799298f-8453-4462-cebf-0b73f89bc1d1"
      },
      "execution_count": null,
      "outputs": [
        {
          "output_type": "execute_result",
          "data": {
            "text/plain": [
              "np.int64(100)"
            ]
          },
          "metadata": {},
          "execution_count": 237
        }
      ]
    },
    {
      "cell_type": "code",
      "source": [
        "# , 를 통해서 접근하는법\n",
        "# 권장, 콤마 접근법\n",
        "ar2[1,0]"
      ],
      "metadata": {
        "colab": {
          "base_uri": "https://localhost:8080/"
        },
        "id": "diXZTRvjeNZH",
        "outputId": "28c55730-3c49-4d6c-d356-98c483c06697"
      },
      "execution_count": null,
      "outputs": [
        {
          "output_type": "execute_result",
          "data": {
            "text/plain": [
              "np.int64(100)"
            ]
          },
          "metadata": {},
          "execution_count": 241
        }
      ]
    },
    {
      "cell_type": "code",
      "source": [],
      "metadata": {
        "id": "jMP-rrr2eWT2"
      },
      "execution_count": null,
      "outputs": []
    }
  ]
}
