{
  "nbformat": 4,
  "nbformat_minor": 0,
  "metadata": {
    "colab": {
      "provenance": [],
      "authorship_tag": "ABX9TyOjHQUXNQNKju394V7yYBSA",
      "include_colab_link": true
    },
    "kernelspec": {
      "name": "python3",
      "display_name": "Python 3"
    },
    "language_info": {
      "name": "python"
    }
  },
  "cells": [
    {
      "cell_type": "markdown",
      "metadata": {
        "id": "view-in-github",
        "colab_type": "text"
      },
      "source": [
        "<a href=\"https://colab.research.google.com/github/JinLeeGG/Python_DataStructue-Algoritms/blob/main/3.%20Numpy/coding_Example/NumpyPractice.ipynb\" target=\"_parent\"><img src=\"https://colab.research.google.com/assets/colab-badge.svg\" alt=\"Open In Colab\"/></a>"
      ]
    },
    {
      "cell_type": "markdown",
      "source": [
        "## Numpy\n",
        "- Most basic python library in data analysis using python\n",
        "- It is widely used on its own with NumPy, but since it is also essential in various fields such as Pandas, machine learning, and more, it is a must-know library for Python developers.\n",
        "- https://numpy.org/\n",
        "\n",
        "### 1) Mathematical and Numerical Operations\n",
        "- Supports summation, averaging, matrix operations, and more.\n",
        "\n",
        "### 2) Fundamental Type\n",
        "- Enables representation of multi-dimensional arrays using ndarray (n-dimensional array).\n",
        "\n",
        "### 3) Why It's Needed Despite Python Lists\n",
        "- Performance: Significantly faster than Python lists.\n",
        "- Memory: Consumes less memory.\n",
        "- Built-in Functions: Provides numerous numerical functions related to linear algebra and statistics.\n",
        "- Wide Adoption: Many other modules use NumPy's function names and features directly."
      ],
      "metadata": {
        "id": "avNaXEiBvWhb"
      }
    },
    {
      "cell_type": "markdown",
      "source": [
        "<img width=\"500\" src=\"https://raw.githubusercontent.com/mrdbourke/tensorflow-deep-learning/main/images/00-scalar-vector-matrix-tensor.png\" />\n",
        "\n",
        "    - Scalar: 0 dimentional array(singular value)\n",
        "    - Vector : 1 dimentional array\n",
        "    - Matrix : 2 dimentional array\n",
        "    - Tensor : 3 dimentional(beyond) array"
      ],
      "metadata": {
        "id": "YJsAvjJMwevk"
      }
    },
    {
      "cell_type": "code",
      "execution_count": 1,
      "metadata": {
        "id": "4eyES13Vh6Sa"
      },
      "outputs": [],
      "source": [
        "import numpy as np"
      ]
    },
    {
      "cell_type": "code",
      "source": [
        "# 1st dementional array (vector)\n",
        "# np.array(iterable)\n",
        "\n",
        "arr1 = np.array([1,2,3])\n",
        "arr2 = np.array([5,6,7])"
      ],
      "metadata": {
        "id": "yGNhefFeiHwp"
      },
      "execution_count": 10,
      "outputs": []
    },
    {
      "cell_type": "code",
      "source": [
        "# __repr__ : represent call (view)\n",
        "arr1"
      ],
      "metadata": {
        "colab": {
          "base_uri": "https://localhost:8080/"
        },
        "id": "9XHKLPogizN6",
        "outputId": "7045041b-e504-4da9-ab86-1aaeba0af7e5"
      },
      "execution_count": 11,
      "outputs": [
        {
          "output_type": "execute_result",
          "data": {
            "text/plain": [
              "array([1, 2, 3])"
            ]
          },
          "metadata": {},
          "execution_count": 11
        }
      ]
    },
    {
      "cell_type": "code",
      "source": [
        "# as you can see the type is ndarray\n",
        "print(type(arr1))"
      ],
      "metadata": {
        "colab": {
          "base_uri": "https://localhost:8080/"
        },
        "id": "Sscv4Wxxi0_g",
        "outputId": "9ef04659-11c3-40ca-df35-b873ccf257ea"
      },
      "execution_count": 12,
      "outputs": [
        {
          "output_type": "stream",
          "name": "stdout",
          "text": [
            "<class 'numpy.ndarray'>\n"
          ]
        }
      ]
    },
    {
      "cell_type": "code",
      "source": [
        "#__str__ : Calling String\n",
        "print(arr1)"
      ],
      "metadata": {
        "colab": {
          "base_uri": "https://localhost:8080/"
        },
        "id": "eyXnpou-i30V",
        "outputId": "3e165782-3568-4e6e-e51c-6ddad823eb6c"
      },
      "execution_count": 7,
      "outputs": [
        {
          "output_type": "stream",
          "name": "stdout",
          "text": [
            "[1 2 3]\n"
          ]
        }
      ]
    },
    {
      "cell_type": "markdown",
      "source": [],
      "metadata": {
        "id": "LaIP9ygpxgaj"
      }
    },
    {
      "cell_type": "code",
      "source": [
        "# 0 dimentional : Scalar\n",
        "# np.array(10)\n",
        "print(np.array(10))"
      ],
      "metadata": {
        "colab": {
          "base_uri": "https://localhost:8080/"
        },
        "id": "cLgi2oPFi6TN",
        "outputId": "c1b71c20-409d-43f5-cbc1-fc24274b4ffe"
      },
      "execution_count": 8,
      "outputs": [
        {
          "output_type": "stream",
          "name": "stdout",
          "text": [
            "10\n"
          ]
        }
      ]
    },
    {
      "cell_type": "markdown",
      "source": [
        "## Type promotion\n",
        "- array requires all elements to be defined as 'one type'.\n",
        "- Forces conversion to the largest of all types."
      ],
      "metadata": {
        "id": "gX_enzdbxITg"
      }
    },
    {
      "cell_type": "code",
      "source": [
        "'''\n",
        "NumPy Array: A NumPy array is homogeneous, meaning it can store elements\n",
        "of only one data type (e.g., integers, floats). This allows for more efficient memory usage and operations.\n",
        "\n",
        "Python List: A Python list is heterogeneous, meaning it can store elements\n",
        "of different data types (e.g., integers, strings, objects) within the same list.\n",
        "\n",
        "'''\n",
        "# Type Promotion\n",
        "arr1 = np.array([1,2,True, '김', 5.5])\n",
        "print(arr1)\n",
        "print(type(arr1))\n",
        "\n",
        "# List\n",
        "li1 = [1,2,True, '김', 5.5]\n",
        "print(li1)\n",
        "print(type(li1))\n"
      ],
      "metadata": {
        "colab": {
          "base_uri": "https://localhost:8080/"
        },
        "id": "e2N-OL4IjAP8",
        "outputId": "84d28dac-af29-4fd1-a07c-ea0f8b801fdb"
      },
      "execution_count": 14,
      "outputs": [
        {
          "output_type": "stream",
          "name": "stdout",
          "text": [
            "['1' '2' 'True' '김' '5.5']\n",
            "<class 'numpy.ndarray'>\n",
            "[1, 2, True, '김', 5.5]\n",
            "<class 'list'>\n"
          ]
        }
      ]
    },
    {
      "cell_type": "code",
      "source": [
        "# since an array contains an integer and float, it type promotes to the float type:\n",
        "np.array([1,1,5.5,5,5])"
      ],
      "metadata": {
        "colab": {
          "base_uri": "https://localhost:8080/"
        },
        "id": "9KkKSISuoPzY",
        "outputId": "d934a7fc-e428-44dd-c3db-2f8e52752bd8"
      },
      "execution_count": 15,
      "outputs": [
        {
          "output_type": "execute_result",
          "data": {
            "text/plain": [
              "array([1. , 1. , 5.5, 5. , 5. ])"
            ]
          },
          "metadata": {},
          "execution_count": 15
        }
      ]
    },
    {
      "cell_type": "markdown",
      "source": [],
      "metadata": {
        "id": "JBTLds2ryyiD"
      }
    },
    {
      "cell_type": "markdown",
      "source": [
        "## numpy field"
      ],
      "metadata": {
        "id": "i3z7ODseyCxs"
      }
    },
    {
      "cell_type": "code",
      "source": [
        "arr3 = np.array([1,2,3,4,5])\n",
        "arr3"
      ],
      "metadata": {
        "colab": {
          "base_uri": "https://localhost:8080/"
        },
        "id": "AmmUYDNUyG0b",
        "outputId": "bcd0fb89-6443-42e5-843c-537e57bf5537"
      },
      "execution_count": 17,
      "outputs": [
        {
          "output_type": "execute_result",
          "data": {
            "text/plain": [
              "array([1, 2, 3, 4, 5])"
            ]
          },
          "metadata": {},
          "execution_count": 17
        }
      ]
    },
    {
      "cell_type": "markdown",
      "source": [
        "### shape\n",
        "\n",
        "- In numpy, we know the size of the array. By checking the shape, we can see how much data there is and in how many dimensions.\n",
        "- The result of arr.shape is a tuple (rows, columns), which gives us the first dimension if there are only rows, and the second dimension if there is a matrix. You can also check the size by multiplying rows*columns.\n",
        "\n"
      ],
      "metadata": {
        "id": "IsbaINkXyNfr"
      }
    },
    {
      "cell_type": "code",
      "source": [
        "arr3.shape"
      ],
      "metadata": {
        "colab": {
          "base_uri": "https://localhost:8080/"
        },
        "id": "UC8uX0vzyXhz",
        "outputId": "16372e8e-33a2-48c9-ab5a-f924b1d9de23"
      },
      "execution_count": 19,
      "outputs": [
        {
          "output_type": "execute_result",
          "data": {
            "text/plain": [
              "(5,)"
            ]
          },
          "metadata": {},
          "execution_count": 19
        }
      ]
    },
    {
      "cell_type": "markdown",
      "source": [
        "### mdim\n",
        "- Fields to determine how many dimensions of data you have"
      ],
      "metadata": {
        "id": "K0-Av-Iaymcz"
      }
    },
    {
      "cell_type": "code",
      "source": [
        "# equal to len(arr.shape)\n",
        "arr3.ndim"
      ],
      "metadata": {
        "colab": {
          "base_uri": "https://localhost:8080/"
        },
        "id": "rF2JsmU8y9H3",
        "outputId": "74424b5a-60a7-49bb-874c-7e90c7eaa523"
      },
      "execution_count": 21,
      "outputs": [
        {
          "output_type": "execute_result",
          "data": {
            "text/plain": [
              "1"
            ]
          },
          "metadata": {},
          "execution_count": 21
        }
      ]
    },
    {
      "cell_type": "markdown",
      "source": [
        "### size\n",
        "- number of datas"
      ],
      "metadata": {
        "id": "Fz4NXgjGzGbe"
      }
    },
    {
      "cell_type": "code",
      "source": [
        "arr3.size"
      ],
      "metadata": {
        "colab": {
          "base_uri": "https://localhost:8080/"
        },
        "id": "lYiYhzfV5uNB",
        "outputId": "8abc2bc8-5b98-4e17-8941-f041720d5801"
      },
      "execution_count": 24,
      "outputs": [
        {
          "output_type": "execute_result",
          "data": {
            "text/plain": [
              "5"
            ]
          },
          "metadata": {},
          "execution_count": 24
        }
      ]
    },
    {
      "cell_type": "markdown",
      "source": [
        "### len()\n",
        "- array is an iterable object, so you can count its length.\n"
      ],
      "metadata": {
        "id": "hrlvoHAk5wD6"
      }
    },
    {
      "cell_type": "code",
      "source": [
        "len(arr3)"
      ],
      "metadata": {
        "colab": {
          "base_uri": "https://localhost:8080/"
        },
        "id": "1OMGoiex54Cc",
        "outputId": "6924a3aa-7d73-4795-b2c7-5dba16552689"
      },
      "execution_count": 25,
      "outputs": [
        {
          "output_type": "execute_result",
          "data": {
            "text/plain": [
              "5"
            ]
          },
          "metadata": {},
          "execution_count": 25
        }
      ]
    }
  ]
}