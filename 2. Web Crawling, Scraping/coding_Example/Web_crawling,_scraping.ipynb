{
  "nbformat": 4,
  "nbformat_minor": 0,
  "metadata": {
    "colab": {
      "provenance": [],
      "mount_file_id": "1WjWxnK8L_F5MKUmxoG0zoZ-XPvOz9m0m",
      "authorship_tag": "ABX9TyO5uW8sfVwnBPiRJ5iBjM+Z",
      "include_colab_link": true
    },
    "kernelspec": {
      "name": "python3",
      "display_name": "Python 3"
    },
    "language_info": {
      "name": "python"
    }
  },
  "cells": [
    {
      "cell_type": "markdown",
      "metadata": {
        "id": "view-in-github",
        "colab_type": "text"
      },
      "source": [
        "<a href=\"https://colab.research.google.com/github/JinLeeGG/Python_DataStructue-Algoritms/blob/main/(Day2)%20Web%20Crawling%2C%20Scraping/Web_crawling%2C_scraping.ipynb\" target=\"_parent\"><img src=\"https://colab.research.google.com/assets/colab-badge.svg\" alt=\"Open In Colab\"/></a>"
      ]
    },
    {
      "cell_type": "code",
      "execution_count": 4,
      "metadata": {
        "colab": {
          "base_uri": "https://localhost:8080/"
        },
        "id": "82-Da6TaIVb1",
        "outputId": "20918de5-e7ac-4ccb-b47a-095ed6a2a1c4"
      },
      "outputs": [
        {
          "output_type": "stream",
          "name": "stdout",
          "text": [
            "200\n",
            "<!doctype html><html itemscope=\"\" itemtype=\"http://schema.org/WebPage\" lang=\"zh-TW\"><head><meta content=\"text/html; charset=UTF-8\" http-equiv=\"Content-Type\"><meta content=\"/images/branding/googleg/1x/googleg_standard_color_128dp.png\" itemprop=\"image\"><title>Google</title><script nonce=\"FInrUjKDF5MQwlhgf1a_SQ\">(function(){var _g={kEI:'kmjaZ5OOKfzS1e8PqNznIA',kEXPI:'0,202791,3497484,164,510,435,541533,2891,89155,344796,94242,195802,5230281,11473,8834896,75,4,5,1,3,1,5,27977580,25228681,112206,26062,8181,5945,11931,53227,6751,23879,9138,4600,328,6225,2947,31363,19335,6976,2835,709,1341,13708,8221,862,6551,21302,33,9041,17667,10672,21338,2987,787,4567,41,5987,7175,477,1,4930,22,1789,4106,350,11053,7420,407,6822,2147,4617,5773,4310,8755,3587,10960,7264,7625,677,958,2459,802,459,2531,35,2259,6,807,4105,55,1024,1,518,2,311,78,143,1,2326,1449,537,3282,569,2250,117,1822,57,7,1233,3856,1842,354,656,611,2439,704,808,438,5,121,4676,955,114,190,1570,663,2422,386,348,1136,2429,303,382,175,680,219,4,1147,894,822,23,235,1213,4,287,1386,1090,201,598,79,190,46,78,616,6,1,741,109,477,1626,921,756,241,124,381,627,598,438,237,334,123,540,3,2,171,5,169,457,4,1143,260,121,1285,1012,987,437,12,6,642,1196,325,593,28,289,1322,2,171,13,684,103,592,74,197,163,210,364,2,1307,156,380,210,85,263,310,649,130,146,3,17,298,164,885,363,160,277,2,1,2,2,2,39,380,54,84,115,114,574,182,243,603,294,174,527,22,303,152,186,149,244,361,17,2,100,1312,3,400,588,417,229,26,645,62,356,174,560,326,1022,387,2,227,2,220,562,47,182,484,858,21326080,18,3224,1316,8,4178,1461,134,199,843,5,4827,69,539,1161,916,3765264,2244575',kBL:'wSNN',kOPI:89978449};(function(){var a;((a=window.google)==null?0:a.stvsc)?google.kEI=_g.kEI:window.google=_g;}).call(this);})();(function(){google.sn='webhp';google.kHL='zh-TW';})();(function(){\n",
            "var g=this||self;function k(){return window.google&&window.google.kOPI||null};var l,m=[];function n(a){for(var b;a&&(!a.getAttribute||!(b=a.getAttribute(\"eid\")));)a=a.parentNode;return b||l}function p(a){for(var b=null;a&&(!a.getAttribute||!(b=a.getAttribute(\"leid\")));)a=a.parentNode;return b}function q(a){/^http:/i.test(a)&&window.location.protocol===\"https:\"&&(google.ml&&google.ml(Error(\"a\"),!1,{src:a,glmm:1}),a=\"\");return a}\n",
            "function r(a,b,d,c,h){var e=\"\";b.search(\"&ei=\")===-1&&(e=\"&ei=\"+n(c),b.search(\"&lei=\")===-1&&(c=p(c))&&(e+=\"&lei=\"+c));var f=b.search(\"&cshid=\")===-1&&a!==\"slh\";c=\"&zx=\"+Date.now().toString();g._cshid&&f&&(c+=\"&cshid=\"+g._cshid);(d=d())&&(c+=\"&opi=\"+d);return\"/\"+(h||\"gen_204\")+\"?atyp=i&ct=\"+String(a)+\"&cad=\"+(b+e+c)};l=google.kEI;google.getEI=n;google.getLEI=p;google.ml=function(){return null};google.log=function(a,b,d,c,h,e){e=e===void 0?k:e;d||(d=r(a,b,e,c,h));if(d=q(d)){a=new Image;var f=m.length;m[f]=a;a.onerror=a.onload=a.onabort=function(){delete m[f]};a.src=d}};google.logUrl=function(a,b){b=b===void 0?k:b;return r(\"\",a,b)};}).call(this);(function(){google.y={};google.sy=[];var d;(d=google).x||(d.x=function(a,b){if(a)var c=a.id;else{do c=Math.random();while(google.y[c])}google.y[c]=[a,b];return!1});var e;(e=google).sx||(e.sx=function(a){google.sy.push(a)});google.lm=[];var f;(f=google).plm||(f.plm=function(a){google.lm.push.apply(google.lm,a)});google.lq=[];var g;(g=google).load||(g.load=function(a,b,c){google.lq.push([[a],b,c])});var h;(h=google).loadAll||(h.loadAll=function(a,b){google.lq.push([a,b])});google.bx=!1;var k;(k=google).lx||(k.lx=function(){});var l=[],m;(m=google).fce||(m.fce=function(a,b,c,n){l.push([a,b,c,n])});google.qce=l;}).call(this);google.f={};(function(){\n",
            "document.documentElement.addEventListener(\"submit\",function(b){var a;if(a=b.target){var c=a.getAttribute(\"data-submitfalse\");a=c===\"1\"||c===\"q\"&&!a.elements.q.value?!0:!1}else a=!1;a&&(b.preventDefault(),b.stopPropagation())},!0);document.documentElement.addEventListener(\"click\",function(b){var a;a:{for(a=b.target;a&&a!==document.documentElement;a=a.parentElement)if(a.tagName===\"A\"){a=a.getAttribute(\"data-nohref\")===\"1\";break a}a=!1}a&&b.preventDefault()},!0);}).call(this);</script><style>#gbar,#guser{font-size:13px;padding-top:1px !important;}#gbar{height:22px}#guser{padding-bottom:7px !important;text-align:right}.gbh,.gbd{border-top:1px solid #c9d7f1;font-size:1px}.gbh{height:0;position:absolute;top:24px;width:100%}@media all{.gb1{height:22px;margin-right:.5em;vertical-align:top}#gbar{float:left}}a.gb1,a.gb4{text-decoration:underline !important}a.gb1,a.gb4{color:#00c !important}.gbi .gb4{color:#dd8e27 !important}.gbf .gb4{color:#900 !important}\n",
            "</style><style>body,td,a,p,.h{font-family:sans-serif}body{margin:0;overflow-y:scroll}#gog{padding:3px 8px 0}td{line-height:.8em}.gac_m td{line-height:17px}form{margin-bottom:20px}.h{color:#1967d2}em{color:#c5221f;font-style:normal;font-weight:normal}a em{text-decoration:underline}.lst{height:25px;width:496px}.gsfi,.lst{font:18px sans-serif}.gsfs{font:17px sans-serif}.ds{display:inline-box;display:inline-block;margin:3px 0 4px;margin-left:4px}input{font-family:inherit}body{background:#fff;color:#000}a{color:#681da8;text-decoration:none}a:hover,a:active{text-decoration:underline}.fl a{color:#1967d2}a:visited{color:#681da8}.sblc{padding-top:5px}.sblc a{display:block;margin:2px 0;margin-left:13px;font-size:11px}.lsbb{background:#f8f9fa;border:solid 1px;border-color:#dadce0 #70757a #70757a #dadce0;height:30px}.lsbb{display:block}#WqQANb a{display:inline-block;margin:0 12px}.lsb{background:url(/images/nav_logo229.png) 0 -261px repeat-x;color:#000;border:none;cursor:pointer;height:30px;margin:0;outline:0;font:15px sans-serif;vertical-align:top}.lsb:active{background:#dadce0}.lst:focus{outline:none}</style><script nonce=\"FInrUjKDF5MQwlhgf1a_SQ\">(function(){window.google.erd={jsr:1,bv:2186,de:true,dpf:'LKuJoL2aas6eSmcsttE6DtGE1QemQjjq1s3prawxdrs'};\n",
            "var g=this||self;var k,l=(k=g.mei)!=null?k:1,m,p=(m=g.diel)!=null?m:0,q,r=(q=g.sdo)!=null?q:!0,t=0,u,w=google.erd,x=w.jsr;google.ml=function(a,b,d,n,e){e=e===void 0?2:e;b&&(u=a&&a.message);d===void 0&&(d={});d.cad=\"ple_\"+google.ple+\".aple_\"+google.aple;if(google.dl)return google.dl(a,e,d,!0),null;b=d;if(x<0){window.console&&console.error(a,b);if(x===-2)throw a;b=!1}else b=!a||!a.message||a.message===\"Error loading script\"||t>=l&&!n?!1:!0;if(!b)return null;t++;d=d||{};b=encodeURIComponent;var c=\"/gen_204?atyp=i&ei=\"+b(google.kEI);google.kEXPI&&(c+=\"&jexpid=\"+b(google.kEXPI));c+=\"&srcpg=\"+b(google.sn)+\"&jsr=\"+b(w.jsr)+\n",
            "\"&bver=\"+b(w.bv);w.dpf&&(c+=\"&dpf=\"+b(w.dpf));var f=a.lineNumber;f!==void 0&&(c+=\"&line=\"+f);var h=a.fileName;h&&(h.indexOf(\"-extension:/\")>0&&(e=3),c+=\"&script=\"+b(h),f&&h===window.location.href&&(f=document.documentElement.outerHTML.split(\"\\n\")[f],c+=\"&cad=\"+b(f?f.substring(0,300):\"No script found.\")));google.ple&&google.ple===1&&(e=2);c+=\"&jsel=\"+e;for(var v in d)c+=\"&\",c+=b(v),c+=\"=\",c+=b(d[v]);c=c+\"&emsg=\"+b(a.name+\": \"+a.message);c=c+\"&jsst=\"+b(a.stack||\"N/A\");c.length>=12288&&(c=c.substr(0,12288));a=c;n||google.log(0,\"\",a);return a};window.onerror=function(a,b,d,n,e){u!==a&&(a=e instanceof Error?e:Error(a),d===void 0||\"lineNumber\"in a||(a.lineNumber=d),b===void 0||\"fileName\"in a||(a.fileName=b),google.ml(a,!1,void 0,!1,a.name===\"SyntaxError\"||a.message.substring(0,11)===\"SyntaxError\"||a.message.indexOf(\"Script error\")!==-1?3:p));u=null;r&&t>=l&&(window.onerror=null)};})();</script></head><body bgcolor=\"#fff\"><script nonce=\"FInrUjKDF5MQwlhgf1a_SQ\">(function(){var src='/images/nav_logo229.png';var iesg=false;document.body.onload = function(){window.n && window.n();if (document.images){new Image().src=src;}\n",
            "if (!iesg){document.f&&document.f.q.focus();document.gbqf&&document.gbqf.q.focus();}\n",
            "}\n",
            "})();</script><div id=\"mngb\"><div id=gbar><nobr><b class=gb1>&#25628;&#23563;</b> <a class=gb1 href=\"https://www.google.com/imghp?hl=zh-TW&tab=wi\">&#22294;&#29255;</a> <a class=gb1 href=\"https://maps.google.com.tw/maps?hl=zh-TW&tab=wl\">&#22320;&#22294;</a> <a class=gb1 href=\"https://play.google.com/?hl=zh-TW&tab=w8\">Play</a> <a class=gb1 href=\"https://www.youtube.com/?tab=w1\">YouTube</a> <a class=gb1 href=\"https://news.google.com/?tab=wn\">&#26032;&#32862;</a> <a class=gb1 href=\"https://mail.google.com/mail/?tab=wm\">Gmail</a> <a class=gb1 href=\"https://drive.google.com/?tab=wo\">&#38642;&#31471;&#30828;&#30879;</a> <a class=gb1 style=\"text-decoration:none\" href=\"https://www.google.com.tw/intl/zh-TW/about/products?tab=wh\"><u>&#26356;&#22810;</u> &raquo;</a></nobr></div><div id=guser width=100%><nobr><span id=gbn class=gbi></span><span id=gbf class=gbf></span><span id=gbe></span><a href=\"http://www.google.com.tw/history/optout?hl=zh-TW\" class=gb4>&#32178;&#38913;&#35352;&#37636;</a> | <a  href=\"/preferences?hl=zh-TW\" class=gb4>&#35373;&#23450;</a> | <a target=_top id=gb_70 href=\"https://accounts.google.com/ServiceLogin?hl=zh-TW&passive=true&continue=https://www.google.com/&ec=GAZAAQ\" class=gb4>&#30331;&#20837;</a></nobr></div><div class=gbh style=left:0></div><div class=gbh style=right:0></div></div><center><br clear=\"all\" id=\"lgpd\"><div id=\"XjhHGf\"><img alt=\"Google\" height=\"92\" src=\"/images/branding/googlelogo/1x/googlelogo_white_background_color_272x92dp.png\" style=\"padding:28px 0 14px\" width=\"272\" id=\"hplogo\"><br><br></div><form action=\"/search\" name=\"f\"><table cellpadding=\"0\" cellspacing=\"0\"><tr valign=\"top\"><td width=\"25%\">&nbsp;</td><td align=\"center\" nowrap=\"\"><input name=\"ie\" value=\"ISO-8859-1\" type=\"hidden\"><input value=\"zh-TW\" name=\"hl\" type=\"hidden\"><input name=\"source\" type=\"hidden\" value=\"hp\"><input name=\"biw\" type=\"hidden\"><input name=\"bih\" type=\"hidden\"><div class=\"ds\" style=\"height:32px;margin:4px 0\"><input class=\"lst\" style=\"margin:0;padding:5px 8px 0 6px;vertical-align:top;color:#000\" autocomplete=\"off\" value=\"\" title=\"Google &#25628;&#23563;\" maxlength=\"2048\" name=\"q\" size=\"57\"></div><br style=\"line-height:0\"><span class=\"ds\"><span class=\"lsbb\"><input class=\"lsb\" value=\"Google &#25628;&#23563;\" name=\"btnG\" type=\"submit\"></span></span><span class=\"ds\"><span class=\"lsbb\"><input class=\"lsb\" id=\"tsuid_kmjaZ5OOKfzS1e8PqNznIA_1\" value=\"&#22909;&#25163;&#27683;\" name=\"btnI\" type=\"submit\"><script nonce=\"FInrUjKDF5MQwlhgf1a_SQ\">(function(){var id='tsuid_kmjaZ5OOKfzS1e8PqNznIA_1';document.getElementById(id).onclick = function(){if (this.form.q.value){this.checked = 1;if (this.form.iflsig)this.form.iflsig.disabled = false;}\n",
            "else top.location='/doodles/';};})();</script><input value=\"ACkRmUkAAAAAZ9p2ooSlMwWVFuEkguZ-7qjBR4Z8psxN\" name=\"iflsig\" type=\"hidden\"></span></span></td><td class=\"fl sblc\" align=\"left\" nowrap=\"\" width=\"25%\"><a href=\"/advanced_search?hl=zh-TW&amp;authuser=0\">&#36914;&#38542;&#25628;&#23563;</a></td></tr></table><input id=\"gbv\" name=\"gbv\" type=\"hidden\" value=\"1\"><script nonce=\"FInrUjKDF5MQwlhgf1a_SQ\">(function(){var a,b=\"1\";if(document&&document.getElementById)if(typeof XMLHttpRequest!=\"undefined\")b=\"2\";else if(typeof ActiveXObject!=\"undefined\"){var c,d,e=[\"MSXML2.XMLHTTP.6.0\",\"MSXML2.XMLHTTP.3.0\",\"MSXML2.XMLHTTP\",\"Microsoft.XMLHTTP\"];for(c=0;d=e[c++];)try{new ActiveXObject(d),b=\"2\"}catch(h){}}a=b;if(a==\"2\"&&location.search.indexOf(\"&gbv=2\")==-1){var f=google.gbvu,g=document.getElementById(\"gbv\");g&&(g.value=a);f&&window.setTimeout(function(){location.href=f},0)};}).call(this);</script></form><div style=\"font-size:83%;min-height:3.5em\"><br></div><span id=\"footer\"><div style=\"font-size:10pt\"><div style=\"margin:19px auto;text-align:center\" id=\"WqQANb\"><a href=\"/intl/zh-TW/ads/\">&#24291;&#21578;</a><a href=\"http://www.google.com.tw/intl/zh-TW/services/\">&#21830;&#26989;&#35299;&#27770;&#26041;&#26696;</a><a href=\"/intl/zh-TW/about.html\">&#38364;&#26044; Google</a><a href=\"https://www.google.com/setprefdomain?prefdom=TW&amp;prev=https://www.google.com.tw/&amp;sig=K_whXOpA4b2ublHiMnEKiPKUT5rQA%3D\">Google.com.tw</a></div></div><p style=\"font-size:8pt;color:#70757a\">&copy; 2025 - <a href=\"/intl/zh-TW/policies/privacy/\">&#38577;&#31169;&#27402;</a> - <a href=\"/intl/zh-TW/policies/terms/\">&#26381;&#21209;&#26781;&#27454;</a></p></span></center><script nonce=\"FInrUjKDF5MQwlhgf1a_SQ\">(function(){window.google.cdo={height:757,width:1440};(function(){var a=window.innerWidth,b=window.innerHeight;if(!a||!b){var c=window.document,d=c.compatMode==\"CSS1Compat\"?c.documentElement:c.body;a=d.clientWidth;b=d.clientHeight}if(a&&b&&(a!=google.cdo.width||b!=google.cdo.height)){var e=google,f=e.log,g=\"/client_204?&atyp=i&biw=\"+a+\"&bih=\"+b+\"&ei=\"+google.kEI,h=\"\",k=window.google&&window.google.kOPI||null;k&&(h+=\"&opi=\"+k);f.call(e,\"\",\"\",g+h)};}).call(this);})();(function(){google.xjs={basecomb:'/xjs/_/js/k\\x3dxjs.hp.en.RjlhyTv4Gfo.es5.O/ck\\x3dxjs.hp.Rt6bj9WOp6I.L.X.O/am\\x3dBAAAAAAQAAAAAAAAAAAAAAAAAAAAAAAAAAAABCAIAAAAAAAAAAAAAgAAmAXgAACAAAAECAAAAAAAAAAAAAAAIAEAEAAACAABAEB8RwBAACwCAIAX/d\\x3d1/ed\\x3d1/dg\\x3d0/ujg\\x3d1/rs\\x3dACT90oGhku5j04E1B2XNTBl403fMRCTdTQ',basecss:'/xjs/_/ss/k\\x3dxjs.hp.Rt6bj9WOp6I.L.X.O/am\\x3dBAAAAAAQAAAAAAAAAAAAAAAAAAAAAAAAAAAABAAIAAAAAAAAAAAAAgAAmAEAAACAAAAECAAAAAAAAAAAAAAAIAEAEAAACAAB/rs\\x3dACT90oFT2cT_waaTWGXma4ffUTedddGFuQ',basejs:'/xjs/_/js/k\\x3dxjs.hp.en.RjlhyTv4Gfo.es5.O/am\\x3dAAAAAAAAAAAAAAAAAAAAAAAAAAAAAAAAAAAAACAAAAAAAAAAAAAAAgAAAATgAAAAAAAAAAAAAAAAAAAAAAAAAAAAAAAAAAAAAEB8RwBAACwCAIAX/dg\\x3d0/rs\\x3dACT90oGQZ-sekr7XQwj_E9HDwuoMqGSjHQ',excm:[]};})();(function(){var u='/xjs/_/js/k\\x3dxjs.hp.en.RjlhyTv4Gfo.es5.O/am\\x3dAAAAAAAAAAAAAAAAAAAAAAAAAAAAAAAAAAAAACAAAAAAAAAAAAAAAgAAAATgAAAAAAAAAAAAAAAAAAAAAAAAAAAAAAAAAAAAAEB8RwBAACwCAIAX/d\\x3d1/ed\\x3d1/dg\\x3d3/rs\\x3dACT90oGQZ-sekr7XQwj_E9HDwuoMqGSjHQ/m\\x3dsb_he,d';var st=1;var amd=1000;var mmd=0;var pod=true;var pop=true;var fp='';\n",
            "var e=this||self;function f(){var a,b,d;if(b=a=(b=window.google)==null?void 0:(d=b.ia)==null?void 0:d.r.B2Jtyd)b=a.m,b=b===1||b===5;return b&&a.cbfd!=null&&a.cbvi!=null?a:void 0};function g(){var a=[u];if(!google.dp){for(var b=0;b<a.length;b++){var d=a[b],c=document.createElement(\"link\");c.as=\"script\";c.href=d;c.rel=\"preload\";document.body.appendChild(c)}google.dp=!0}};google.ps===void 0&&(google.ps=[]);function h(){var a=u,b=function(){};google.lx=google.stvsc?b:function(){k(a);google.lx=b};google.bx||google.lx()}function l(a,b){b&&(a.src=b);fp&&(a.fetchPriority=fp);var d=a.onload;a.onload=function(c){d&&d(c);google.ps=google.ps.filter(function(E){return a!==E})};google.ps.push(a);document.body.appendChild(a)}google.as=l;function k(a){google.timers&&google.timers.load&&google.tick&&google.tick(\"load\",\"xjsls\");var b=document.createElement(\"script\");b.onerror=function(){google.ple=1};b.onload=function(){google.ple=0};google.xjsus=void 0;l(b,a);google.aple=-1;google.dp=!0};function m(a){var b=a.getAttribute(\"jscontroller\");return(b===\"UBXHI\"||b===\"R3fhkb\"||b===\"TSZEqd\")&&a.hasAttribute(\"data-src\")}function n(){for(var a=document.getElementsByTagName(\"img\"),b=0,d=a.length;b<d;b++){var c=a[b];if(c.hasAttribute(\"data-lzy_\")&&Number(c.getAttribute(\"data-atf\"))&1&&!m(c))return!0}return!1}for(var p=document.getElementsByTagName(\"img\"),q=0,r=p.length;q<r;++q){var t=p[q];Number(t.getAttribute(\"data-atf\"))&1&&m(t)&&(t.src=t.getAttribute(\"data-src\"))};var w,x,y,z,A,B,C,D;function F(){google.xjsu=u;e._F_jsUrl=u;A=function(){h()};w=!1;x=(st===1||st===3)&&!!google.caft&&!n();y=f();z=(st===2||st===3)&&!!y&&!n();B=pod;D=(C=pop)&&document.prerendering}function G(){w||x||z||D||(A(),w=!0)}\n",
            "setTimeout(function(){google&&google.tick&&google.timers&&google.timers.load&&google.tick(\"load\",\"xjspls\");F();if(x||z||D){if(x){var a=function(){x=!1;G()};google.caft(a);window.setTimeout(a,amd)}z&&(a=function(){z=!1;G()},y.cbvi.push(a),window.setTimeout(a,mmd));D&&document.addEventListener(\"prerenderingchange\",function(){D=!1;G()},{once:!0});if(B||C)w||g()}else A()},0);})();window._ = window._ || {};window._DumpException = _._DumpException = function(e){throw e;};window._s = window._s || {};_s._DumpException = _._DumpException;window._qs = window._qs || {};_qs._DumpException = _._DumpException;(function(){var t=[4,16384,0,0,0,0,0,34078976,0,16384,67120384,939615757,142606341,2101248,8192,0,536870912,4194308,268468224,521142272,541065287,2224,376];window._F_toggles = window._xjs_toggles = t;})();window._F_installCss = window._F_installCss || function(css){};(function(){google.jl={bfl:0,dw:false,ine:false,ubm:false,uwp:true,vs:false};})();(function(){var pmc='{\\x22d\\x22:{},\\x22sb_he\\x22:{\\x22agen\\x22:false,\\x22cgen\\x22:false,\\x22client\\x22:\\x22heirloom-hp\\x22,\\x22dh\\x22:true,\\x22ds\\x22:\\x22\\x22,\\x22fl\\x22:true,\\x22host\\x22:\\x22google.com\\x22,\\x22jsonp\\x22:true,\\x22msgs\\x22:{\\x22cibl\\x22:\\x22\\\\u6e05\\\\u9664\\\\u641c\\\\u5c0b\\x22,\\x22dym\\x22:\\x22\\\\u4f60\\\\u662f\\\\u4e0d\\\\u662f\\\\u8981\\\\u67e5\\\\uff1a\\x22,\\x22lcky\\x22:\\x22\\\\u597d\\\\u624b\\\\u6c23\\x22,\\x22lml\\x22:\\x22\\\\u77ad\\\\u89e3\\\\u8a73\\\\u60c5\\x22,\\x22psrc\\x22:\\x22\\\\u5df2\\\\u5f9e\\\\u60a8\\\\u7684\\\\u300c\\\\u003Ca href\\x3d\\\\\\x22/history\\\\\\x22\\\\u003E\\\\u7db2\\\\u9801\\\\u8a18\\\\u9304\\\\u003C/a\\\\u003E\\\\u300d\\\\u4e2d\\\\u79fb\\\\u9664\\\\u9019\\\\u7b46\\\\u641c\\\\u5c0b\\\\u8a18\\\\u9304\\x22,\\x22psrl\\x22:\\x22\\\\u79fb\\\\u9664\\x22,\\x22sbit\\x22:\\x22\\\\u4ee5\\\\u5716\\\\u641c\\\\u5c0b\\x22,\\x22srch\\x22:\\x22Google \\\\u641c\\\\u5c0b\\x22},\\x22ovr\\x22:{},\\x22pq\\x22:\\x22\\x22,\\x22rfs\\x22:[],\\x22stok\\x22:\\x22kOMZruA6emxEI65eYTO3RE-2i-g\\x22}}';google.pmc=JSON.parse(pmc);})();</script>       </body></html>\n"
          ]
        }
      ],
      "source": [
        "'''\n",
        "Lets get data from google website\n",
        "Send requests to google server to receive response from server\n",
        "'''\n",
        "\n",
        "import requests\n",
        "url = 'https://www.google.com/'\n",
        "\n",
        "# store response from server\n",
        "response = requests.get(url)\n",
        "\n",
        "# print out status\n",
        "# 200 means it received a response from server\n",
        "print(response.status_code)\n",
        "\n",
        "# print out the response in text\n",
        "print(response.text)"
      ]
    },
    {
      "cell_type": "code",
      "source": [
        "# Lets find \"Gmail\" text in the website\n",
        "\n",
        "import requests\n",
        "from bs4 import BeautifulSoup as bs\n",
        "\n",
        "url = 'https://www.google.com/'\n",
        "\n",
        "# store response from server\n",
        "response = requests.get(url)\n",
        "\n",
        "# html parser\n",
        "# The soup object now holds a structured\n",
        "# representation of the HTML page,\n",
        "# making it easier to extract elements (e.g., tags, text, links)\n",
        "# using BeautifulSoup’s methods\n",
        "\n",
        "html = response.text\n",
        "soup = bs(html, 'html.parser')\n",
        "\n",
        "# gmail is in 'a' tag with class name 'gb1'\n",
        "a = soup.find_all('a', class_='gb1')\n",
        "\n",
        "# as you can see, the Gmail is in 6th of 'a' tag\n",
        "for i in a:\n",
        "  print(i)\n",
        "\n",
        "print('\\n')\n",
        "\n",
        "# Now we found 'Gmail'!\n",
        "for i in a:\n",
        "  if (i.text == 'Gmail'):\n",
        "    print(i)\n"
      ],
      "metadata": {
        "colab": {
          "base_uri": "https://localhost:8080/"
        },
        "id": "ZCsNIVK7KNqY",
        "outputId": "525554c8-57aa-4d1b-d738-68ecc4a0bfc5"
      },
      "execution_count": 18,
      "outputs": [
        {
          "output_type": "stream",
          "name": "stdout",
          "text": [
            "<a class=\"gb1\" href=\"https://www.google.com/imghp?hl=zh-TW&amp;tab=wi\">圖片</a>\n",
            "<a class=\"gb1\" href=\"https://maps.google.com.tw/maps?hl=zh-TW&amp;tab=wl\">地圖</a>\n",
            "<a class=\"gb1\" href=\"https://play.google.com/?hl=zh-TW&amp;tab=w8\">Play</a>\n",
            "<a class=\"gb1\" href=\"https://www.youtube.com/?tab=w1\">YouTube</a>\n",
            "<a class=\"gb1\" href=\"https://news.google.com/?tab=wn\">新聞</a>\n",
            "<a class=\"gb1\" href=\"https://mail.google.com/mail/?tab=wm\">Gmail</a>\n",
            "<a class=\"gb1\" href=\"https://drive.google.com/?tab=wo\">雲端硬碟</a>\n",
            "<a class=\"gb1\" href=\"https://www.google.com.tw/intl/zh-TW/about/products?tab=wh\" style=\"text-decoration:none\"><u>更多</u> »</a>\n",
            "\n",
            "\n",
            "<a class=\"gb1\" href=\"https://mail.google.com/mail/?tab=wm\">Gmail</a>\n"
          ]
        }
      ]
    },
    {
      "cell_type": "code",
      "source": [
        "'''\n",
        "Lets extract stock data from naver website\n",
        "'''\n",
        "import requests\n",
        "from bs4 import BeautifulSoup as bs\n",
        "\n",
        "url = 'https://m.stock.naver.com/'\n",
        "\n",
        "response = requests.get(url)\n",
        "# print(response) #Good Connection with Server\n",
        "html = response.text\n",
        "soup = bs(html, 'html.parser') #String -> Tag\n",
        "\n",
        "# Extract Stock data from the top section of website\n",
        "data_table = soup.find('div', class_='MajorMarketIndexList_article__WfUjS')\n",
        "\n",
        "data_row = data_table.find_all(class_='MajorMarketIndexList_item__eXs9_')\n",
        "\n",
        "for i in data_row:\n",
        "    name = i.find('strong').text  # Assuming the name is within a <span> tag\n",
        "    price = i.find('div', class_='MajorMarketIndexList_price__EaMWT').text\n",
        "    print(f'{name}, {price}')\n",
        "\n",
        "\n",
        "\n",
        "\n",
        "\n"
      ],
      "metadata": {
        "colab": {
          "base_uri": "https://localhost:8080/"
        },
        "id": "GPwrYu_2O5xT",
        "outputId": "1e682f4c-13a9-4841-f7a6-afa998ce8a65"
      },
      "execution_count": 104,
      "outputs": [
        {
          "output_type": "stream",
          "name": "stdout",
          "text": [
            "코스피, 2,628.62\n",
            "코스닥, 738.35\n",
            "나스닥 종합, 17,504.12\n",
            "S&P 500, 5,614.66\n",
            "다우존스, 41,581.31\n",
            "필라델피아 반도체, 4,589.03\n",
            "WTI, 66.71\n",
            "VIX, 21.80\n",
            "국제 금, 3,041.30\n",
            "상해종합, 3,426.43\n",
            "니케이 225, 37,751.88\n",
            "유로스톡스 50, 5,467.03\n"
          ]
        }
      ]
    },
    {
      "cell_type": "code",
      "source": [
        "'''\n",
        "now create a txt file using data\n",
        "'''\n",
        "\n",
        "with open('./stock_data.txt', 'w', encoding='utf-8') as f:\n",
        "  for i in data_row:\n",
        "      name = i.find('strong').text  # Assuming the name is within a <span> tag\n",
        "      price = i.find('div', class_='MajorMarketIndexList_price__EaMWT').text\n",
        "      f.write(f'{name}, {price}, \\n')\n",
        "  f.close()\n",
        "\n",
        "print(\"info Stored\")\n",
        ""
      ],
      "metadata": {
        "colab": {
          "base_uri": "https://localhost:8080/"
        },
        "id": "0zeY-4oYZz6t",
        "outputId": "a3919c0b-6627-47ee-ca33-4ce778ebfccd"
      },
      "execution_count": 106,
      "outputs": [
        {
          "output_type": "stream",
          "name": "stdout",
          "text": [
            "info Stored\n"
          ]
        }
      ]
    },
    {
      "cell_type": "code",
      "source": [
        "import requests\n",
        "from bs4 import BeautifulSoup as bs\n",
        "\n",
        "url = 'https://www.melon.com/chart/index.htm'\n",
        "\n",
        "headers = {\"User-Agent\" : \"Mozilla/5.0 (Windows NT 10.0; Win64; x64) AppleWebKit/537.36 (KHTML, like Gecko) Chrome/134.0.0.0 Safari/537.36\"} #all other computers are differnt\n",
        "response = requests.get(url, headers = headers)\n",
        "\n",
        "# print(response)\n",
        "\n",
        "soup = bs(response.text, 'html.parser')\n",
        "\n",
        "songs = soup.find_all('tr', class_='lst50')\n",
        "# print(songs)\n",
        "\n",
        "for i in songs:\n",
        "  #extract ranking\n",
        "  ranks_number = i.find_all('span', class_='rank')[0].text +'위'\n",
        "  #print(ranks_number)\n",
        "\n",
        "  #extract title of song\n",
        "  title = i.find_all('a')[2].text\n",
        "  print(f\"{ranks_number}, {title}\")\n",
        "\n"
      ],
      "metadata": {
        "colab": {
          "base_uri": "https://localhost:8080/"
        },
        "id": "TP8CRcSJjn5P",
        "outputId": "727b4844-7b8f-4cfe-e569-3d24eda4c3f7"
      },
      "execution_count": 111,
      "outputs": [
        {
          "output_type": "stream",
          "name": "stdout",
          "text": [
            "1위, TOO BAD (feat. Anderson .Paak)\n",
            "2위, 모르시나요(PROD.로코베리)\n",
            "3위, HOME SWEET HOME (feat. 태양, 대성)\n",
            "4위, like JENNIE\n",
            "5위, REBEL HEART\n",
            "6위, Drowning\n",
            "7위, 나는 반딧불\n",
            "8위, Whiplash\n",
            "9위, 오늘만 I LOVE YOU\n",
            "10위, APT.\n",
            "11위, ATTITUDE\n",
            "12위, toxic till the end\n",
            "13위, TAKE ME\n",
            "14위, PO￦ER\n",
            "15위, HAPPY\n",
            "16위, 내게 사랑이 뭐냐고 물어본다면\n",
            "17위, Dash\n",
            "18위, 소나기\n",
            "19위, 미치게 그리워서\n",
            "20위, 천상연\n",
            "21위, DRIP\n",
            "22위, Supernova\n",
            "23위, Welcome to the Show\n",
            "24위, RIZZ\n",
            "25위, 한 페이지가 될 수 있게\n",
            "26위, Island\n",
            "27위, I DO ME\n",
            "28위, 사랑은 늘 도망가\n",
            "29위, UP (KARINA Solo)\n",
            "30위, 슬픈 초대장\n",
            "31위, Chroma Drift\n",
            "32위, 어떻게 이별까지 사랑하겠어, 널 사랑하는 거지\n",
            "33위, 12:32 (A to T)\n",
            "34위, 내 이름 맑음\n",
            "35위, 예뻤어\n",
            "36위, 청춘만화\n",
            "37위, The Chase\n",
            "38위, Love wins all\n",
            "39위, Die With A Smile\n",
            "40위, 우리들의 블루스\n",
            "41위, How Sweet\n",
            "42위, 너와의 모든 지금\n",
            "43위, 고민중독\n",
            "44위, 너의 모든 순간\n",
            "45위, 그대만 있다면 (여름날 우리 X 너드커넥션 (Nerd Connection))\n",
            "46위, 첫 만남은 계획대로 되지 않아\n",
            "47위, Mantra\n",
            "48위, DRAMA\n",
            "49위, 무제(無題) (Untitled, 2014)\n",
            "50위, HOT\n"
          ]
        }
      ]
    }
  ]
}