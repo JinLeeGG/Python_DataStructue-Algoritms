{
  "nbformat": 4,
  "nbformat_minor": 0,
  "metadata": {
    "colab": {
      "provenance": []
    },
    "kernelspec": {
      "name": "python3",
      "display_name": "Python 3"
    },
    "language_info": {
      "name": "python"
    }
  },
  "cells": [
    {
      "cell_type": "markdown",
      "source": [
        "# 넘파이 (Numpy)\n",
        "    - 파이썬을 활용한 데이터 분석에서 가장 기본이되는 라이브러리\n",
        "    - 넘파이로만으로도 많이 사용되지만, 판다스(Pandas), 머신러닝 등 수 많은 분야에서 기본적으로 사용되므로, 파이썬 개발자라면 필수로 알아야하는 라이브러리이다.\n",
        "    - https://numpy.org/\n",
        "\n",
        "### 1) 수학 수치 연산\n",
        "    - 합, 평균, 행렬연산 등이 가능하다\n",
        "\n",
        "### 2) 기본 타입\n",
        "    - ndarray(n-dimenstional array) 다차원 배열의 표연이 가능하다\n",
        "\n",
        "### 3) 파이썬 list가 있음에도 필요한 이유\n",
        "    - 성능 : 성능적으로 훨씬 빠르다.\n",
        "    - 메모리 : 적은 메모리를 사용한다\n",
        "    - 제공함수 : 선형대수, 통계관련 여러 수치 함수를 제공한다.\n",
        "    - 그 외 수많은 모듈에서 numpy 함수명과 기능을 그대로 사용한다.\n",
        "\n"
      ],
      "metadata": {
        "id": "gCdJ_tc62W3P"
      }
    },
    {
      "cell_type": "markdown",
      "source": [
        "<img width=\"500\" src=\"https://raw.githubusercontent.com/mrdbourke/tensorflow-deep-learning/main/images/00-scalar-vector-matrix-tensor.png\" />\n",
        "\n",
        "    - Scalar: 0차원 array(단일값)\n",
        "    - Vector : 1차원 array\n",
        "    - Matrix : 2차원 array\n",
        "    - Tensor : 3차원(이상) array"
      ],
      "metadata": {
        "id": "eSMCyVB1DDHc"
      }
    },
    {
      "cell_type": "code",
      "source": [
        "import numpy as np"
      ],
      "metadata": {
        "id": "SRmyA9m6Dgcu"
      },
      "execution_count": null,
      "outputs": []
    },
    {
      "cell_type": "code",
      "source": [
        "# 1차원 array(백터) 생성\n",
        "# np.array(iterable)\n",
        "\n",
        "arr1 = np.array([1,2,3])\n",
        "arr2 = np.array([5,6,7])"
      ],
      "metadata": {
        "id": "U4EcBnR3DzYR"
      },
      "execution_count": null,
      "outputs": []
    },
    {
      "cell_type": "code",
      "source": [
        "# __repr__ : represent호출 (미리보기)\n",
        "arr1"
      ],
      "metadata": {
        "colab": {
          "base_uri": "https://localhost:8080/"
        },
        "id": "TbtKW01IEPNK",
        "outputId": "8e7d3c6e-6636-4690-84df-60f6003bc938"
      },
      "execution_count": null,
      "outputs": [
        {
          "output_type": "execute_result",
          "data": {
            "text/plain": [
              "array([1, 2, 3])"
            ]
          },
          "metadata": {},
          "execution_count": 3
        }
      ]
    },
    {
      "cell_type": "code",
      "source": [
        "print(type(arr1))"
      ],
      "metadata": {
        "colab": {
          "base_uri": "https://localhost:8080/"
        },
        "id": "BGKZyaqPF0m_",
        "outputId": "8f9e362f-a734-4bb5-ca15-dfbdbe5aefc3"
      },
      "execution_count": null,
      "outputs": [
        {
          "output_type": "stream",
          "name": "stdout",
          "text": [
            "<class 'numpy.ndarray'>\n"
          ]
        }
      ]
    },
    {
      "cell_type": "code",
      "source": [
        "# __str__ : String호출\n",
        "print(arr1)"
      ],
      "metadata": {
        "colab": {
          "base_uri": "https://localhost:8080/"
        },
        "id": "ftlFzVXREQzQ",
        "outputId": "268df2b7-fd5c-4290-ff19-abd139b80c47"
      },
      "execution_count": null,
      "outputs": [
        {
          "output_type": "stream",
          "name": "stdout",
          "text": [
            "[1 2 3]\n"
          ]
        }
      ]
    },
    {
      "cell_type": "code",
      "source": [
        "# 0차원 : Scalar\n",
        "# np.array(10)\n",
        "print(np.array(10))"
      ],
      "metadata": {
        "colab": {
          "base_uri": "https://localhost:8080/"
        },
        "id": "3bsNIOPhHN2J",
        "outputId": "8a1a285f-afa3-418d-893f-c1adffcc8885"
      },
      "execution_count": null,
      "outputs": [
        {
          "output_type": "stream",
          "name": "stdout",
          "text": [
            "10\n"
          ]
        }
      ]
    },
    {
      "cell_type": "markdown",
      "source": [
        "## 타입 승격\n",
        "    - array는 모든 원소가 '한 가지 타입' 으로 정의해야 한다.\n",
        "    - 모든 타입 중 가장 큰 타입으로 강제로 변환한다.\n"
      ],
      "metadata": {
        "id": "w0RENDmuIb-i"
      }
    },
    {
      "cell_type": "markdown",
      "source": [],
      "metadata": {
        "id": "SoYOBUyiIbUl"
      }
    },
    {
      "cell_type": "code",
      "source": [
        "# List\n",
        "\n",
        "li1 =  [1, 2, True, '김', 5.5]\n",
        "print(li1)\n",
        "print(type(li1))\n",
        "\n",
        "# 타입 승격\n",
        "arr1 = np.array([1, 2, True, '김', 5.5])\n",
        "print(arr1)\n",
        "print(type(arr1))\n"
      ],
      "metadata": {
        "colab": {
          "base_uri": "https://localhost:8080/"
        },
        "id": "ajfbbqrSHcuB",
        "outputId": "c43a448f-a5c3-40d9-e58c-dc3a18011ed4"
      },
      "execution_count": null,
      "outputs": [
        {
          "output_type": "stream",
          "name": "stdout",
          "text": [
            "[1, 2, True, '김', 5.5]\n",
            "<class 'list'>\n",
            "['1' '2' 'True' '김' '5.5']\n",
            "<class 'numpy.ndarray'>\n"
          ]
        }
      ]
    },
    {
      "cell_type": "code",
      "source": [
        "# 정수와 실수가 포함되어 있음으로 실수 타입으로 타입 승격한다.\n",
        "np.array([1,1,5,5.5,5])"
      ],
      "metadata": {
        "colab": {
          "base_uri": "https://localhost:8080/"
        },
        "id": "SVeQVnKLIpfw",
        "outputId": "0fdcae8b-b047-41eb-e55d-5f7be1745c1a"
      },
      "execution_count": null,
      "outputs": [
        {
          "output_type": "execute_result",
          "data": {
            "text/plain": [
              "array([1. , 1. , 5. , 5.5, 5. ])"
            ]
          },
          "metadata": {},
          "execution_count": 8
        }
      ]
    },
    {
      "cell_type": "markdown",
      "source": [
        "## numpy 필드"
      ],
      "metadata": {
        "id": "09YrSwaLI4V1"
      }
    },
    {
      "cell_type": "code",
      "source": [
        "arr3 = np.array([1,2,3,4,5])\n",
        "arr3"
      ],
      "metadata": {
        "colab": {
          "base_uri": "https://localhost:8080/"
        },
        "id": "AYM-g-meI75L",
        "outputId": "72d3167d-be96-4564-bd81-5316d1dfa9bc"
      },
      "execution_count": null,
      "outputs": [
        {
          "output_type": "execute_result",
          "data": {
            "text/plain": [
              "array([1, 2, 3, 4, 5])"
            ]
          },
          "metadata": {},
          "execution_count": 9
        }
      ]
    },
    {
      "cell_type": "markdown",
      "source": [
        "### shape\n",
        "    - numpy에서는 해당 array의 크기를 알 수 있다. shape를 확인함으로서 몇개의 데이터가 있는지 몇 차원으로 존재하는지 확인할 수 있다.\n",
        "    - arr.shape의 경과는 튜플로 (행, 열)로 행만 존재하면 1차원, 행렬이 존재하면 2차원으로 차수를 알 수 있다. 또한 행*열을 곱하면 크기도 확인할 수 있다.\n",
        "\n"
      ],
      "metadata": {
        "id": "UHcD8SigJIqd"
      }
    },
    {
      "cell_type": "code",
      "source": [
        "arr3.shape"
      ],
      "metadata": {
        "colab": {
          "base_uri": "https://localhost:8080/"
        },
        "id": "l-hB8jtLJG0N",
        "outputId": "6a4cdadf-2879-4f4c-dd26-86bf2181b881"
      },
      "execution_count": null,
      "outputs": [
        {
          "output_type": "execute_result",
          "data": {
            "text/plain": [
              "(5,)"
            ]
          },
          "metadata": {},
          "execution_count": 10
        }
      ]
    },
    {
      "cell_type": "markdown",
      "source": [
        "### mdim\n",
        "    - 몇 차원 데이터인지 확인할 수 있는 필드\n"
      ],
      "metadata": {
        "id": "9URDX5dDKRH_"
      }
    },
    {
      "cell_type": "code",
      "source": [
        "# len(arr3.shape) 와 같다.\n",
        "arr3.ndim"
      ],
      "metadata": {
        "colab": {
          "base_uri": "https://localhost:8080/"
        },
        "id": "7LGbVSVSKYTu",
        "outputId": "737fb25e-f6f1-4ce0-91fe-a35751c9e3b8"
      },
      "execution_count": null,
      "outputs": [
        {
          "output_type": "execute_result",
          "data": {
            "text/plain": [
              "1"
            ]
          },
          "metadata": {},
          "execution_count": 11
        }
      ]
    },
    {
      "cell_type": "markdown",
      "source": [
        "### size\n",
        "  - 데이터의 개수"
      ],
      "metadata": {
        "id": "RmNco7GMKmhr"
      }
    },
    {
      "cell_type": "code",
      "source": [
        "arr3.size"
      ],
      "metadata": {
        "colab": {
          "base_uri": "https://localhost:8080/"
        },
        "id": "e9gulGb_Kpih",
        "outputId": "3d47c26a-39e6-4cc4-a40d-c5926603902f"
      },
      "execution_count": null,
      "outputs": [
        {
          "output_type": "execute_result",
          "data": {
            "text/plain": [
              "5"
            ]
          },
          "metadata": {},
          "execution_count": 12
        }
      ]
    },
    {
      "cell_type": "markdown",
      "source": [
        "### len()\n",
        "  - array는 iterable한 객체이다. 따라서 길이를 셀 수 있다."
      ],
      "metadata": {
        "id": "IvJ69U9EK2jW"
      }
    },
    {
      "cell_type": "code",
      "source": [
        "len(arr3)"
      ],
      "metadata": {
        "colab": {
          "base_uri": "https://localhost:8080/"
        },
        "id": "poA_Eq4dK0PJ",
        "outputId": "d26281f1-0270-4ac1-b7e0-8747d74df9df"
      },
      "execution_count": null,
      "outputs": [
        {
          "output_type": "execute_result",
          "data": {
            "text/plain": [
              "5"
            ]
          },
          "metadata": {},
          "execution_count": 13
        }
      ]
    },
    {
      "cell_type": "markdown",
      "source": [
        "### dtype\n",
        "  - 데이터의 타입\n",
        "  "
      ],
      "metadata": {
        "id": "971vs93hLDhB"
      }
    },
    {
      "cell_type": "code",
      "source": [
        "# 정수는 8byte 이다.\n",
        "arr3.dtype"
      ],
      "metadata": {
        "colab": {
          "base_uri": "https://localhost:8080/"
        },
        "id": "AxnMmIZ8LHgQ",
        "outputId": "ccf3913f-3009-4d7d-ee66-10715033eb33"
      },
      "execution_count": null,
      "outputs": [
        {
          "output_type": "execute_result",
          "data": {
            "text/plain": [
              "dtype('int64')"
            ]
          },
          "metadata": {},
          "execution_count": 14
        }
      ]
    },
    {
      "cell_type": "markdown",
      "source": [],
      "metadata": {
        "id": "1Ew5JfQLLOsa"
      }
    },
    {
      "cell_type": "markdown",
      "source": [
        "##  numpy의 자료형\n",
        "    - 부호가 있는 정수 int(8, 16, 32, 64)\n",
        "    - 부호가 없는 정수 uint(8, 16, 32, 64)\n",
        "    - 실수 float(16, 32, 64, 128)\n",
        "    - x복소수 complex(64, 128 256)\n",
        "    - 불리언 bool\n",
        "    - x 문자열 string_\n",
        "    - x 파이썬 오브젝트 object\n",
        "    - x 유니코드 unicode_"
      ],
      "metadata": {
        "id": "1Mgys1xHLyMz"
      }
    },
    {
      "cell_type": "markdown",
      "source": [
        "## 2차원 array 생성"
      ],
      "metadata": {
        "id": "n2-Sx1DZMwn2"
      }
    },
    {
      "cell_type": "code",
      "source": [
        "arr5 = np.array([1,2,3,4])\n",
        "arr6 = np.array([[5,6,7,8], [9,10,11,12]])"
      ],
      "metadata": {
        "id": "eLROydW2Lww0"
      },
      "execution_count": null,
      "outputs": []
    },
    {
      "cell_type": "code",
      "source": [
        "arr5"
      ],
      "metadata": {
        "colab": {
          "base_uri": "https://localhost:8080/"
        },
        "id": "LewoBPDFNCKQ",
        "outputId": "8c206fe2-11e7-4210-f976-d342415a3b34"
      },
      "execution_count": null,
      "outputs": [
        {
          "output_type": "execute_result",
          "data": {
            "text/plain": [
              "array([1, 2, 3, 4])"
            ]
          },
          "metadata": {},
          "execution_count": 16
        }
      ]
    },
    {
      "cell_type": "code",
      "source": [
        "arr6"
      ],
      "metadata": {
        "colab": {
          "base_uri": "https://localhost:8080/"
        },
        "id": "DDFgodDYNEkH",
        "outputId": "9a85f4a7-a6dc-4b0a-a96b-11e013c8383f"
      },
      "execution_count": null,
      "outputs": [
        {
          "output_type": "execute_result",
          "data": {
            "text/plain": [
              "array([[ 5,  6,  7,  8],\n",
              "       [ 9, 10, 11, 12]])"
            ]
          },
          "metadata": {},
          "execution_count": 17
        }
      ]
    },
    {
      "cell_type": "code",
      "source": [
        "print(arr6.shape)\n",
        "arr6"
      ],
      "metadata": {
        "colab": {
          "base_uri": "https://localhost:8080/"
        },
        "id": "hOqeRPAdNG2E",
        "outputId": "7e458433-55b1-4c07-ffac-b4bbd72a0ffc"
      },
      "execution_count": null,
      "outputs": [
        {
          "output_type": "stream",
          "name": "stdout",
          "text": [
            "(2, 4)\n"
          ]
        },
        {
          "output_type": "execute_result",
          "data": {
            "text/plain": [
              "array([[ 5,  6,  7,  8],\n",
              "       [ 9, 10, 11, 12]])"
            ]
          },
          "metadata": {},
          "execution_count": 18
        }
      ]
    },
    {
      "cell_type": "code",
      "source": [
        "arr6.ndim"
      ],
      "metadata": {
        "colab": {
          "base_uri": "https://localhost:8080/"
        },
        "id": "a5ojjMR0NaUR",
        "outputId": "7e3a66a9-ece2-4069-d605-4aa32d0e2c22"
      },
      "execution_count": null,
      "outputs": [
        {
          "output_type": "execute_result",
          "data": {
            "text/plain": [
              "2"
            ]
          },
          "metadata": {},
          "execution_count": 19
        }
      ]
    },
    {
      "cell_type": "code",
      "source": [
        "arr6.size"
      ],
      "metadata": {
        "colab": {
          "base_uri": "https://localhost:8080/"
        },
        "id": "MmZwi2GyNcP0",
        "outputId": "c1e8f0d8-0bee-4094-c2e9-6ff41135fc59"
      },
      "execution_count": null,
      "outputs": [
        {
          "output_type": "execute_result",
          "data": {
            "text/plain": [
              "8"
            ]
          },
          "metadata": {},
          "execution_count": 20
        }
      ]
    },
    {
      "cell_type": "markdown",
      "source": [
        "## 3차원 array"
      ],
      "metadata": {
        "id": "SESMHhVSNlPH"
      }
    },
    {
      "cell_type": "code",
      "source": [
        "arr7 = np.array([\n",
        "          [\n",
        "              [10, 20, 30, 40],\n",
        "              [50, 60, 70, 80],\n",
        "              [90, 100, 110, 120],\n",
        "          ],\n",
        "          [\n",
        "              [100, 200, 300, 400],\n",
        "              [500, 600, 700, 800],\n",
        "              [90, 1000, 1100, 1200],\n",
        "          ]\n",
        "      ])"
      ],
      "metadata": {
        "id": "pTheIFhBNeNT"
      },
      "execution_count": null,
      "outputs": []
    },
    {
      "cell_type": "code",
      "source": [
        "# 숫자가 3개니까 3차원\n",
        "# 2*3*4 24 size\n",
        "arr7.shape"
      ],
      "metadata": {
        "colab": {
          "base_uri": "https://localhost:8080/"
        },
        "id": "Uhnb354uOd0y",
        "outputId": "a6246bcd-c564-4cb7-9ecf-814b57513609"
      },
      "execution_count": null,
      "outputs": [
        {
          "output_type": "execute_result",
          "data": {
            "text/plain": [
              "(2, 3, 4)"
            ]
          },
          "metadata": {},
          "execution_count": 22
        }
      ]
    },
    {
      "cell_type": "code",
      "source": [
        "arr7.size"
      ],
      "metadata": {
        "colab": {
          "base_uri": "https://localhost:8080/"
        },
        "id": "CEG-Nc2mO0xP",
        "outputId": "59ae01af-18e0-488c-fea2-94b50cc2fddf"
      },
      "execution_count": null,
      "outputs": [
        {
          "output_type": "execute_result",
          "data": {
            "text/plain": [
              "24"
            ]
          },
          "metadata": {},
          "execution_count": 23
        }
      ]
    },
    {
      "cell_type": "code",
      "source": [
        "arr7.ndim"
      ],
      "metadata": {
        "colab": {
          "base_uri": "https://localhost:8080/"
        },
        "id": "eM03uBpQO2rR",
        "outputId": "6959c94a-8bc0-4509-8f37-0d7b0cb51cca"
      },
      "execution_count": null,
      "outputs": [
        {
          "output_type": "execute_result",
          "data": {
            "text/plain": [
              "3"
            ]
          },
          "metadata": {},
          "execution_count": 24
        }
      ]
    },
    {
      "cell_type": "markdown",
      "source": [
        "## 같은 값이라도 차원이 다를 수 있다.\n",
        "    - \"차원 변환\" 이 중요하다."
      ],
      "metadata": {
        "id": "IFXGg7haO8bm"
      }
    },
    {
      "cell_type": "code",
      "source": [
        "np.array(10)"
      ],
      "metadata": {
        "colab": {
          "base_uri": "https://localhost:8080/"
        },
        "id": "LorlMeK5PB4s",
        "outputId": "e41fef51-2e38-44b9-e78e-7a5bc72124f2"
      },
      "execution_count": null,
      "outputs": [
        {
          "output_type": "execute_result",
          "data": {
            "text/plain": [
              "array(10)"
            ]
          },
          "metadata": {},
          "execution_count": 25
        }
      ]
    },
    {
      "cell_type": "code",
      "source": [
        "np.array([10])"
      ],
      "metadata": {
        "colab": {
          "base_uri": "https://localhost:8080/"
        },
        "id": "MjFRfXFuPE87",
        "outputId": "c1c5d672-04fe-4cb1-ef4a-fb2649f40e52"
      },
      "execution_count": null,
      "outputs": [
        {
          "output_type": "execute_result",
          "data": {
            "text/plain": [
              "array([10])"
            ]
          },
          "metadata": {},
          "execution_count": 26
        }
      ]
    },
    {
      "cell_type": "code",
      "source": [
        "np.array([[10]])"
      ],
      "metadata": {
        "colab": {
          "base_uri": "https://localhost:8080/"
        },
        "id": "_XFg8G61PMDm",
        "outputId": "0cb04173-8551-4a8a-ddff-4a4c305e8cb6"
      },
      "execution_count": null,
      "outputs": [
        {
          "output_type": "execute_result",
          "data": {
            "text/plain": [
              "array([[10]])"
            ]
          },
          "metadata": {},
          "execution_count": 27
        }
      ]
    },
    {
      "cell_type": "code",
      "source": [
        "np.array([[[10]]])"
      ],
      "metadata": {
        "colab": {
          "base_uri": "https://localhost:8080/"
        },
        "id": "kmKIqHA1PPNM",
        "outputId": "c7c1323d-186e-4b62-962b-b47bc2899675"
      },
      "execution_count": null,
      "outputs": [
        {
          "output_type": "execute_result",
          "data": {
            "text/plain": [
              "array([[[10]]])"
            ]
          },
          "metadata": {},
          "execution_count": 28
        }
      ]
    },
    {
      "cell_type": "markdown",
      "source": [
        "## np.arange\n",
        "  - range()와 유사하다\n"
      ],
      "metadata": {
        "id": "hEkBZGovPV_H"
      }
    },
    {
      "cell_type": "code",
      "source": [
        "np.arange(10)"
      ],
      "metadata": {
        "colab": {
          "base_uri": "https://localhost:8080/"
        },
        "id": "VoiMu_43Ph6N",
        "outputId": "c686860e-19e8-49e5-b5c3-2ab6d07e59de"
      },
      "execution_count": null,
      "outputs": [
        {
          "output_type": "execute_result",
          "data": {
            "text/plain": [
              "array([0, 1, 2, 3, 4, 5, 6, 7, 8, 9])"
            ]
          },
          "metadata": {},
          "execution_count": 29
        }
      ]
    },
    {
      "cell_type": "code",
      "source": [
        "np.arange(0, 10)"
      ],
      "metadata": {
        "colab": {
          "base_uri": "https://localhost:8080/"
        },
        "id": "bt4dDoM6Psf2",
        "outputId": "e6dee3ee-ebb8-4ba1-918b-4b56326deb1b"
      },
      "execution_count": null,
      "outputs": [
        {
          "output_type": "execute_result",
          "data": {
            "text/plain": [
              "array([0, 1, 2, 3, 4, 5, 6, 7, 8, 9])"
            ]
          },
          "metadata": {},
          "execution_count": 30
        }
      ]
    },
    {
      "cell_type": "code",
      "source": [
        "np.arange(0, 10, 2)"
      ],
      "metadata": {
        "colab": {
          "base_uri": "https://localhost:8080/"
        },
        "id": "aS1nEXjQPw47",
        "outputId": "fe34473c-5b2f-41ea-f978-5813d3e3009c"
      },
      "execution_count": null,
      "outputs": [
        {
          "output_type": "execute_result",
          "data": {
            "text/plain": [
              "array([0, 2, 4, 6, 8])"
            ]
          },
          "metadata": {},
          "execution_count": 31
        }
      ]
    },
    {
      "cell_type": "code",
      "source": [
        "#numpy에 dtype을 붙여주면 그 타입으로 변경된다.\n",
        "# np.arange(10, 0, -1, dtype=np.int16)\n",
        "np.arange(10, 0, -1, dtype=np.int16).dtype\n"
      ],
      "metadata": {
        "colab": {
          "base_uri": "https://localhost:8080/"
        },
        "id": "vrAzrXtEP5Oh",
        "outputId": "e366ab88-7390-48ec-eeee-455e87224c0f"
      },
      "execution_count": null,
      "outputs": [
        {
          "output_type": "execute_result",
          "data": {
            "text/plain": [
              "dtype('int16')"
            ]
          },
          "metadata": {},
          "execution_count": 32
        }
      ]
    },
    {
      "cell_type": "code",
      "source": [
        "#다른 타입으로 어레이를 복제하려면?\n",
        "ar1 = np.arange(3,10)\n",
        "ar1.dtype"
      ],
      "metadata": {
        "colab": {
          "base_uri": "https://localhost:8080/"
        },
        "id": "0OXBPxrKQY0M",
        "outputId": "41d5419e-70f8-4236-d4be-5d01f2cea591"
      },
      "execution_count": null,
      "outputs": [
        {
          "output_type": "execute_result",
          "data": {
            "text/plain": [
              "dtype('int64')"
            ]
          },
          "metadata": {},
          "execution_count": 33
        }
      ]
    },
    {
      "cell_type": "markdown",
      "source": [
        "## astype(타입)\n",
        "    - 타입 변환한 array를 리턴(복제)\n",
        "    - 원본 배열은 변화가 없다"
      ],
      "metadata": {
        "id": "v_rBYpfdRFtr"
      }
    },
    {
      "cell_type": "code",
      "source": [
        "ar1_copy = ar1.astype(np.float32)\n",
        "#오리지널 데이터는 안건드린다\n",
        "print(ar1.dtype)\n",
        "print(ar1)\n",
        "#클론한 값만 변형된다.\n",
        "print(ar1_copy.dtype)\n",
        "print(ar1_copy)"
      ],
      "metadata": {
        "colab": {
          "base_uri": "https://localhost:8080/"
        },
        "id": "U4msCq6EQkSh",
        "outputId": "c3458d75-8b04-4bd3-d34f-8abab6bf3968"
      },
      "execution_count": null,
      "outputs": [
        {
          "output_type": "stream",
          "name": "stdout",
          "text": [
            "int64\n",
            "[3 4 5 6 7 8 9]\n",
            "float32\n",
            "[3. 4. 5. 6. 7. 8. 9.]\n"
          ]
        }
      ]
    },
    {
      "cell_type": "markdown",
      "source": [
        "## reshape()\n",
        "    - ndarray의 형태, 차원을 바꾸기 위해 사용한다.\n",
        "    - 머신러닝, 데이터 프로세싱에서 매우 자주 사용되는 차원 변환."
      ],
      "metadata": {
        "id": "MfnqN83ZRmUE"
      }
    },
    {
      "cell_type": "code",
      "source": [
        "np.arange(12).reshape(2, 6)\n",
        "\n",
        "#사이즈가 맞지 않아서 에러\n",
        "# np.arange(12).reshape(2, 4)"
      ],
      "metadata": {
        "colab": {
          "base_uri": "https://localhost:8080/"
        },
        "id": "k4XN3nheT2C5",
        "outputId": "b0d1a7d3-a66d-45d3-dc04-58caed323369"
      },
      "execution_count": null,
      "outputs": [
        {
          "output_type": "execute_result",
          "data": {
            "text/plain": [
              "array([[ 0,  1,  2,  3,  4,  5],\n",
              "       [ 6,  7,  8,  9, 10, 11]])"
            ]
          },
          "metadata": {},
          "execution_count": 35
        }
      ]
    },
    {
      "cell_type": "code",
      "source": [
        "# 3차원\n",
        "print(np.arange(12).reshape(3, 2, 2).shape)\n",
        "np.arange(12).reshape(3, 2, 2)"
      ],
      "metadata": {
        "colab": {
          "base_uri": "https://localhost:8080/"
        },
        "id": "rxFQSsoEUtJ6",
        "outputId": "37e6046a-9e8a-4750-c288-9729241b7565"
      },
      "execution_count": null,
      "outputs": [
        {
          "output_type": "stream",
          "name": "stdout",
          "text": [
            "(3, 2, 2)\n"
          ]
        },
        {
          "output_type": "execute_result",
          "data": {
            "text/plain": [
              "array([[[ 0,  1],\n",
              "        [ 2,  3]],\n",
              "\n",
              "       [[ 4,  5],\n",
              "        [ 6,  7]],\n",
              "\n",
              "       [[ 8,  9],\n",
              "        [10, 11]]])"
            ]
          },
          "metadata": {},
          "execution_count": 36
        }
      ]
    },
    {
      "cell_type": "markdown",
      "source": [
        "## np.ones, np.zeros\n",
        "    - array의 초기값을 설정\n",
        "    - 1로 채울껀지(ones) 0으로 채울껀지(zeros)"
      ],
      "metadata": {
        "id": "xoqhL7NjVHtL"
      }
    },
    {
      "cell_type": "code",
      "source": [
        "np.ones(5)\n",
        "np.ones(5, dtype=np.int16)"
      ],
      "metadata": {
        "colab": {
          "base_uri": "https://localhost:8080/"
        },
        "id": "ebWjS8E4VnnV",
        "outputId": "84d6e19b-384f-46df-bd9d-b48154ace234"
      },
      "execution_count": null,
      "outputs": [
        {
          "output_type": "execute_result",
          "data": {
            "text/plain": [
              "array([1, 1, 1, 1, 1], dtype=int16)"
            ]
          },
          "metadata": {},
          "execution_count": 37
        }
      ]
    },
    {
      "cell_type": "code",
      "source": [
        "np.ones(6, dtype=np.int8).reshape(2, 3)\n"
      ],
      "metadata": {
        "colab": {
          "base_uri": "https://localhost:8080/"
        },
        "id": "wU7XLgjeVuk9",
        "outputId": "98a2c96f-c1a2-4f35-fcf0-5fb21331e73c"
      },
      "execution_count": null,
      "outputs": [
        {
          "output_type": "execute_result",
          "data": {
            "text/plain": [
              "array([[1, 1, 1],\n",
              "       [1, 1, 1]], dtype=int8)"
            ]
          },
          "metadata": {},
          "execution_count": 38
        }
      ]
    },
    {
      "cell_type": "code",
      "source": [
        "#부호가 없는 int값만 들어갈수 있다 +-값은 못들어간다.\n",
        "np.zeros(10, dtype=np.uint8)"
      ],
      "metadata": {
        "colab": {
          "base_uri": "https://localhost:8080/"
        },
        "id": "PJyCpdz0WCJ3",
        "outputId": "49926933-3aeb-4d70-ad54-8ff97a6eae95"
      },
      "execution_count": null,
      "outputs": [
        {
          "output_type": "execute_result",
          "data": {
            "text/plain": [
              "array([0, 0, 0, 0, 0, 0, 0, 0, 0, 0], dtype=uint8)"
            ]
          },
          "metadata": {},
          "execution_count": 39
        }
      ]
    },
    {
      "cell_type": "code",
      "source": [
        "#3차원 매트릭스 구조로 자료구조가 들어간다.\n",
        "np.zeros((3,2,5), dtype=np.uint8)"
      ],
      "metadata": {
        "colab": {
          "base_uri": "https://localhost:8080/"
        },
        "id": "snvY86BaWnhh",
        "outputId": "1b875d4f-b59e-4019-f72f-1f119aee36c0"
      },
      "execution_count": null,
      "outputs": [
        {
          "output_type": "execute_result",
          "data": {
            "text/plain": [
              "array([[[0, 0, 0, 0, 0],\n",
              "        [0, 0, 0, 0, 0]],\n",
              "\n",
              "       [[0, 0, 0, 0, 0],\n",
              "        [0, 0, 0, 0, 0]],\n",
              "\n",
              "       [[0, 0, 0, 0, 0],\n",
              "        [0, 0, 0, 0, 0]]], dtype=uint8)"
            ]
          },
          "metadata": {},
          "execution_count": 40
        }
      ]
    },
    {
      "cell_type": "markdown",
      "source": [
        "## 단위 행렬\n",
        "    - 선형 대수학에서 사용되는 중요한 개념으로, 주어진 크기의 정사각형 행렬에서 주 대각서의 모든 원소는 1이고, 나머지 원소들은 0인 행렬을 의미한다\n",
        "    - 머신러닝에서 데이터를 변환하거나 특정 모델을 학습할 때, 가중치 초기화나 수치 계산에서 단위 행렬을 사용한다.\n"
      ],
      "metadata": {
        "id": "WBn_oFcVW1Fw"
      }
    },
    {
      "cell_type": "code",
      "source": [
        "np.eye(5)"
      ],
      "metadata": {
        "colab": {
          "base_uri": "https://localhost:8080/"
        },
        "id": "9LDOQyIDXPTY",
        "outputId": "7d0a0e6e-6836-4d66-c60d-783f20208e43"
      },
      "execution_count": null,
      "outputs": [
        {
          "output_type": "execute_result",
          "data": {
            "text/plain": [
              "array([[1., 0., 0., 0., 0.],\n",
              "       [0., 1., 0., 0., 0.],\n",
              "       [0., 0., 1., 0., 0.],\n",
              "       [0., 0., 0., 1., 0.],\n",
              "       [0., 0., 0., 0., 1.]])"
            ]
          },
          "metadata": {},
          "execution_count": 41
        }
      ]
    },
    {
      "cell_type": "markdown",
      "source": [
        "## np.random 서브 모듈\n",
        "    - rand : 0 ~ 1 사이의 균일 분포(uniform distribution) [균일하게 값들을 뽑아내는 방법]\n",
        "    - randn : 가우시안 표준 정규 분포 [평균치의 값을 뽑아내는것]\n",
        "    - randint : 균일 분포의 정규 난수\n",
        "\n"
      ],
      "metadata": {
        "id": "hwVVUjHtXgLK"
      }
    },
    {
      "cell_type": "code",
      "source": [
        "# np.random.rand(개수)\n",
        "# 0~1까지의 난수\n",
        "np.random.rand(10)"
      ],
      "metadata": {
        "colab": {
          "base_uri": "https://localhost:8080/"
        },
        "id": "QBUccaukYKhq",
        "outputId": "10371053-e7f3-4679-d7ad-635e1035e5e7"
      },
      "execution_count": null,
      "outputs": [
        {
          "output_type": "execute_result",
          "data": {
            "text/plain": [
              "array([0.84952129, 0.20222675, 0.4686309 , 0.36333596, 0.05392127,\n",
              "       0.83746755, 0.87622681, 0.53251216, 0.94732295, 0.8515771 ])"
            ]
          },
          "metadata": {},
          "execution_count": 42
        }
      ]
    },
    {
      "cell_type": "code",
      "source": [
        "#2행 3열로 만들수 있다. 다차원으로\n",
        "np.random.rand(2,3)"
      ],
      "metadata": {
        "colab": {
          "base_uri": "https://localhost:8080/"
        },
        "id": "k5sGBNQEYX7Q",
        "outputId": "9ec8628a-4d94-43cc-9817-0ad0da593019"
      },
      "execution_count": null,
      "outputs": [
        {
          "output_type": "execute_result",
          "data": {
            "text/plain": [
              "array([[1.00348333e-01, 9.00923416e-01, 9.36327846e-01],\n",
              "       [7.48759670e-01, 8.23473614e-04, 4.58986263e-01]])"
            ]
          },
          "metadata": {},
          "execution_count": 43
        }
      ]
    },
    {
      "cell_type": "markdown",
      "source": [
        "<img width=300 src=\"https://thebook.io/img/080263/218.jpg\" />\n",
        "\n",
        "    1) 균일 분포\n",
        "        - 균일 분포는 모든 값이 동일한 확률로 발생하는 분포\n",
        "\n",
        "    2) 정규 분포 (가우시안 분포)\n",
        "        - 정규 분포는 가장 일반적이고 중요한 연속 확률 분포로, 벨 모양의 대칭적 분포\n",
        "        - 가장 많은 데이터가 평균 근처에 집중"
      ],
      "metadata": {
        "id": "HESBeuBvYlC7"
      }
    },
    {
      "cell_type": "code",
      "source": [
        "np.random.randn(5)"
      ],
      "metadata": {
        "colab": {
          "base_uri": "https://localhost:8080/"
        },
        "id": "mCdpKzyCYoss",
        "outputId": "49f313ee-096f-42cf-a574-aa5f1ce57def"
      },
      "execution_count": null,
      "outputs": [
        {
          "output_type": "execute_result",
          "data": {
            "text/plain": [
              "array([-1.43204404, -0.04342495, -0.50094113, -0.93364674,  0.29775881])"
            ]
          },
          "metadata": {},
          "execution_count": 44
        }
      ]
    },
    {
      "cell_type": "code",
      "source": [
        "# 0 ~ 5까지의 난수\n",
        "np.random.randint(5)"
      ],
      "metadata": {
        "colab": {
          "base_uri": "https://localhost:8080/"
        },
        "id": "fapFh-YCZKZ3",
        "outputId": "eed759ac-c798-4228-e807-1287ea30be73"
      },
      "execution_count": null,
      "outputs": [
        {
          "output_type": "execute_result",
          "data": {
            "text/plain": [
              "3"
            ]
          },
          "metadata": {},
          "execution_count": 45
        }
      ]
    },
    {
      "cell_type": "code",
      "source": [
        "# [10, 20) 10 이상 20 미만\n",
        "# (19, 20] 10초과 20 이하\n",
        "\n",
        "# 10 이상 20 미만\n",
        "np.random.randint(10, 20)"
      ],
      "metadata": {
        "colab": {
          "base_uri": "https://localhost:8080/"
        },
        "id": "KR7azO6RZW87",
        "outputId": "af7f4d27-4d80-402d-dbbb-67222f9395a6"
      },
      "execution_count": null,
      "outputs": [
        {
          "output_type": "execute_result",
          "data": {
            "text/plain": [
              "17"
            ]
          },
          "metadata": {},
          "execution_count": 46
        }
      ]
    },
    {
      "cell_type": "code",
      "source": [
        "# [10, 20) 10 이상 20 미만\n",
        "# (19, 20] 10초과 20 이하\n",
        "\n",
        "# 10 이상 20 미만\n",
        "# 3차원 배열\n",
        "np.random.randint(0, 100, (3, 5, 2))"
      ],
      "metadata": {
        "colab": {
          "base_uri": "https://localhost:8080/"
        },
        "id": "6qK-lHdGZjZd",
        "outputId": "de28db4e-dd47-4e1d-846c-5b2380d6857b"
      },
      "execution_count": null,
      "outputs": [
        {
          "output_type": "execute_result",
          "data": {
            "text/plain": [
              "array([[[30, 65],\n",
              "        [26, 70],\n",
              "        [38, 44],\n",
              "        [69, 97],\n",
              "        [76,  4]],\n",
              "\n",
              "       [[83,  7],\n",
              "        [10, 82],\n",
              "        [88, 43],\n",
              "        [57, 92],\n",
              "        [69, 11]],\n",
              "\n",
              "       [[99, 65],\n",
              "        [43, 67],\n",
              "        [66, 77],\n",
              "        [20, 80],\n",
              "        [48, 86]]])"
            ]
          },
          "metadata": {},
          "execution_count": 47
        }
      ]
    },
    {
      "cell_type": "markdown",
      "source": [
        "## seed()\n",
        "    - 난수를 예측가능하도록 만든다. 실행할 때마다 동일한 난수가 발생하도록 한다.\n",
        "    - 재현성 : 특정 알고리즘의 결과를 재현한다.\n",
        "    - 디버깅 : 해당 알고리즘의 결과로 오류를 추적한다.\n",
        "\n"
      ],
      "metadata": {
        "id": "F62VuEE3adtK"
      }
    },
    {
      "cell_type": "code",
      "source": [
        "# seed(시작값)\n",
        "np.random.seed(0)\n",
        "np.random.rand(5)"
      ],
      "metadata": {
        "colab": {
          "base_uri": "https://localhost:8080/"
        },
        "id": "N8_PM6Q3a7oP",
        "outputId": "913022cf-7303-4b4a-9dcb-1555ea8faa6d"
      },
      "execution_count": null,
      "outputs": [
        {
          "output_type": "execute_result",
          "data": {
            "text/plain": [
              "array([0.5488135 , 0.71518937, 0.60276338, 0.54488318, 0.4236548 ])"
            ]
          },
          "metadata": {},
          "execution_count": 48
        }
      ]
    },
    {
      "cell_type": "code",
      "source": [
        "# e-01: 지수 표기법\n",
        "# 숫자가 너무 작거나 클때 사용하는 과학적 표기법\n",
        "np.random.seed(1)\n",
        "np.random.rand(5)"
      ],
      "metadata": {
        "colab": {
          "base_uri": "https://localhost:8080/"
        },
        "id": "EDIFQ886bcH6",
        "outputId": "a6bbb61b-40d1-444d-cbac-87338f369401"
      },
      "execution_count": null,
      "outputs": [
        {
          "output_type": "execute_result",
          "data": {
            "text/plain": [
              "array([4.17022005e-01, 7.20324493e-01, 1.14374817e-04, 3.02332573e-01,\n",
              "       1.46755891e-01])"
            ]
          },
          "metadata": {},
          "execution_count": 49
        }
      ]
    },
    {
      "cell_type": "markdown",
      "source": [
        "## np.unique()\n",
        "    - 중복된 값을 제거하고 고유한 값들만 반환하는 함수"
      ],
      "metadata": {
        "id": "fYYa4o6mcOk4"
      }
    },
    {
      "cell_type": "code",
      "source": [
        "np.unique([11, 10, 11, 20, 15, 10])"
      ],
      "metadata": {
        "colab": {
          "base_uri": "https://localhost:8080/"
        },
        "id": "ZCI1yDgIctpY",
        "outputId": "9a5ff6c0-eaa4-4f5c-929d-0803da2270bc"
      },
      "execution_count": null,
      "outputs": [
        {
          "output_type": "execute_result",
          "data": {
            "text/plain": [
              "array([10, 11, 15, 20])"
            ]
          },
          "metadata": {},
          "execution_count": 50
        }
      ]
    },
    {
      "cell_type": "markdown",
      "source": [
        "## 인덱싱(index)\n",
        "    - 파이썬 리스트와 동일한 계념으로 사용\n",
        "    - ,를 사용하여 각 차원의 인덱스에 접근이 가능하다.\n",
        "    - 인덱싱 할 때 마다 차원이 감소한다."
      ],
      "metadata": {
        "id": "2t2Z93t7czKc"
      }
    },
    {
      "cell_type": "code",
      "source": [
        "ar2 = np.arange(10)\n",
        "ar2"
      ],
      "metadata": {
        "colab": {
          "base_uri": "https://localhost:8080/"
        },
        "id": "bbVpXEBmdCSD",
        "outputId": "0a98e89f-3470-4243-e5c4-e4d4491a18b2"
      },
      "execution_count": null,
      "outputs": [
        {
          "output_type": "execute_result",
          "data": {
            "text/plain": [
              "array([0, 1, 2, 3, 4, 5, 6, 7, 8, 9])"
            ]
          },
          "metadata": {},
          "execution_count": 51
        }
      ]
    },
    {
      "cell_type": "code",
      "source": [
        "print(ar2[5])"
      ],
      "metadata": {
        "colab": {
          "base_uri": "https://localhost:8080/"
        },
        "id": "1qRc7VF9dk7n",
        "outputId": "a8d89670-a911-4618-c7b3-e207a466c8d0"
      },
      "execution_count": null,
      "outputs": [
        {
          "output_type": "stream",
          "name": "stdout",
          "text": [
            "5\n"
          ]
        }
      ]
    },
    {
      "cell_type": "code",
      "source": [
        "print(ar2[-1], ar2[4])"
      ],
      "metadata": {
        "colab": {
          "base_uri": "https://localhost:8080/"
        },
        "id": "uI5G7ciWdpHg",
        "outputId": "3e74e0ca-3af8-4b98-ff1b-266ecbdecf2f"
      },
      "execution_count": null,
      "outputs": [
        {
          "output_type": "stream",
          "name": "stdout",
          "text": [
            "9 4\n"
          ]
        }
      ]
    },
    {
      "cell_type": "code",
      "source": [
        "ar2[5] = 100\n",
        "ar2"
      ],
      "metadata": {
        "colab": {
          "base_uri": "https://localhost:8080/"
        },
        "id": "ydNQ4XP5dsoe",
        "outputId": "c4552d4e-02cf-41bb-ee5e-2b5b16320918"
      },
      "execution_count": null,
      "outputs": [
        {
          "output_type": "execute_result",
          "data": {
            "text/plain": [
              "array([  0,   1,   2,   3,   4, 100,   6,   7,   8,   9])"
            ]
          },
          "metadata": {},
          "execution_count": 54
        }
      ]
    },
    {
      "cell_type": "code",
      "source": [
        "ar2 = ar2.reshape(2, 5)\n",
        "ar2[0][2]"
      ],
      "metadata": {
        "colab": {
          "base_uri": "https://localhost:8080/"
        },
        "id": "6rmMY5QydxAD",
        "outputId": "55aa3ab1-acdc-4139-e5e6-24f235fcb2b5"
      },
      "execution_count": null,
      "outputs": [
        {
          "output_type": "execute_result",
          "data": {
            "text/plain": [
              "np.int64(2)"
            ]
          },
          "metadata": {},
          "execution_count": 55
        }
      ]
    },
    {
      "cell_type": "code",
      "source": [
        "ar2[1][0]"
      ],
      "metadata": {
        "colab": {
          "base_uri": "https://localhost:8080/"
        },
        "id": "GX5KDQf6eFLh",
        "outputId": "29b9445f-27d7-49d9-b39d-2d3084641528"
      },
      "execution_count": null,
      "outputs": [
        {
          "output_type": "execute_result",
          "data": {
            "text/plain": [
              "np.int64(100)"
            ]
          },
          "metadata": {},
          "execution_count": 56
        }
      ]
    },
    {
      "cell_type": "code",
      "source": [
        "# , 를 통해서 접근하는법\n",
        "# 권장, 콤마 접근법\n",
        "ar2[1,0]"
      ],
      "metadata": {
        "colab": {
          "base_uri": "https://localhost:8080/"
        },
        "id": "diXZTRvjeNZH",
        "outputId": "bd1aeb73-7a93-4e75-a9a4-d30b46f397bb"
      },
      "execution_count": null,
      "outputs": [
        {
          "output_type": "execute_result",
          "data": {
            "text/plain": [
              "np.int64(100)"
            ]
          },
          "metadata": {},
          "execution_count": 57
        }
      ]
    },
    {
      "cell_type": "code",
      "source": [
        "####Day4#######################################################################################################\n",
        "ar2"
      ],
      "metadata": {
        "colab": {
          "base_uri": "https://localhost:8080/"
        },
        "id": "lnEQB84qoNQf",
        "outputId": "c5899136-3a97-45bc-83bf-38e5e4e9ed7b"
      },
      "execution_count": null,
      "outputs": [
        {
          "output_type": "execute_result",
          "data": {
            "text/plain": [
              "array([[  0,   1,   2,   3,   4],\n",
              "       [100,   6,   7,   8,   9]])"
            ]
          },
          "metadata": {},
          "execution_count": 58
        }
      ]
    },
    {
      "cell_type": "code",
      "source": [
        "#find 7, 1 in ar2\n",
        "print(ar2[1,2], ar2[0,1])"
      ],
      "metadata": {
        "id": "jMP-rrr2eWT2",
        "colab": {
          "base_uri": "https://localhost:8080/"
        },
        "outputId": "3b1510e1-a53d-4409-cc81-34db19e9b798"
      },
      "execution_count": null,
      "outputs": [
        {
          "output_type": "stream",
          "name": "stdout",
          "text": [
            "7 1\n"
          ]
        }
      ]
    },
    {
      "cell_type": "markdown",
      "source": [
        "## Advenced Indexing\n",
        "\n",
        "-Interger array Indexing"
      ],
      "metadata": {
        "id": "Dv1a4t4vopi8"
      }
    },
    {
      "cell_type": "code",
      "source": [
        "ar2[0]"
      ],
      "metadata": {
        "colab": {
          "base_uri": "https://localhost:8080/"
        },
        "id": "i7d9cvtzogR1",
        "outputId": "e3f76b43-54d0-4d70-9ac9-5aba6c5f1635"
      },
      "execution_count": null,
      "outputs": [
        {
          "output_type": "execute_result",
          "data": {
            "text/plain": [
              "array([0, 1, 2, 3, 4])"
            ]
          },
          "metadata": {},
          "execution_count": 65
        }
      ]
    },
    {
      "cell_type": "code",
      "source": [
        "ar2[[0]]"
      ],
      "metadata": {
        "colab": {
          "base_uri": "https://localhost:8080/"
        },
        "id": "5M2KF5KYpJ7F",
        "outputId": "8830ba77-734f-48df-91d0-1cb0f002137e"
      },
      "execution_count": null,
      "outputs": [
        {
          "output_type": "execute_result",
          "data": {
            "text/plain": [
              "array([[0, 1, 2, 3, 4]])"
            ]
          },
          "metadata": {},
          "execution_count": 66
        }
      ]
    },
    {
      "cell_type": "code",
      "source": [
        "ar2[[0]].shape"
      ],
      "metadata": {
        "colab": {
          "base_uri": "https://localhost:8080/"
        },
        "id": "xK4IsgHopSd9",
        "outputId": "eb9644a9-8508-494d-e45d-553e5d2b7b45"
      },
      "execution_count": null,
      "outputs": [
        {
          "output_type": "execute_result",
          "data": {
            "text/plain": [
              "(1, 5)"
            ]
          },
          "metadata": {},
          "execution_count": 67
        }
      ]
    },
    {
      "cell_type": "code",
      "source": [
        "# 배열을 다수의 인덱스 배열로 인뎃싱하면\n",
        "# 여러 인덱스를 동시에 참조하여 값을 추출한다.\n",
        "ar2[[1,0,0,1,0,0]]"
      ],
      "metadata": {
        "colab": {
          "base_uri": "https://localhost:8080/"
        },
        "id": "BFZ4rdHMpXV3",
        "outputId": "b7ed4b0b-5f82-432b-f29e-03ecd06f5ecf"
      },
      "execution_count": null,
      "outputs": [
        {
          "output_type": "execute_result",
          "data": {
            "text/plain": [
              "array([[100,   6,   7,   8,   9],\n",
              "       [  0,   1,   2,   3,   4],\n",
              "       [  0,   1,   2,   3,   4],\n",
              "       [100,   6,   7,   8,   9],\n",
              "       [  0,   1,   2,   3,   4],\n",
              "       [  0,   1,   2,   3,   4]])"
            ]
          },
          "metadata": {},
          "execution_count": 69
        }
      ]
    },
    {
      "cell_type": "markdown",
      "source": [
        "## 슬라이싱 (slicing)\n",
        "    - 리스트, 문자열 slicing과 동일한 개념으로 사용한다\n",
        "    - ,(콤마)를 사용하여 각 차원 별로 슬라이싱이 가능하다.\n",
        "    - 슬라이싱은 차원 변화가 없다."
      ],
      "metadata": {
        "id": "adMgFyEBp8jL"
      }
    },
    {
      "cell_type": "code",
      "source": [
        "ar4 = np.arange(10)\n",
        "ar4"
      ],
      "metadata": {
        "colab": {
          "base_uri": "https://localhost:8080/"
        },
        "id": "n5HFH4-GqM3r",
        "outputId": "b37214e9-4791-4321-df86-542c377cf7a7"
      },
      "execution_count": null,
      "outputs": [
        {
          "output_type": "execute_result",
          "data": {
            "text/plain": [
              "array([0, 1, 2, 3, 4, 5, 6, 7, 8, 9])"
            ]
          },
          "metadata": {},
          "execution_count": 72
        }
      ]
    },
    {
      "cell_type": "code",
      "source": [
        "# index 1 ~ 7 까지 출력\n",
        "ar4[1:7]"
      ],
      "metadata": {
        "colab": {
          "base_uri": "https://localhost:8080/"
        },
        "id": "lUoA0bu9qYOR",
        "outputId": "c3053e3d-6d05-43f9-a37a-0ebd32a0ca26"
      },
      "execution_count": null,
      "outputs": [
        {
          "output_type": "execute_result",
          "data": {
            "text/plain": [
              "array([1, 2, 3, 4, 5, 6])"
            ]
          },
          "metadata": {},
          "execution_count": 73
        }
      ]
    },
    {
      "cell_type": "code",
      "source": [
        "ar4[3:]"
      ],
      "metadata": {
        "colab": {
          "base_uri": "https://localhost:8080/"
        },
        "id": "QhMan187qihu",
        "outputId": "9bb59b8d-4d29-4220-a80a-a36b5c8c5e31"
      },
      "execution_count": null,
      "outputs": [
        {
          "output_type": "execute_result",
          "data": {
            "text/plain": [
              "array([3, 4, 5, 6, 7, 8, 9])"
            ]
          },
          "metadata": {},
          "execution_count": 74
        }
      ]
    },
    {
      "cell_type": "code",
      "source": [
        "ar4[:]"
      ],
      "metadata": {
        "colab": {
          "base_uri": "https://localhost:8080/"
        },
        "id": "FmGRKjMUqmQ6",
        "outputId": "4da2d9d6-d122-4561-d233-c3ad0a4bb6a3"
      },
      "execution_count": null,
      "outputs": [
        {
          "output_type": "execute_result",
          "data": {
            "text/plain": [
              "array([0, 1, 2, 3, 4, 5, 6, 7, 8, 9])"
            ]
          },
          "metadata": {},
          "execution_count": 75
        }
      ]
    },
    {
      "cell_type": "code",
      "source": [
        "#step 값, 2씩 건너뛰기\n",
        "ar4[::2]"
      ],
      "metadata": {
        "colab": {
          "base_uri": "https://localhost:8080/"
        },
        "id": "Nc1QSYdtqpUr",
        "outputId": "4c38c87d-58ee-4803-f1d7-09a1747bb1f1"
      },
      "execution_count": null,
      "outputs": [
        {
          "output_type": "execute_result",
          "data": {
            "text/plain": [
              "array([0, 2, 4, 6, 8])"
            ]
          },
          "metadata": {},
          "execution_count": 77
        }
      ]
    },
    {
      "cell_type": "code",
      "source": [
        "# 시작지점, 끝나는 지점을 선택할 수 있다\n",
        "ar4[1::2]"
      ],
      "metadata": {
        "colab": {
          "base_uri": "https://localhost:8080/"
        },
        "id": "ISqUN1ppquau",
        "outputId": "fe90f796-8e50-4c28-f4e9-55ad3b851d3f"
      },
      "execution_count": null,
      "outputs": [
        {
          "output_type": "execute_result",
          "data": {
            "text/plain": [
              "array([1, 3, 5, 7])"
            ]
          },
          "metadata": {},
          "execution_count": 79
        }
      ]
    },
    {
      "cell_type": "code",
      "source": [
        "# 거꾸로 출력\n",
        "ar4[::-1]"
      ],
      "metadata": {
        "colab": {
          "base_uri": "https://localhost:8080/"
        },
        "id": "BiHZ8TMVq6nZ",
        "outputId": "3ced47d6-5407-4c96-c680-56a675425f40"
      },
      "execution_count": null,
      "outputs": [
        {
          "output_type": "execute_result",
          "data": {
            "text/plain": [
              "array([9, 8, 7, 6, 5, 4, 3, 2, 1, 0])"
            ]
          },
          "metadata": {},
          "execution_count": 80
        }
      ]
    },
    {
      "cell_type": "code",
      "source": [
        "ar5 = [\n",
        "    [1,2,3,4],\n",
        "    [5,6,7,8],\n",
        "    [9,10,11,12],\n",
        "]\n",
        "\n",
        "ar5"
      ],
      "metadata": {
        "colab": {
          "base_uri": "https://localhost:8080/"
        },
        "id": "DSpFHAvGq-pb",
        "outputId": "611bf425-334b-42a7-8c12-e782a52b6e18"
      },
      "execution_count": null,
      "outputs": [
        {
          "output_type": "execute_result",
          "data": {
            "text/plain": [
              "[[1, 2, 3, 4], [5, 6, 7, 8], [9, 10, 11, 12]]"
            ]
          },
          "metadata": {},
          "execution_count": 81
        }
      ]
    },
    {
      "cell_type": "code",
      "source": [
        "#슬라이싱은 차원값이 안바뀐다\n",
        "#이 경우 2차원으로 들고온다\n",
        "ar5[0:1]"
      ],
      "metadata": {
        "colab": {
          "base_uri": "https://localhost:8080/"
        },
        "id": "goOkQNd-rRRx",
        "outputId": "c4c04868-3665-4cf5-9c00-94859f6915b7"
      },
      "execution_count": null,
      "outputs": [
        {
          "output_type": "execute_result",
          "data": {
            "text/plain": [
              "[[1, 2, 3, 4]]"
            ]
          },
          "metadata": {},
          "execution_count": 82
        }
      ]
    },
    {
      "cell_type": "code",
      "source": [
        "ar5[1:3]"
      ],
      "metadata": {
        "colab": {
          "base_uri": "https://localhost:8080/"
        },
        "id": "ys2CyPzWre1R",
        "outputId": "9a84eea9-a1a1-4de7-c791-c9adc340597b"
      },
      "execution_count": null,
      "outputs": [
        {
          "output_type": "execute_result",
          "data": {
            "text/plain": [
              "[[5, 6, 7, 8], [9, 10, 11, 12]]"
            ]
          },
          "metadata": {},
          "execution_count": 84
        }
      ]
    },
    {
      "cell_type": "code",
      "source": [
        "# list는 차원별 slicing이 불가능하다.\n",
        "ar5[:2]\n",
        "ar5[:2][1:4]"
      ],
      "metadata": {
        "colab": {
          "base_uri": "https://localhost:8080/"
        },
        "id": "Q_BOq-frrj6e",
        "outputId": "fcf81905-7b76-48f3-b0ec-13e8b1f8cacf"
      },
      "execution_count": null,
      "outputs": [
        {
          "output_type": "execute_result",
          "data": {
            "text/plain": [
              "[[5, 6, 7, 8]]"
            ]
          },
          "metadata": {},
          "execution_count": 86
        }
      ]
    },
    {
      "cell_type": "code",
      "source": [
        "# numpy는 차원별 slicing이 가능하다\n",
        "\n",
        "ar6 = np.arange(15).reshape(3,5)\n",
        "ar6"
      ],
      "metadata": {
        "colab": {
          "base_uri": "https://localhost:8080/"
        },
        "id": "VsJfadD3r5J7",
        "outputId": "771c040a-0605-437a-ee19-0f85bfb830c8"
      },
      "execution_count": null,
      "outputs": [
        {
          "output_type": "execute_result",
          "data": {
            "text/plain": [
              "array([[ 0,  1,  2,  3,  4],\n",
              "       [ 5,  6,  7,  8,  9],\n",
              "       [10, 11, 12, 13, 14]])"
            ]
          },
          "metadata": {},
          "execution_count": 88
        }
      ]
    },
    {
      "cell_type": "code",
      "source": [
        "# ar6[:2][1:4]\n",
        "# 차원별 slicing, (콤마)접근법으로 사용!\n",
        "ar6[:2, 1:4]"
      ],
      "metadata": {
        "colab": {
          "base_uri": "https://localhost:8080/"
        },
        "id": "IK_kegHCsD5d",
        "outputId": "f68bdd97-0ee8-4575-d091-6a48c63cb304"
      },
      "execution_count": null,
      "outputs": [
        {
          "output_type": "execute_result",
          "data": {
            "text/plain": [
              "array([[1, 2, 3],\n",
              "       [6, 7, 8]])"
            ]
          },
          "metadata": {},
          "execution_count": 93
        }
      ]
    },
    {
      "cell_type": "markdown",
      "source": [
        "## shape(차원) 변환\n",
        "    - \"차원변화\"은 데이터 분석과 인공지능에서 매우 빈번하게 발생되는 작업이니 만큼 자유잦재로 변환할 수 있어야하고, 머릿속으로 변환하는 데이터의 구조가 그려지도록 익숙해져야 한다.\n",
        "    - 예) 이미지 데이터 백터화\n",
        "    - 기본적으로 이미지는 2차원 혹은 3차원 (RGB)이나 트레이닝을 위해 1차원으로 변경하여 사용된다."
      ],
      "metadata": {
        "id": "S_tC4VwbsrG2"
      }
    },
    {
      "cell_type": "markdown",
      "source": [
        "### ravel(), np.ravel()\n",
        "    - 펼치다 라는 의미로 다차원 배열을 1차원으로 변경\n",
        "    - 'order' 파라미터\n",
        "        -'C' - row 우선 변경, C style\n",
        "        -'F' - column 우선 변경, Fortran Style\n",
        "    - ravel()은 np안에 일반함수이며, ndarray의 맴버 함수로도 존재한다."
      ],
      "metadata": {
        "id": "r-OGfYD8tQk6"
      }
    },
    {
      "cell_type": "code",
      "source": [
        "ar6"
      ],
      "metadata": {
        "colab": {
          "base_uri": "https://localhost:8080/"
        },
        "id": "dfiefpkQuOd2",
        "outputId": "6cc4d320-4ec5-49a9-9e09-608745e6a33a"
      },
      "execution_count": null,
      "outputs": [
        {
          "output_type": "execute_result",
          "data": {
            "text/plain": [
              "array([[ 0,  1,  2,  3,  4],\n",
              "       [ 5,  6,  7,  8,  9],\n",
              "       [10, 11, 12, 13, 14]])"
            ]
          },
          "metadata": {},
          "execution_count": 95
        }
      ]
    },
    {
      "cell_type": "code",
      "source": [
        "#ravel은 차원을 축소하는 개념\n",
        "ar6.ravel()"
      ],
      "metadata": {
        "colab": {
          "base_uri": "https://localhost:8080/"
        },
        "id": "7HcKKKv1uQBl",
        "outputId": "f7aa949c-9135-47ee-eab8-3393eff2213a"
      },
      "execution_count": null,
      "outputs": [
        {
          "output_type": "execute_result",
          "data": {
            "text/plain": [
              "array([ 0,  1,  2,  3,  4,  5,  6,  7,  8,  9, 10, 11, 12, 13, 14])"
            ]
          },
          "metadata": {},
          "execution_count": 96
        }
      ]
    },
    {
      "cell_type": "code",
      "source": [
        "ar6.ravel()\n",
        "\n",
        "# np.ravel?\n",
        "# ?를 넣으면 다큐먼트가 나온다"
      ],
      "metadata": {
        "id": "9t2GsvwduXZJ"
      },
      "execution_count": null,
      "outputs": []
    },
    {
      "cell_type": "markdown",
      "source": [
        "### 포트란(Fortran)\n",
        "    - 프로그래밍 언어에서 배열을 저장하는 기본 방식\n",
        "    - Fortran으로 스타일을 지정하면 [[1,2,3], [4,5,6]] 배열은 1,4,2,5,3,6 순서로 배열이 저장된다.\n",
        "    - 행 우선 방식인 C스타일로 스타일을 지정하면 1,2,3,4,5,6 순서로 배열이 저장된다.\n",
        "    "
      ],
      "metadata": {
        "id": "i02ZEsChuv83"
      }
    },
    {
      "cell_type": "code",
      "source": [
        "np.ravel(ar6, order='C')"
      ],
      "metadata": {
        "colab": {
          "base_uri": "https://localhost:8080/"
        },
        "id": "bzJJhyUuvJpD",
        "outputId": "ff5a2152-d64c-457b-ad23-f4f68d38bcf1"
      },
      "execution_count": null,
      "outputs": [
        {
          "output_type": "execute_result",
          "data": {
            "text/plain": [
              "array([ 0,  1,  2,  3,  4,  5,  6,  7,  8,  9, 10, 11, 12, 13, 14])"
            ]
          },
          "metadata": {},
          "execution_count": 100
        }
      ]
    },
    {
      "cell_type": "code",
      "source": [
        "np.ravel(ar6, order='F')"
      ],
      "metadata": {
        "colab": {
          "base_uri": "https://localhost:8080/"
        },
        "id": "amh9joVJvjtR",
        "outputId": "105cafa4-267d-4138-fe80-624df9bd4655"
      },
      "execution_count": null,
      "outputs": [
        {
          "output_type": "execute_result",
          "data": {
            "text/plain": [
              "array([ 0,  5, 10,  1,  6, 11,  2,  7, 12,  3,  8, 13,  4,  9, 14])"
            ]
          },
          "metadata": {},
          "execution_count": 101
        }
      ]
    },
    {
      "cell_type": "markdown",
      "source": [
        "## 플랫튼, flatten()\n",
        "    - ravel과 차이점\n",
        "      - copy를 생성하여 변경한다. 즉, 원본 배열이 변경되지 않은 복사본을 반환한다.\n",
        "      - ndarray의 멤버 함수로만 제공한다.\n",
        "\n",
        "    - 'order'의 파라미터는 ravel과 동일하다\n"
      ],
      "metadata": {
        "id": "7zvjq5vavpvM"
      }
    },
    {
      "cell_type": "code",
      "source": [
        "ar7 = np.arange(15).reshape(3, 5)\n",
        "ar7"
      ],
      "metadata": {
        "colab": {
          "base_uri": "https://localhost:8080/"
        },
        "id": "zLIbjXuBwHdS",
        "outputId": "dcc76789-48bb-4793-e363-c91bcd4452aa"
      },
      "execution_count": null,
      "outputs": [
        {
          "output_type": "execute_result",
          "data": {
            "text/plain": [
              "array([[ 0,  1,  2,  3,  4],\n",
              "       [ 5,  6,  7,  8,  9],\n",
              "       [10, 11, 12, 13, 14]])"
            ]
          },
          "metadata": {},
          "execution_count": 102
        }
      ]
    },
    {
      "cell_type": "code",
      "source": [
        "ar7.flatten()"
      ],
      "metadata": {
        "colab": {
          "base_uri": "https://localhost:8080/"
        },
        "id": "X8afT8REwN2j",
        "outputId": "9c407311-b56a-4739-ba94-55bd2cfde75a"
      },
      "execution_count": null,
      "outputs": [
        {
          "output_type": "execute_result",
          "data": {
            "text/plain": [
              "array([ 0,  1,  2,  3,  4,  5,  6,  7,  8,  9, 10, 11, 12, 13, 14])"
            ]
          },
          "metadata": {},
          "execution_count": 103
        }
      ]
    },
    {
      "cell_type": "code",
      "source": [
        "temp = ar7.ravel()\n",
        "temp"
      ],
      "metadata": {
        "colab": {
          "base_uri": "https://localhost:8080/"
        },
        "id": "evsWLH6owWaJ",
        "outputId": "123171bb-a5b1-4eab-a08a-cb75ca25ee70"
      },
      "execution_count": null,
      "outputs": [
        {
          "output_type": "execute_result",
          "data": {
            "text/plain": [
              "array([ 0,  1,  2,  3,  4,  5,  6,  7,  8,  9, 10, 11, 12, 13, 14])"
            ]
          },
          "metadata": {},
          "execution_count": 104
        }
      ]
    },
    {
      "cell_type": "code",
      "source": [
        "temp[0] = 100"
      ],
      "metadata": {
        "id": "8nrEepFuwdbI"
      },
      "execution_count": null,
      "outputs": []
    },
    {
      "cell_type": "code",
      "source": [
        "ar7"
      ],
      "metadata": {
        "colab": {
          "base_uri": "https://localhost:8080/"
        },
        "id": "ZHeU52-QwjQl",
        "outputId": "602c68b8-0035-4065-e4ea-5f7fde3ded0c"
      },
      "execution_count": null,
      "outputs": [
        {
          "output_type": "execute_result",
          "data": {
            "text/plain": [
              "array([[100,   1,   2,   3,   4],\n",
              "       [  5,   6,   7,   8,   9],\n",
              "       [ 10,  11,  12,  13,  14]])"
            ]
          },
          "metadata": {},
          "execution_count": 106
        }
      ]
    },
    {
      "cell_type": "code",
      "source": [
        "temp2 = ar7.flatten()\n",
        "temp2"
      ],
      "metadata": {
        "colab": {
          "base_uri": "https://localhost:8080/"
        },
        "id": "-pGlLH78w3IM",
        "outputId": "50c317f0-b862-480c-c6ae-2c555bf757c2"
      },
      "execution_count": null,
      "outputs": [
        {
          "output_type": "execute_result",
          "data": {
            "text/plain": [
              "array([100,   1,   2,   3,   4,   5,   6,   7,   8,   9,  10,  11,  12,\n",
              "        13,  14])"
            ]
          },
          "metadata": {},
          "execution_count": 107
        }
      ]
    },
    {
      "cell_type": "code",
      "source": [
        "temp[0] = 100\n",
        "temp2[0] = 10000"
      ],
      "metadata": {
        "id": "Npt3T1tUw8kW"
      },
      "execution_count": null,
      "outputs": []
    },
    {
      "cell_type": "code",
      "source": [
        "ar7"
      ],
      "metadata": {
        "colab": {
          "base_uri": "https://localhost:8080/"
        },
        "id": "ha9opatyw-06",
        "outputId": "c39bb3ac-4af6-4dd7-ebb8-e390b782c737"
      },
      "execution_count": null,
      "outputs": [
        {
          "output_type": "execute_result",
          "data": {
            "text/plain": [
              "array([[100,   1,   2,   3,   4],\n",
              "       [  5,   6,   7,   8,   9],\n",
              "       [ 10,  11,  12,  13,  14]])"
            ]
          },
          "metadata": {},
          "execution_count": 121
        }
      ]
    },
    {
      "cell_type": "code",
      "source": [
        "temp2"
      ],
      "metadata": {
        "colab": {
          "base_uri": "https://localhost:8080/"
        },
        "id": "HuSr-tb9xQ8Z",
        "outputId": "1e8d8ef6-81f1-4542-e30c-b2e563534d31"
      },
      "execution_count": null,
      "outputs": [
        {
          "output_type": "execute_result",
          "data": {
            "text/plain": [
              "array([10000,     1,     2,     3,     4,     5,     6,     7,     8,\n",
              "           9,    10,    11,    12,    13,    14])"
            ]
          },
          "metadata": {},
          "execution_count": 122
        }
      ]
    },
    {
      "cell_type": "code",
      "source": [
        "ar7"
      ],
      "metadata": {
        "colab": {
          "base_uri": "https://localhost:8080/"
        },
        "id": "CEvmqtTqz_Ee",
        "outputId": "bf3b7736-9ecd-4753-a1ce-cbdb96027035"
      },
      "execution_count": null,
      "outputs": [
        {
          "output_type": "execute_result",
          "data": {
            "text/plain": [
              "array([[100,   1,   2,   3,   4],\n",
              "       [  5,   6,   7,   8,   9],\n",
              "       [ 10,  11,  12,  13,  14]])"
            ]
          },
          "metadata": {},
          "execution_count": 123
        }
      ]
    },
    {
      "cell_type": "markdown",
      "source": [
        "## reshape\n",
        "    - array의 shape을 다른 차원으로 변경\n",
        "    - 주의할 점은 reshape한 후의 결과의 전체 요소 개수와 이전 개수가 같아야 가능하다.\n",
        "    - -1의 값을 주어서 나머지 차원을 유추하게 할 수 있다.\n",
        "\n"
      ],
      "metadata": {
        "id": "8jMqa1UE0B6v"
      }
    },
    {
      "cell_type": "code",
      "source": [
        "ar8 = np.arange(36)\n",
        "ar8"
      ],
      "metadata": {
        "colab": {
          "base_uri": "https://localhost:8080/"
        },
        "id": "eAJtdU_d0hMg",
        "outputId": "41c4a519-5945-4a6c-e8f2-ee0f371ddc4b"
      },
      "execution_count": null,
      "outputs": [
        {
          "output_type": "execute_result",
          "data": {
            "text/plain": [
              "array([ 0,  1,  2,  3,  4,  5,  6,  7,  8,  9, 10, 11, 12, 13, 14, 15, 16,\n",
              "       17, 18, 19, 20, 21, 22, 23, 24, 25, 26, 27, 28, 29, 30, 31, 32, 33,\n",
              "       34, 35])"
            ]
          },
          "metadata": {},
          "execution_count": 124
        }
      ]
    },
    {
      "cell_type": "code",
      "source": [
        "ar8.reshape(6,6)"
      ],
      "metadata": {
        "colab": {
          "base_uri": "https://localhost:8080/"
        },
        "id": "g1QwnLAC0knm",
        "outputId": "b43c6726-5b9c-48f4-bb11-0eb4b496b781"
      },
      "execution_count": null,
      "outputs": [
        {
          "output_type": "execute_result",
          "data": {
            "text/plain": [
              "array([[ 0,  1,  2,  3,  4,  5],\n",
              "       [ 6,  7,  8,  9, 10, 11],\n",
              "       [12, 13, 14, 15, 16, 17],\n",
              "       [18, 19, 20, 21, 22, 23],\n",
              "       [24, 25, 26, 27, 28, 29],\n",
              "       [30, 31, 32, 33, 34, 35]])"
            ]
          },
          "metadata": {},
          "execution_count": 126
        }
      ]
    },
    {
      "cell_type": "code",
      "source": [
        "# 값을 유추하고 싶을때 -1을 넣어라\n",
        "ar8.reshape(6, -1 ,2)"
      ],
      "metadata": {
        "colab": {
          "base_uri": "https://localhost:8080/"
        },
        "id": "E_do1RUS0rld",
        "outputId": "12098f24-7e70-473a-ef0a-924ba841df77"
      },
      "execution_count": null,
      "outputs": [
        {
          "output_type": "execute_result",
          "data": {
            "text/plain": [
              "array([[[ 0,  1],\n",
              "        [ 2,  3],\n",
              "        [ 4,  5]],\n",
              "\n",
              "       [[ 6,  7],\n",
              "        [ 8,  9],\n",
              "        [10, 11]],\n",
              "\n",
              "       [[12, 13],\n",
              "        [14, 15],\n",
              "        [16, 17]],\n",
              "\n",
              "       [[18, 19],\n",
              "        [20, 21],\n",
              "        [22, 23]],\n",
              "\n",
              "       [[24, 25],\n",
              "        [26, 27],\n",
              "        [28, 29]],\n",
              "\n",
              "       [[30, 31],\n",
              "        [32, 33],\n",
              "        [34, 35]]])"
            ]
          },
          "metadata": {},
          "execution_count": 128
        }
      ]
    },
    {
      "cell_type": "markdown",
      "source": [
        "## 차원 확장 / 제거\n",
        "    - 차원을 확장하고 제거하는 동작도 머신러닝에서 사용된다\n",
        "    - reshape()로 차원 변환(확장/제거)를 자유롭게 할 수 있다.\n",
        "\n",
        "## 차원 확장, np.expand_dims()\n",
        "    - axis로 지정된 차원을 추가\n",
        "\n",
        "## 차원 자동 제거, squeeze, np.squeeze()\n",
        "    - 차원 중 사이즈가 1인 것을 찾아 스칼라로 값을 바꾸고 차원을 제거한다."
      ],
      "metadata": {
        "id": "YCSlNCvY06mA"
      }
    },
    {
      "cell_type": "code",
      "source": [
        "ar9 = np.arange(6)\n",
        "ar9"
      ],
      "metadata": {
        "colab": {
          "base_uri": "https://localhost:8080/"
        },
        "id": "WdFa-bTW1gv7",
        "outputId": "abaf63ee-551f-4e6f-bde8-d54ebfaf62d5"
      },
      "execution_count": null,
      "outputs": [
        {
          "output_type": "execute_result",
          "data": {
            "text/plain": [
              "array([0, 1, 2, 3, 4, 5])"
            ]
          },
          "metadata": {},
          "execution_count": 130
        }
      ]
    },
    {
      "cell_type": "code",
      "source": [
        "ar9.shape"
      ],
      "metadata": {
        "colab": {
          "base_uri": "https://localhost:8080/"
        },
        "id": "BEeXRc_l11sd",
        "outputId": "d6d491da-0574-412b-9145-2c4a11b746a8"
      },
      "execution_count": null,
      "outputs": [
        {
          "output_type": "execute_result",
          "data": {
            "text/plain": [
              "(6,)"
            ]
          },
          "metadata": {},
          "execution_count": 131
        }
      ]
    },
    {
      "cell_type": "code",
      "source": [
        "# 1 -> 2차원\n",
        "ar9 = ar9.reshape(6,1)\n",
        "ar9"
      ],
      "metadata": {
        "colab": {
          "base_uri": "https://localhost:8080/"
        },
        "id": "x6VOk3Pc15ir",
        "outputId": "3c252408-cc0d-473f-f315-d5288f1bd626"
      },
      "execution_count": null,
      "outputs": [
        {
          "output_type": "execute_result",
          "data": {
            "text/plain": [
              "array([[0],\n",
              "       [1],\n",
              "       [2],\n",
              "       [3],\n",
              "       [4],\n",
              "       [5]])"
            ]
          },
          "metadata": {},
          "execution_count": 134
        }
      ]
    },
    {
      "cell_type": "code",
      "source": [
        "# 2차원 -> 3차원\n",
        "ar9 = ar9.reshape(6,1,1)\n",
        "ar9"
      ],
      "metadata": {
        "colab": {
          "base_uri": "https://localhost:8080/"
        },
        "id": "E352UcyQ2GKb",
        "outputId": "f829b668-9816-492c-836a-d1ff5a0229b2"
      },
      "execution_count": null,
      "outputs": [
        {
          "output_type": "execute_result",
          "data": {
            "text/plain": [
              "array([[[0]],\n",
              "\n",
              "       [[1]],\n",
              "\n",
              "       [[2]],\n",
              "\n",
              "       [[3]],\n",
              "\n",
              "       [[4]],\n",
              "\n",
              "       [[5]]])"
            ]
          },
          "metadata": {},
          "execution_count": 136
        }
      ]
    },
    {
      "cell_type": "code",
      "source": [
        "# 차원 제거\n",
        "ar9 = ar9.reshape((6, ))\n",
        "ar9"
      ],
      "metadata": {
        "colab": {
          "base_uri": "https://localhost:8080/"
        },
        "id": "WuK4fpfj2Wwe",
        "outputId": "35ec61ca-f642-4ee9-f67d-df8645f5f7f5"
      },
      "execution_count": null,
      "outputs": [
        {
          "output_type": "execute_result",
          "data": {
            "text/plain": [
              "array([0, 1, 2, 3, 4, 5])"
            ]
          },
          "metadata": {},
          "execution_count": 139
        }
      ]
    },
    {
      "cell_type": "code",
      "source": [
        "ar9 = ar9.reshape(1,1,1, -1)\n",
        "ar9"
      ],
      "metadata": {
        "colab": {
          "base_uri": "https://localhost:8080/"
        },
        "id": "2pzqlbyq2sv7",
        "outputId": "c7a04b1b-ea18-4291-b61f-172d4393a103"
      },
      "execution_count": null,
      "outputs": [
        {
          "output_type": "execute_result",
          "data": {
            "text/plain": [
              "array([[[[0, 1, 2, 3, 4, 5]]]])"
            ]
          },
          "metadata": {},
          "execution_count": 141
        }
      ]
    },
    {
      "cell_type": "code",
      "source": [
        "ar10 = np.arange(4).reshape((2,1,2))\n",
        "ar10"
      ],
      "metadata": {
        "colab": {
          "base_uri": "https://localhost:8080/"
        },
        "id": "kJKrxe-r23sQ",
        "outputId": "1b7621d5-db00-4cac-d853-69fc527ee88c"
      },
      "execution_count": null,
      "outputs": [
        {
          "output_type": "execute_result",
          "data": {
            "text/plain": [
              "array([[[0, 1]],\n",
              "\n",
              "       [[2, 3]]])"
            ]
          },
          "metadata": {},
          "execution_count": 143
        }
      ]
    },
    {
      "cell_type": "code",
      "source": [
        "# (2, 1, 2) -> (2, 2)\n",
        "ar10.squeeze()"
      ],
      "metadata": {
        "colab": {
          "base_uri": "https://localhost:8080/"
        },
        "id": "lWqNwkOH3EVz",
        "outputId": "6b7eb78c-a8ee-468d-cf6f-3dfde90dd6ac"
      },
      "execution_count": null,
      "outputs": [
        {
          "output_type": "execute_result",
          "data": {
            "text/plain": [
              "array([[0, 1],\n",
              "       [2, 3]])"
            ]
          },
          "metadata": {},
          "execution_count": 145
        }
      ]
    },
    {
      "cell_type": "code",
      "source": [
        "# np.expand_dims()\n",
        "# axis\n",
        "\n",
        "# (3, )\n",
        "arr11 = np.arange(3)\n",
        "arr11\n"
      ],
      "metadata": {
        "colab": {
          "base_uri": "https://localhost:8080/"
        },
        "id": "ys1qUBFx3LEK",
        "outputId": "6c45317a-265b-4c33-8ef8-bcd55c886ce9"
      },
      "execution_count": null,
      "outputs": [
        {
          "output_type": "execute_result",
          "data": {
            "text/plain": [
              "array([0, 1, 2])"
            ]
          },
          "metadata": {},
          "execution_count": 158
        }
      ]
    },
    {
      "cell_type": "code",
      "source": [
        "arr11 = np.expand_dims(arr11, axis=0)"
      ],
      "metadata": {
        "id": "eprirHvY3oac"
      },
      "execution_count": null,
      "outputs": []
    },
    {
      "cell_type": "code",
      "source": [
        "# (3, ) -> (1, 3)\n",
        "arr11\n",
        "arr11.shape"
      ],
      "metadata": {
        "colab": {
          "base_uri": "https://localhost:8080/"
        },
        "id": "xV0BQpGI3evZ",
        "outputId": "339078bb-a177-4390-8302-c9b8128fd29f"
      },
      "execution_count": null,
      "outputs": [
        {
          "output_type": "execute_result",
          "data": {
            "text/plain": [
              "(1, 3)"
            ]
          },
          "metadata": {},
          "execution_count": 161
        }
      ]
    },
    {
      "cell_type": "code",
      "source": [
        "# (2,2)\n",
        "ar12 = np.arange(4).reshape(2,2)\n",
        "ar12"
      ],
      "metadata": {
        "colab": {
          "base_uri": "https://localhost:8080/"
        },
        "id": "vDqtGiRM4Go2",
        "outputId": "eae7d339-f721-4baa-a58a-4ffdf3751ac9"
      },
      "execution_count": null,
      "outputs": [
        {
          "output_type": "execute_result",
          "data": {
            "text/plain": [
              "array([[0, 1],\n",
              "       [2, 3]])"
            ]
          },
          "metadata": {},
          "execution_count": 167
        }
      ]
    },
    {
      "cell_type": "code",
      "source": [
        "ar12 = np.expand_dims(ar12, axis=2)\n",
        "ar12"
      ],
      "metadata": {
        "colab": {
          "base_uri": "https://localhost:8080/"
        },
        "id": "IZU71g9c4UMA",
        "outputId": "4293298e-5453-4bda-f011-a9050f5bacc1"
      },
      "execution_count": null,
      "outputs": [
        {
          "output_type": "execute_result",
          "data": {
            "text/plain": [
              "array([[[0],\n",
              "        [1]],\n",
              "\n",
              "       [[2],\n",
              "        [3]]])"
            ]
          },
          "metadata": {},
          "execution_count": 168
        }
      ]
    },
    {
      "cell_type": "code",
      "source": [
        "ar12.shape"
      ],
      "metadata": {
        "colab": {
          "base_uri": "https://localhost:8080/"
        },
        "id": "3cAljgej4fRo",
        "outputId": "4009bcac-9ac0-4038-beb1-cbd76951b03f"
      },
      "execution_count": null,
      "outputs": [
        {
          "output_type": "execute_result",
          "data": {
            "text/plain": [
              "(2, 2, 1)"
            ]
          },
          "metadata": {},
          "execution_count": 169
        }
      ]
    },
    {
      "cell_type": "code",
      "source": [
        "arr1 = np.array([10,20,30,40])\n",
        "arr1"
      ],
      "metadata": {
        "colab": {
          "base_uri": "https://localhost:8080/"
        },
        "id": "BkS4951T4lyV",
        "outputId": "1bdc0e7d-2b09-4df4-9fab-73da82848b91"
      },
      "execution_count": null,
      "outputs": [
        {
          "output_type": "execute_result",
          "data": {
            "text/plain": [
              "array([10, 20, 30, 40])"
            ]
          },
          "metadata": {},
          "execution_count": 170
        }
      ]
    },
    {
      "cell_type": "code",
      "source": [
        "# np.newaxis\n",
        "# [n.newaxis, :]: 첫 번째 축에 차원을 추가\n",
        "# [:, np.newaxis]: 두 번째 축에 차원을 추가\n",
        "arr1 = arr1[np.newaxis, :]\n",
        "arr1"
      ],
      "metadata": {
        "colab": {
          "base_uri": "https://localhost:8080/"
        },
        "id": "fqsNlHzC4qnI",
        "outputId": "d4638ea2-816e-42d0-dfd8-53bd234fc80a"
      },
      "execution_count": null,
      "outputs": [
        {
          "output_type": "execute_result",
          "data": {
            "text/plain": [
              "array([[10, 20, 30, 40]])"
            ]
          },
          "metadata": {},
          "execution_count": 171
        }
      ]
    },
    {
      "cell_type": "code",
      "source": [
        "# row vector\n",
        "arr1"
      ],
      "metadata": {
        "colab": {
          "base_uri": "https://localhost:8080/"
        },
        "id": "nv2DvlAE49_4",
        "outputId": "10b194c6-4f00-4323-dc18-dbdfca467d71"
      },
      "execution_count": null,
      "outputs": [
        {
          "output_type": "execute_result",
          "data": {
            "text/plain": [
              "array([[10, 20, 30, 40]])"
            ]
          },
          "metadata": {},
          "execution_count": 172
        }
      ]
    },
    {
      "cell_type": "code",
      "source": [
        "arr2 = np.array([10,20,30,40])\n",
        "arr2"
      ],
      "metadata": {
        "colab": {
          "base_uri": "https://localhost:8080/"
        },
        "id": "uosAHPUA5QOa",
        "outputId": "28acb4b2-2602-49d8-833e-fbbb0eff2b3c"
      },
      "execution_count": null,
      "outputs": [
        {
          "output_type": "execute_result",
          "data": {
            "text/plain": [
              "array([10, 20, 30, 40])"
            ]
          },
          "metadata": {},
          "execution_count": 174
        }
      ]
    },
    {
      "cell_type": "code",
      "source": [
        "arr2 = arr2[:, np.newaxis]"
      ],
      "metadata": {
        "id": "BoL6XI2X5VeL"
      },
      "execution_count": null,
      "outputs": []
    },
    {
      "cell_type": "code",
      "source": [
        "# column vector\n",
        "arr2"
      ],
      "metadata": {
        "colab": {
          "base_uri": "https://localhost:8080/"
        },
        "id": "2MKAI64r5dje",
        "outputId": "dbde3bcc-1b5b-4a69-a61e-e90d8abb4e72"
      },
      "execution_count": null,
      "outputs": [
        {
          "output_type": "execute_result",
          "data": {
            "text/plain": [
              "array([[10],\n",
              "       [20],\n",
              "       [30],\n",
              "       [40]])"
            ]
          },
          "metadata": {},
          "execution_count": 176
        }
      ]
    },
    {
      "cell_type": "markdown",
      "source": [
        "## Transpose, T, swapaxes\n",
        "    - 전치행렬 (Transpose matrix)\n",
        "    - 차원 축 바꾸기\n",
        "\n",
        "<img width=200 src='https://encrypted-tbn0.gstatic.com/images?q=tbn:ANd9GcS1ALhVmtP-k5cjHofz9sU_v3oS9FsHe6-cSA&s' />\n"
      ],
      "metadata": {
        "id": "qv1ACoIB5gBZ"
      }
    },
    {
      "cell_type": "code",
      "source": [
        "arr3 = np.arange(15).reshape(3, 5)\n",
        "arr3"
      ],
      "metadata": {
        "colab": {
          "base_uri": "https://localhost:8080/"
        },
        "id": "LrVS26xs6DqY",
        "outputId": "6c85dd25-5668-48bd-85f8-53c03bb1c11d"
      },
      "execution_count": null,
      "outputs": [
        {
          "output_type": "execute_result",
          "data": {
            "text/plain": [
              "array([[ 0,  1,  2,  3,  4],\n",
              "       [ 5,  6,  7,  8,  9],\n",
              "       [10, 11, 12, 13, 14]])"
            ]
          },
          "metadata": {},
          "execution_count": 178
        }
      ]
    },
    {
      "cell_type": "code",
      "source": [
        "# (3, 5) -> (5, 3)\n",
        "np.transpose(arr3)\n",
        "# arr3.reshape(5, 3)"
      ],
      "metadata": {
        "colab": {
          "base_uri": "https://localhost:8080/"
        },
        "id": "JJQpjDIX6TiD",
        "outputId": "ed098c14-b266-423d-e9d8-9d98695a8003"
      },
      "execution_count": null,
      "outputs": [
        {
          "output_type": "execute_result",
          "data": {
            "text/plain": [
              "array([[ 0,  5, 10],\n",
              "       [ 1,  6, 11],\n",
              "       [ 2,  7, 12],\n",
              "       [ 3,  8, 13],\n",
              "       [ 4,  9, 14]])"
            ]
          },
          "metadata": {},
          "execution_count": 182
        }
      ]
    },
    {
      "cell_type": "code",
      "source": [
        "arr3.T"
      ],
      "metadata": {
        "colab": {
          "base_uri": "https://localhost:8080/"
        },
        "id": "Ow872vfj6qGQ",
        "outputId": "e0d89f13-00cc-4b0e-ad9c-4550092204a9"
      },
      "execution_count": null,
      "outputs": [
        {
          "output_type": "execute_result",
          "data": {
            "text/plain": [
              "array([[ 0,  5, 10],\n",
              "       [ 1,  6, 11],\n",
              "       [ 2,  7, 12],\n",
              "       [ 3,  8, 13],\n",
              "       [ 4,  9, 14]])"
            ]
          },
          "metadata": {},
          "execution_count": 183
        }
      ]
    },
    {
      "cell_type": "code",
      "source": [
        "np.swapaxes(arr3, 0,1)"
      ],
      "metadata": {
        "colab": {
          "base_uri": "https://localhost:8080/"
        },
        "id": "K0SQcIzy6syo",
        "outputId": "cea60ebd-e0f7-4ad2-b652-fd1f7c4939fa"
      },
      "execution_count": null,
      "outputs": [
        {
          "output_type": "execute_result",
          "data": {
            "text/plain": [
              "array([[ 0,  5, 10],\n",
              "       [ 1,  6, 11],\n",
              "       [ 2,  7, 12],\n",
              "       [ 3,  8, 13],\n",
              "       [ 4,  9, 14]])"
            ]
          },
          "metadata": {},
          "execution_count": 184
        }
      ]
    },
    {
      "cell_type": "markdown",
      "source": [
        "### 기본연산, 기본함수"
      ],
      "metadata": {
        "id": "hbGVf98a68KW"
      }
    },
    {
      "cell_type": "code",
      "source": [
        "data1 = np.arange(15).reshape(3,5)\n",
        "data2 = np.arange(0, 150, 10).reshape(3,5)\n",
        "data3 = np.random.rand(15).reshape(3,5)\n",
        "data4 = np.arange(15).reshape(3,5)"
      ],
      "metadata": {
        "id": "mkjZ6QvU7X_l"
      },
      "execution_count": null,
      "outputs": []
    },
    {
      "cell_type": "code",
      "source": [
        "data1"
      ],
      "metadata": {
        "colab": {
          "base_uri": "https://localhost:8080/"
        },
        "id": "MzNxQrHY7Zxl",
        "outputId": "a664fb3d-cd88-44d6-c4e2-50b59984b1e1"
      },
      "execution_count": null,
      "outputs": [
        {
          "output_type": "execute_result",
          "data": {
            "text/plain": [
              "array([[ 0,  1,  2,  3,  4],\n",
              "       [ 5,  6,  7,  8,  9],\n",
              "       [10, 11, 12, 13, 14]])"
            ]
          },
          "metadata": {},
          "execution_count": 186
        }
      ]
    },
    {
      "cell_type": "code",
      "source": [
        "data2"
      ],
      "metadata": {
        "colab": {
          "base_uri": "https://localhost:8080/"
        },
        "id": "yNblq_rc7ass",
        "outputId": "36780020-9805-4a9b-852c-6019ff523f66"
      },
      "execution_count": null,
      "outputs": [
        {
          "output_type": "execute_result",
          "data": {
            "text/plain": [
              "array([[  0,  10,  20,  30,  40],\n",
              "       [ 50,  60,  70,  80,  90],\n",
              "       [100, 110, 120, 130, 140]])"
            ]
          },
          "metadata": {},
          "execution_count": 187
        }
      ]
    },
    {
      "cell_type": "code",
      "source": [
        "data3"
      ],
      "metadata": {
        "colab": {
          "base_uri": "https://localhost:8080/"
        },
        "id": "SOYiP3ck7b5i",
        "outputId": "02b4c689-551d-4ca5-d407-8638864a9079"
      },
      "execution_count": null,
      "outputs": [
        {
          "output_type": "execute_result",
          "data": {
            "text/plain": [
              "array([[0.09233859, 0.18626021, 0.34556073, 0.39676747, 0.53881673],\n",
              "       [0.41919451, 0.6852195 , 0.20445225, 0.87811744, 0.02738759],\n",
              "       [0.67046751, 0.4173048 , 0.55868983, 0.14038694, 0.19810149]])"
            ]
          },
          "metadata": {},
          "execution_count": 188
        }
      ]
    },
    {
      "cell_type": "code",
      "source": [
        "data4"
      ],
      "metadata": {
        "colab": {
          "base_uri": "https://localhost:8080/"
        },
        "id": "Slf2ILCF7cm7",
        "outputId": "78ce459a-4286-46a5-afa4-a6ab6f2279e3"
      },
      "execution_count": null,
      "outputs": [
        {
          "output_type": "execute_result",
          "data": {
            "text/plain": [
              "array([[ 0,  1,  2,  3,  4],\n",
              "       [ 5,  6,  7,  8,  9],\n",
              "       [10, 11, 12, 13, 14]])"
            ]
          },
          "metadata": {},
          "execution_count": 189
        }
      ]
    },
    {
      "cell_type": "markdown",
      "source": [
        "## array간 연산"
      ],
      "metadata": {
        "id": "M5X23lHj7dVw"
      }
    },
    {
      "cell_type": "code",
      "source": [
        "a = [10, 20, 30, 40]\n",
        "b = 10000\n",
        "c = [100, 200, 300, 400]"
      ],
      "metadata": {
        "id": "lz6ShcSH7l5j"
      },
      "execution_count": null,
      "outputs": []
    },
    {
      "cell_type": "code",
      "source": [
        "# * 반복, + 연결\n",
        "a * 2"
      ],
      "metadata": {
        "colab": {
          "base_uri": "https://localhost:8080/"
        },
        "id": "UbCZN5Su7ru-",
        "outputId": "61b138bc-4e5e-4507-82df-e57017e5da24"
      },
      "execution_count": null,
      "outputs": [
        {
          "output_type": "execute_result",
          "data": {
            "text/plain": [
              "[10, 20, 30, 40, 10, 20, 30, 40]"
            ]
          },
          "metadata": {},
          "execution_count": 191
        }
      ]
    },
    {
      "cell_type": "code",
      "source": [
        "#시퀀스 자료구조는 같은 자료구조끼리만 연산 가능하다\n",
        "# a + b\n",
        "a + c"
      ],
      "metadata": {
        "colab": {
          "base_uri": "https://localhost:8080/"
        },
        "id": "1IPyU67574Te",
        "outputId": "fd109435-3827-49c0-f672-9889ad9bc921"
      },
      "execution_count": null,
      "outputs": [
        {
          "output_type": "execute_result",
          "data": {
            "text/plain": [
              "[10, 20, 30, 40, 100, 200, 300, 400]"
            ]
          },
          "metadata": {},
          "execution_count": 194
        }
      ]
    },
    {
      "cell_type": "code",
      "source": [
        "# array끼리는 연산이 가능하다\n",
        "# numpy는 같은 배열끼리 연산이 된다\n",
        "data1 + data2"
      ],
      "metadata": {
        "colab": {
          "base_uri": "https://localhost:8080/"
        },
        "id": "pifB_Bav8CgL",
        "outputId": "b626b4b3-3072-46a8-8f1c-7588d33b5c5a"
      },
      "execution_count": null,
      "outputs": [
        {
          "output_type": "execute_result",
          "data": {
            "text/plain": [
              "array([[  0,  11,  22,  33,  44],\n",
              "       [ 55,  66,  77,  88,  99],\n",
              "       [110, 121, 132, 143, 154]])"
            ]
          },
          "metadata": {},
          "execution_count": 196
        }
      ]
    },
    {
      "cell_type": "code",
      "source": [
        "data1 - data2\n"
      ],
      "metadata": {
        "colab": {
          "base_uri": "https://localhost:8080/"
        },
        "id": "G-avz8zz8FVk",
        "outputId": "d10e21fc-2085-4884-adac-6ad92791661a"
      },
      "execution_count": null,
      "outputs": [
        {
          "output_type": "execute_result",
          "data": {
            "text/plain": [
              "array([[   0,   -9,  -18,  -27,  -36],\n",
              "       [ -45,  -54,  -63,  -72,  -81],\n",
              "       [ -90,  -99, -108, -117, -126]])"
            ]
          },
          "metadata": {},
          "execution_count": 197
        }
      ]
    },
    {
      "cell_type": "code",
      "source": [
        "data1 + 10"
      ],
      "metadata": {
        "colab": {
          "base_uri": "https://localhost:8080/"
        },
        "id": "y7eKQt4k8R69",
        "outputId": "ca9df3fc-6cc8-4cd5-ac3f-ccc187fa8463"
      },
      "execution_count": null,
      "outputs": [
        {
          "output_type": "execute_result",
          "data": {
            "text/plain": [
              "array([[10, 11, 12, 13, 14],\n",
              "       [15, 16, 17, 18, 19],\n",
              "       [20, 21, 22, 23, 24]])"
            ]
          },
          "metadata": {},
          "execution_count": 198
        }
      ]
    },
    {
      "cell_type": "markdown",
      "source": [
        "## 브로드캐스팅\n",
        "    - 다른 크기의 배열들 간에도 자동으로 연산이 가능하도록 해주는 Numpy의 강력한 기능"
      ],
      "metadata": {
        "id": "KglrAC_-8Vyu"
      }
    },
    {
      "cell_type": "code",
      "source": [
        "# 10은 1차원 스칼라이다.\n",
        "data1 + [10]"
      ],
      "metadata": {
        "colab": {
          "base_uri": "https://localhost:8080/"
        },
        "id": "hOWP2qYP8qEa",
        "outputId": "571628fd-343a-41b5-cef9-9b108aba4646"
      },
      "execution_count": null,
      "outputs": [
        {
          "output_type": "execute_result",
          "data": {
            "text/plain": [
              "array([[10, 11, 12, 13, 14],\n",
              "       [15, 16, 17, 18, 19],\n",
              "       [20, 21, 22, 23, 24]])"
            ]
          },
          "metadata": {},
          "execution_count": 200
        }
      ]
    },
    {
      "cell_type": "code",
      "source": [
        "#2차원 스칼라\n",
        "#각각의 형태에 따라 이름이 붙여져있다.\n",
        "#차수가 다른데도 연산이 가능하다.\n",
        "data1 + [[10]]"
      ],
      "metadata": {
        "colab": {
          "base_uri": "https://localhost:8080/"
        },
        "id": "J_ypvpVV81Vf",
        "outputId": "cae1b558-34ba-42c3-cf02-ef2921fc3759"
      },
      "execution_count": null,
      "outputs": [
        {
          "output_type": "execute_result",
          "data": {
            "text/plain": [
              "array([[10, 11, 12, 13, 14],\n",
              "       [15, 16, 17, 18, 19],\n",
              "       [20, 21, 22, 23, 24]])"
            ]
          },
          "metadata": {},
          "execution_count": 202
        }
      ]
    },
    {
      "cell_type": "code",
      "source": [
        "data1 + [[[10]]]"
      ],
      "metadata": {
        "colab": {
          "base_uri": "https://localhost:8080/"
        },
        "id": "m9n288-i85Og",
        "outputId": "7ffe1a27-18cf-40ac-ed92-7e32794f261a"
      },
      "execution_count": null,
      "outputs": [
        {
          "output_type": "execute_result",
          "data": {
            "text/plain": [
              "array([[[10, 11, 12, 13, 14],\n",
              "        [15, 16, 17, 18, 19],\n",
              "        [20, 21, 22, 23, 24]]])"
            ]
          },
          "metadata": {},
          "execution_count": 203
        }
      ]
    },
    {
      "cell_type": "code",
      "source": [
        "data1 + np.array(10)"
      ],
      "metadata": {
        "colab": {
          "base_uri": "https://localhost:8080/"
        },
        "id": "5m-Y5DkI9Fg-",
        "outputId": "3300fc87-1185-4c77-ab2d-36f6a3b8ef61"
      },
      "execution_count": null,
      "outputs": [
        {
          "output_type": "execute_result",
          "data": {
            "text/plain": [
              "array([[10, 11, 12, 13, 14],\n",
              "       [15, 16, 17, 18, 19],\n",
              "       [20, 21, 22, 23, 24]])"
            ]
          },
          "metadata": {},
          "execution_count": 204
        }
      ]
    },
    {
      "cell_type": "code",
      "source": [
        "# data1 + np.array([10, 20])"
      ],
      "metadata": {
        "id": "Lcy_AyDO9Lmf"
      },
      "execution_count": null,
      "outputs": []
    },
    {
      "cell_type": "markdown",
      "source": [
        "## 브로드캐스팅의 특징\n",
        "    - 기본적으로는 shape와 같은 두 ndarray에 대한 연산은 각 원소별로 진행한다\n",
        "    - 다른 shape를 갖는 array 간의 연산의 경우 브로드 캐스팅(shape를 맞춤) 후 진행한다\n",
        "\n",
        "<img width=500 src='https://www.astroml.org/_images/fig_broadcast_visual_1.png' />"
      ],
      "metadata": {
        "id": "HDVH9UCc9igE"
      }
    },
    {
      "cell_type": "code",
      "source": [
        "x = np.arange(15).reshape(3, 5)\n",
        "x"
      ],
      "metadata": {
        "colab": {
          "base_uri": "https://localhost:8080/"
        },
        "id": "0fpn5ec19j7E",
        "outputId": "8f0eed6a-f210-4c52-c3eb-004e4ce84767"
      },
      "execution_count": null,
      "outputs": [
        {
          "output_type": "execute_result",
          "data": {
            "text/plain": [
              "array([[ 0,  1,  2,  3,  4],\n",
              "       [ 5,  6,  7,  8,  9],\n",
              "       [10, 11, 12, 13, 14]])"
            ]
          },
          "metadata": {},
          "execution_count": 208
        }
      ]
    },
    {
      "cell_type": "code",
      "source": [
        "y = np.random.rand(15).reshape(3, 5)\n",
        "y"
      ],
      "metadata": {
        "colab": {
          "base_uri": "https://localhost:8080/"
        },
        "id": "6gVb01Ip-E-R",
        "outputId": "87da2503-b87c-4f18-c858-fd4409dd02b3"
      },
      "execution_count": null,
      "outputs": [
        {
          "output_type": "execute_result",
          "data": {
            "text/plain": [
              "array([[0.31551563, 0.68650093, 0.83462567, 0.01828828, 0.75014431],\n",
              "       [0.98886109, 0.74816565, 0.28044399, 0.78927933, 0.10322601],\n",
              "       [0.44789353, 0.9085955 , 0.29361415, 0.28777534, 0.13002857]])"
            ]
          },
          "metadata": {},
          "execution_count": 210
        }
      ]
    },
    {
      "cell_type": "code",
      "source": [
        "x + y"
      ],
      "metadata": {
        "colab": {
          "base_uri": "https://localhost:8080/"
        },
        "id": "laUisP05-Kg7",
        "outputId": "0ed592a1-e512-4f5b-fa36-39fcf021a247"
      },
      "execution_count": null,
      "outputs": [
        {
          "output_type": "execute_result",
          "data": {
            "text/plain": [
              "array([[ 0.31551563,  1.68650093,  2.83462567,  3.01828828,  4.75014431],\n",
              "       [ 5.98886109,  6.74816565,  7.28044399,  8.78927933,  9.10322601],\n",
              "       [10.44789353, 11.9085955 , 12.29361415, 13.28777534, 14.13002857]])"
            ]
          },
          "metadata": {},
          "execution_count": 212
        }
      ]
    },
    {
      "cell_type": "code",
      "source": [
        "a = np.arange(12).reshape(4, -1)\n",
        "b = np.arange(100,103)\n"
      ],
      "metadata": {
        "id": "iuiCaMKL-S0_"
      },
      "execution_count": null,
      "outputs": []
    },
    {
      "cell_type": "code",
      "source": [
        "a"
      ],
      "metadata": {
        "colab": {
          "base_uri": "https://localhost:8080/"
        },
        "id": "GuflXrMK-ffQ",
        "outputId": "068c63e0-323b-4fe4-8164-03206aa5d319"
      },
      "execution_count": null,
      "outputs": [
        {
          "output_type": "execute_result",
          "data": {
            "text/plain": [
              "array([[ 0,  1,  2],\n",
              "       [ 3,  4,  5],\n",
              "       [ 6,  7,  8],\n",
              "       [ 9, 10, 11]])"
            ]
          },
          "metadata": {},
          "execution_count": 218
        }
      ]
    },
    {
      "cell_type": "code",
      "source": [
        "b"
      ],
      "metadata": {
        "colab": {
          "base_uri": "https://localhost:8080/"
        },
        "id": "ju9tiRPv-h2z",
        "outputId": "56832ccf-2ad4-452d-e21e-174905160399"
      },
      "execution_count": null,
      "outputs": [
        {
          "output_type": "execute_result",
          "data": {
            "text/plain": [
              "array([100, 101, 102])"
            ]
          },
          "metadata": {},
          "execution_count": 219
        }
      ]
    },
    {
      "cell_type": "code",
      "source": [
        "a + b"
      ],
      "metadata": {
        "colab": {
          "base_uri": "https://localhost:8080/"
        },
        "id": "FuGh5sIp-i7u",
        "outputId": "853fc011-106d-4ea9-c7c8-a59b25191a41"
      },
      "execution_count": null,
      "outputs": [
        {
          "output_type": "execute_result",
          "data": {
            "text/plain": [
              "array([[100, 102, 104],\n",
              "       [103, 105, 107],\n",
              "       [106, 108, 110],\n",
              "       [109, 111, 113]])"
            ]
          },
          "metadata": {},
          "execution_count": 220
        }
      ]
    },
    {
      "cell_type": "markdown",
      "source": [
        "## 브로드 캐스팅의 규칭\n",
        "    - 뒷 차원에서부터 비교하여\n",
        "        1. Shape가 같아야 한다\n",
        "        2. 차원 중 값아 1이 존재해야 한다\n",
        "    - 결과 차원은 둘 중 큰 Size의 차원으로 확장된다.\n",
        "\n",
        "[공식문서](https://numpy.org/doc/stable/user/basics.broadcasting.html)\n",
        "\n"
      ],
      "metadata": {
        "id": "8ZN5TGJ--z0z"
      }
    },
    {
      "cell_type": "code",
      "source": [
        "'''\n",
        "    브로드 캐스팅 가용한 경우\n",
        "    스칼라와 연산하는 경우\n",
        "    A : 256 x 256 x 10\n",
        "    B :           x 30\n",
        "    R : 256 x 256 x 30\n",
        "\n",
        "    확장 가능한 1이 존재하는 경우\n",
        "    A : 8 x 1 x 3 x 1\n",
        "    B :     7 x 1 x 9\n",
        "    R : 8 x 7 x 3 x 9\n",
        "\n",
        "    -> 차수가 다른 경우 B가 확장된다.\n",
        "    단, 배열이 앞쪽에 1을 추가\n",
        "    B : 1 x 7 x 1 x 9\n",
        "'''\n",
        "\n",
        "'''\n",
        "    브로드 캐스팅이 불가능한 경우\n",
        "    사이즈가 맞지 않는 경우\n",
        "    A : 3\n",
        "    B : 4\n",
        "\n",
        "    A :\n",
        "'''\n",
        "\n",
        "None"
      ],
      "metadata": {
        "id": "c6Ks1UXZ_Sjk"
      },
      "execution_count": null,
      "outputs": []
    },
    {
      "cell_type": "code",
      "source": [
        "c = np.arange(1000, 1004)\n",
        "c"
      ],
      "metadata": {
        "colab": {
          "base_uri": "https://localhost:8080/"
        },
        "id": "qTGOArg1Bq64",
        "outputId": "5d879973-91f4-45d4-ef1e-b06d15b20827"
      },
      "execution_count": null,
      "outputs": [
        {
          "output_type": "execute_result",
          "data": {
            "text/plain": [
              "array([1000, 1001, 1002, 1003])"
            ]
          },
          "metadata": {},
          "execution_count": 221
        }
      ]
    },
    {
      "cell_type": "code",
      "source": [
        "print(a.shape)\n",
        "print(c.shape)"
      ],
      "metadata": {
        "colab": {
          "base_uri": "https://localhost:8080/"
        },
        "id": "dZyI2WubBwaD",
        "outputId": "74c77e0f-75a8-47d2-9faf-c713795d5f32"
      },
      "execution_count": null,
      "outputs": [
        {
          "output_type": "stream",
          "name": "stdout",
          "text": [
            "(4, 3)\n",
            "(4,)\n"
          ]
        }
      ]
    },
    {
      "cell_type": "code",
      "source": [
        "# 사이즈가 달라서 연산이 불가함\n",
        "# a + c"
      ],
      "metadata": {
        "id": "5I7WpLX-Bzg9"
      },
      "execution_count": null,
      "outputs": []
    },
    {
      "cell_type": "code",
      "source": [
        "# full(칸, 값)\n",
        "a = np.full(4, 100)\n",
        "a"
      ],
      "metadata": {
        "colab": {
          "base_uri": "https://localhost:8080/"
        },
        "id": "W1xV66U0B9wj",
        "outputId": "8b5e9a6a-2def-4587-a086-cd48d72e6f31"
      },
      "execution_count": null,
      "outputs": [
        {
          "output_type": "execute_result",
          "data": {
            "text/plain": [
              "array([100, 100, 100, 100])"
            ]
          },
          "metadata": {},
          "execution_count": 225
        }
      ]
    },
    {
      "cell_type": "code",
      "source": [
        "# a: (4, )\n",
        "# (1, )\n",
        "a + 1"
      ],
      "metadata": {
        "colab": {
          "base_uri": "https://localhost:8080/"
        },
        "id": "qYYM1l5lCDLF",
        "outputId": "207cba22-1619-4052-af9a-53976d1aef9a"
      },
      "execution_count": null,
      "outputs": [
        {
          "output_type": "execute_result",
          "data": {
            "text/plain": [
              "array([101, 101, 101, 101])"
            ]
          },
          "metadata": {},
          "execution_count": 226
        }
      ]
    },
    {
      "cell_type": "code",
      "source": [
        "# (4, ), (2, )\n",
        "# a + [1, 2]"
      ],
      "metadata": {
        "id": "ajGs03cHCOYK"
      },
      "execution_count": null,
      "outputs": []
    },
    {
      "cell_type": "code",
      "source": [
        "b = np.arange(1, 9).reshape(2, 4)\n",
        "b"
      ],
      "metadata": {
        "colab": {
          "base_uri": "https://localhost:8080/"
        },
        "id": "KtY1DqVNCfai",
        "outputId": "2845e4d0-8006-469d-94e4-44a542cbc71c"
      },
      "execution_count": null,
      "outputs": [
        {
          "output_type": "execute_result",
          "data": {
            "text/plain": [
              "array([[1, 2, 3, 4],\n",
              "       [5, 6, 7, 8]])"
            ]
          },
          "metadata": {},
          "execution_count": 229
        }
      ]
    },
    {
      "cell_type": "code",
      "source": [
        "#a 가 확장이 된 것이다\n",
        "#작은쪽이 큰 쪽으로 확장된다\n",
        "\n",
        "# (4, ) + (2, 4)\n",
        "# a: (4, ) -> (1, 4)로 확장\n",
        "# (1, 4) + (2, 4) -> (2, 4) 브로드캐스팅\n",
        "a + b"
      ],
      "metadata": {
        "colab": {
          "base_uri": "https://localhost:8080/"
        },
        "id": "wZezIirICk-i",
        "outputId": "f60def8a-07a2-4ff9-a2b7-e2ce75bbb94a"
      },
      "execution_count": null,
      "outputs": [
        {
          "output_type": "execute_result",
          "data": {
            "text/plain": [
              "array([[101, 102, 103, 104],\n",
              "       [105, 106, 107, 108]])"
            ]
          },
          "metadata": {},
          "execution_count": 232
        }
      ]
    },
    {
      "cell_type": "code",
      "source": [
        "d = np.arange(10, 70, 10).reshape(2,3)\n",
        "d\n",
        "# (2, 3)"
      ],
      "metadata": {
        "colab": {
          "base_uri": "https://localhost:8080/"
        },
        "id": "0C8nJX6ACpnm",
        "outputId": "25e2b4c3-4893-4db6-e51d-0af628a80f46"
      },
      "execution_count": null,
      "outputs": [
        {
          "output_type": "execute_result",
          "data": {
            "text/plain": [
              "array([[10, 20, 30],\n",
              "       [40, 50, 60]])"
            ]
          },
          "metadata": {},
          "execution_count": 235
        }
      ]
    },
    {
      "cell_type": "code",
      "source": [
        "e = np.array([1, 2])\n",
        "e"
      ],
      "metadata": {
        "colab": {
          "base_uri": "https://localhost:8080/"
        },
        "id": "W60qhqvnC-j5",
        "outputId": "1afca3ad-56d5-4785-b46e-7bcc648f990a"
      },
      "execution_count": null,
      "outputs": [
        {
          "output_type": "execute_result",
          "data": {
            "text/plain": [
              "array([1, 2])"
            ]
          },
          "metadata": {},
          "execution_count": 246
        }
      ]
    },
    {
      "cell_type": "code",
      "source": [
        "# d + e\n",
        "# d: (2, 3)\n",
        "# e: (2, )\n",
        "# 위 두개 array로 아래 결과를 만들기\n",
        "# array([\n",
        "#         [11, 22, 31],\n",
        "#         [42, 51, 62]\n",
        "#        ])\n",
        "\n",
        "(d.T + e).T\n"
      ],
      "metadata": {
        "colab": {
          "base_uri": "https://localhost:8080/"
        },
        "id": "XJXBdGk9DJ6n",
        "outputId": "3abb509a-bd15-4fdd-d6e2-a6b37aae6679"
      },
      "execution_count": null,
      "outputs": [
        {
          "output_type": "execute_result",
          "data": {
            "text/plain": [
              "array([[11, 21, 31],\n",
              "       [42, 52, 62]])"
            ]
          },
          "metadata": {},
          "execution_count": 247
        }
      ]
    },
    {
      "cell_type": "code",
      "source": [
        "d + e.reshape(2,1)"
      ],
      "metadata": {
        "colab": {
          "base_uri": "https://localhost:8080/"
        },
        "id": "FBE3-kOfEMKd",
        "outputId": "57803656-0160-4cbd-973f-e603ded37fa1"
      },
      "execution_count": null,
      "outputs": [
        {
          "output_type": "execute_result",
          "data": {
            "text/plain": [
              "array([[11, 21, 31],\n",
              "       [42, 52, 62]])"
            ]
          },
          "metadata": {},
          "execution_count": 248
        }
      ]
    },
    {
      "cell_type": "code",
      "source": [
        "# 배열의 형상을 더 명확히 구현\n",
        "(d.reshape(3, 2) + e).reshape(2,3)\n"
      ],
      "metadata": {
        "colab": {
          "base_uri": "https://localhost:8080/"
        },
        "id": "R7aJpzHlEQbY",
        "outputId": "60d6abc7-c492-4c04-9f6b-b3d78eab19bd"
      },
      "execution_count": null,
      "outputs": [
        {
          "output_type": "execute_result",
          "data": {
            "text/plain": [
              "array([[11, 22, 31],\n",
              "       [42, 51, 62]])"
            ]
          },
          "metadata": {},
          "execution_count": 252
        }
      ]
    },
    {
      "cell_type": "markdown",
      "source": [
        "## 차원축(axis)\n",
        "    - 넘파이의 많은 함수들은 axis= 파라미터를 가지고 있다\n",
        "    - 1차원 array라면 각 차원에 대한 axis 값은 0(1개)\n",
        "    - 2차원 array라면 각 차원에 대한 axis 값은 0, 1(2개)\n",
        "    - 3차원 array라면 각 차원에 대한 axis 값은 0, 1, 2(3개)\n",
        "    \n",
        "    - axis= 값을 명시하면 그 함수의 연산은 해당 axis(축)에 '따라서' 연산을 수행하게 된다."
      ],
      "metadata": {
        "id": "fQiuCoiGEgur"
      }
    },
    {
      "cell_type": "code",
      "source": [
        "x1 = np.arange(15)\n",
        "x1"
      ],
      "metadata": {
        "colab": {
          "base_uri": "https://localhost:8080/"
        },
        "id": "O7eEOgdlEoep",
        "outputId": "0d34ef73-3bd8-49ec-b916-04b88ce6c5d4"
      },
      "execution_count": null,
      "outputs": [
        {
          "output_type": "execute_result",
          "data": {
            "text/plain": [
              "array([ 0,  1,  2,  3,  4,  5,  6,  7,  8,  9, 10, 11, 12, 13, 14])"
            ]
          },
          "metadata": {},
          "execution_count": 254
        }
      ]
    },
    {
      "cell_type": "code",
      "source": [
        "# 모든 값을 연산\n",
        "np.sum(x1)"
      ],
      "metadata": {
        "colab": {
          "base_uri": "https://localhost:8080/"
        },
        "id": "oEyPz6fmEy8j",
        "outputId": "d993ecc5-7818-4a62-c66b-5c596a34b3ea"
      },
      "execution_count": null,
      "outputs": [
        {
          "output_type": "execute_result",
          "data": {
            "text/plain": [
              "np.int64(105)"
            ]
          },
          "metadata": {},
          "execution_count": 256
        }
      ]
    },
    {
      "cell_type": "code",
      "source": [
        "np.sum(x1, axis=None)"
      ],
      "metadata": {
        "colab": {
          "base_uri": "https://localhost:8080/"
        },
        "id": "KUX3nYHLE_9y",
        "outputId": "67d472a2-b469-4a33-b0ab-5968344cadbd"
      },
      "execution_count": null,
      "outputs": [
        {
          "output_type": "execute_result",
          "data": {
            "text/plain": [
              "np.int64(105)"
            ]
          },
          "metadata": {},
          "execution_count": 258
        }
      ]
    },
    {
      "cell_type": "code",
      "source": [
        "x2 = x1.reshape(3,5)\n",
        "x2"
      ],
      "metadata": {
        "colab": {
          "base_uri": "https://localhost:8080/"
        },
        "id": "9sLsEd5fFCMu",
        "outputId": "3dd032c9-3eae-4fa4-d1f3-31b197b2a73e"
      },
      "execution_count": null,
      "outputs": [
        {
          "output_type": "execute_result",
          "data": {
            "text/plain": [
              "array([[ 0,  1,  2,  3,  4],\n",
              "       [ 5,  6,  7,  8,  9],\n",
              "       [10, 11, 12, 13, 14]])"
            ]
          },
          "metadata": {},
          "execution_count": 260
        }
      ]
    },
    {
      "cell_type": "code",
      "source": [
        "x2.shape"
      ],
      "metadata": {
        "colab": {
          "base_uri": "https://localhost:8080/"
        },
        "id": "It0pWBZsFUm7",
        "outputId": "579a8507-2d98-4889-ea42-14aa89982c82"
      },
      "execution_count": null,
      "outputs": [
        {
          "output_type": "execute_result",
          "data": {
            "text/plain": [
              "(3, 5)"
            ]
          },
          "metadata": {},
          "execution_count": 262
        }
      ]
    },
    {
      "cell_type": "code",
      "source": [
        "# axis = 0 : column 방향\n",
        "np.sum(x2, axis=0)"
      ],
      "metadata": {
        "colab": {
          "base_uri": "https://localhost:8080/"
        },
        "id": "SGZd2W_IFYn-",
        "outputId": "a51b013d-d406-451c-d279-9e5232be27fd"
      },
      "execution_count": null,
      "outputs": [
        {
          "output_type": "execute_result",
          "data": {
            "text/plain": [
              "array([15, 18, 21, 24, 27])"
            ]
          },
          "metadata": {},
          "execution_count": 263
        }
      ]
    },
    {
      "cell_type": "code",
      "source": [
        "# axis = 1 : row 방향\n",
        "np.sum(x2, axis=1)"
      ],
      "metadata": {
        "colab": {
          "base_uri": "https://localhost:8080/"
        },
        "id": "9yqnMtaeFjnz",
        "outputId": "aec53c26-f4c5-48f2-d966-a32f4c6b3eb7"
      },
      "execution_count": null,
      "outputs": [
        {
          "output_type": "execute_result",
          "data": {
            "text/plain": [
              "array([10, 35, 60])"
            ]
          },
          "metadata": {},
          "execution_count": 266
        }
      ]
    },
    {
      "cell_type": "code",
      "source": [
        "y = np.random.rand(15).reshape(3,5)"
      ],
      "metadata": {
        "id": "VfA9RCcTFqHC"
      },
      "execution_count": null,
      "outputs": []
    },
    {
      "cell_type": "code",
      "source": [
        "y.max()"
      ],
      "metadata": {
        "colab": {
          "base_uri": "https://localhost:8080/"
        },
        "id": "Oi2-85KWFywE",
        "outputId": "42f97187-3c1b-41ed-806a-ce848659e2e9"
      },
      "execution_count": null,
      "outputs": [
        {
          "output_type": "execute_result",
          "data": {
            "text/plain": [
              "np.float64(0.6997583600209312)"
            ]
          },
          "metadata": {},
          "execution_count": 268
        }
      ]
    },
    {
      "cell_type": "code",
      "source": [
        "y.argmax()"
      ],
      "metadata": {
        "colab": {
          "base_uri": "https://localhost:8080/"
        },
        "id": "kChythVHF8JT",
        "outputId": "588c450c-6b1d-43f9-a63e-75f96584ecf7"
      },
      "execution_count": null,
      "outputs": [
        {
          "output_type": "execute_result",
          "data": {
            "text/plain": [
              "np.int64(9)"
            ]
          },
          "metadata": {},
          "execution_count": 271
        }
      ]
    },
    {
      "cell_type": "code",
      "source": [
        "y.min()"
      ],
      "metadata": {
        "colab": {
          "base_uri": "https://localhost:8080/"
        },
        "id": "0aHgzPEuF10f",
        "outputId": "a6cc381e-10e1-4212-fdb3-064d36508303"
      },
      "execution_count": null,
      "outputs": [
        {
          "output_type": "execute_result",
          "data": {
            "text/plain": [
              "np.float64(0.019366957870297075)"
            ]
          },
          "metadata": {},
          "execution_count": 269
        }
      ]
    },
    {
      "cell_type": "code",
      "source": [
        "y.argmin()"
      ],
      "metadata": {
        "colab": {
          "base_uri": "https://localhost:8080/"
        },
        "id": "RBcmhO3LF4-S",
        "outputId": "093372f0-7705-49db-e0fc-44a30181bbe7"
      },
      "execution_count": null,
      "outputs": [
        {
          "output_type": "execute_result",
          "data": {
            "text/plain": [
              "np.int64(0)"
            ]
          },
          "metadata": {},
          "execution_count": 270
        }
      ]
    },
    {
      "cell_type": "code",
      "source": [
        "np.max(y, axis = 1)\n",
        "np.max(y, axis = 0)"
      ],
      "metadata": {
        "colab": {
          "base_uri": "https://localhost:8080/"
        },
        "id": "YqwN6rBkF3Xi",
        "outputId": "28c547fa-cb37-439b-b132-7da3eeb7579c"
      },
      "execution_count": null,
      "outputs": [
        {
          "output_type": "execute_result",
          "data": {
            "text/plain": [
              "array([0.10233443, 0.67883553, 0.69440016, 0.58930554, 0.69975836])"
            ]
          },
          "metadata": {},
          "execution_count": 273
        }
      ]
    },
    {
      "cell_type": "code",
      "source": [
        "np.argmax(y, axis=1)\n",
        "np.argmax(y, axis=0)"
      ],
      "metadata": {
        "colab": {
          "base_uri": "https://localhost:8080/"
        },
        "id": "XjTVlmrMGNMZ",
        "outputId": "a8ca7aa4-37a3-4325-c5e6-db694ee27da9"
      },
      "execution_count": null,
      "outputs": [
        {
          "output_type": "execute_result",
          "data": {
            "text/plain": [
              "array([2, 0, 2, 1, 1])"
            ]
          },
          "metadata": {},
          "execution_count": 275
        }
      ]
    },
    {
      "cell_type": "markdown",
      "source": [
        "## Boolean indexing\n",
        "    - array 인덱싱 시, bool(리스트 aka. mask)를 전달하여 true인 경우만 필터링한다\n",
        "    - for 사용하지 않고도 array에서 '조건'에 맞는 데이터만 추출하는 기능"
      ],
      "metadata": {
        "id": "_WZVxOzlGUrH"
      }
    },
    {
      "cell_type": "code",
      "source": [
        "f = np.random.randint(1, 100, size =10)\n",
        "f"
      ],
      "metadata": {
        "colab": {
          "base_uri": "https://localhost:8080/"
        },
        "id": "WQ1mEhjqGZVa",
        "outputId": "4085425b-0285-4f92-fb06-0fd7eed57192"
      },
      "execution_count": null,
      "outputs": [
        {
          "output_type": "execute_result",
          "data": {
            "text/plain": [
              "array([46, 69, 58, 83, 97, 14, 11, 24, 82,  8])"
            ]
          },
          "metadata": {},
          "execution_count": 278
        }
      ]
    },
    {
      "cell_type": "code",
      "source": [
        "even_mask = f % 2 == 0\n",
        "even_mask"
      ],
      "metadata": {
        "colab": {
          "base_uri": "https://localhost:8080/"
        },
        "id": "7EJGw4QuGu7u",
        "outputId": "66b6179e-20f8-4160-fa27-7783133786ff"
      },
      "execution_count": null,
      "outputs": [
        {
          "output_type": "execute_result",
          "data": {
            "text/plain": [
              "array([ True, False,  True, False, False,  True, False,  True,  True,\n",
              "        True])"
            ]
          },
          "metadata": {},
          "execution_count": 280
        }
      ]
    },
    {
      "cell_type": "code",
      "source": [
        "f[even_mask]"
      ],
      "metadata": {
        "colab": {
          "base_uri": "https://localhost:8080/"
        },
        "id": "CLGZgcV9G6WG",
        "outputId": "229839a8-bc62-4916-bf6a-f99afda1ff39"
      },
      "execution_count": null,
      "outputs": [
        {
          "output_type": "execute_result",
          "data": {
            "text/plain": [
              "array([46, 58, 14, 24, 82,  8])"
            ]
          },
          "metadata": {},
          "execution_count": 281
        }
      ]
    },
    {
      "cell_type": "markdown",
      "source": [
        "## 다중 조건 사용하기\n",
        "    - 파이썬 논리 연산자인 and, or, not 키워드를 사용할 수 없다\n",
        "    - & : AND\n",
        "    - I : OR   "
      ],
      "metadata": {
        "id": "vZHzUltuHCsx"
      }
    },
    {
      "cell_type": "code",
      "source": [
        "f[(f % 2 == 0) & (f < 50)]"
      ],
      "metadata": {
        "colab": {
          "base_uri": "https://localhost:8080/"
        },
        "id": "sLLgY2qOHQdo",
        "outputId": "966ccc1f-bc22-459c-c48f-196e317d3e61"
      },
      "execution_count": null,
      "outputs": [
        {
          "output_type": "execute_result",
          "data": {
            "text/plain": [
              "array([46, 14, 24,  8])"
            ]
          },
          "metadata": {},
          "execution_count": 282
        }
      ]
    }
  ]
}