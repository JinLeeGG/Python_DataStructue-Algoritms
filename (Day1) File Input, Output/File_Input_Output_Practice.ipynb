{
  "nbformat": 4,
  "nbformat_minor": 0,
  "metadata": {
    "colab": {
      "provenance": [],
      "mount_file_id": "1tnub5yJxwMolYuha6lDIk_640_2xktD1",
      "authorship_tag": "ABX9TyNvFxWLAhBA4LMLAi5H5Qj9",
      "include_colab_link": true
    },
    "kernelspec": {
      "name": "python3",
      "display_name": "Python 3"
    },
    "language_info": {
      "name": "python"
    }
  },
  "cells": [
    {
      "cell_type": "markdown",
      "metadata": {
        "id": "view-in-github",
        "colab_type": "text"
      },
      "source": [
        "<a href=\"https://colab.research.google.com/github/JinLeeGG/Python_DataStructue-Algoritms/blob/main/(Day1)%20File%20Input%2C%20Output/File_Input_Output_Practice.ipynb\" target=\"_parent\"><img src=\"https://colab.research.google.com/assets/colab-badge.svg\" alt=\"Open In Colab\"/></a>"
      ]
    },
    {
      "cell_type": "code",
      "execution_count": 2,
      "metadata": {
        "id": "yJ51LkRrMKZq"
      },
      "outputs": [],
      "source": [
        "# Open(filename, mode, encoding option)\n",
        "f = open('./file_test1.txt', 'w', encoding='utf-8')\n",
        "\n",
        "f.write('Hello \\n')\n",
        "f.write('My name is \\n')\n",
        "f.write('John Lee')\n",
        "\n",
        "f.close()"
      ]
    },
    {
      "cell_type": "code",
      "source": [
        "# Now we read files\n",
        "# read()\n",
        "\n"
      ],
      "metadata": {
        "id": "1Huo1SRqM4RC"
      },
      "execution_count": null,
      "outputs": []
    }
  ]
}