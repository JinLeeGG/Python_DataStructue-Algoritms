{
  "nbformat": 4,
  "nbformat_minor": 0,
  "metadata": {
    "colab": {
      "provenance": [],
      "authorship_tag": "ABX9TyN3wIdYKHneE9PKioK3Hu+H",
      "include_colab_link": true
    },
    "kernelspec": {
      "name": "python3",
      "display_name": "Python 3"
    },
    "language_info": {
      "name": "python"
    }
  },
  "cells": [
    {
      "cell_type": "markdown",
      "metadata": {
        "id": "view-in-github",
        "colab_type": "text"
      },
      "source": [
        "<a href=\"https://colab.research.google.com/github/JinLeeGG/Python_Practice/blob/main/day01.ipynb\" target=\"_parent\"><img src=\"https://colab.research.google.com/assets/colab-badge.svg\" alt=\"Open In Colab\"/></a>"
      ]
    },
    {
      "cell_type": "code",
      "execution_count": null,
      "metadata": {
        "id": "6wFNhnN2N1Tk"
      },
      "outputs": [],
      "source": [
        " # open(파일명, 모드, 인코딩 방식)\n",
        " f = open('./file_test1.txt', 'w', encoding='utf-8')\n",
        "\n",
        " f.write('안녕하세요. 파일 입출력입니다! \\n')\n",
        " f.write('나 글 좀 잘 쓰는 듯!')\n",
        " f.write('불타는 금요일! 불타고싶다!')\n",
        "\n",
        " f.close()"
      ]
    },
    {
      "cell_type": "code",
      "source": [
        "# 파일 읽기\n",
        "# read()\n",
        "f = open('./file_test1.txt', 'r')\n",
        "data = f.read()\n",
        "\n",
        "f.close()\n",
        "print(data)"
      ],
      "metadata": {
        "colab": {
          "base_uri": "https://localhost:8080/"
        },
        "id": "EErSLbF7e3in",
        "outputId": "f3e1d1ff-b475-4084-e1a2-290246030001"
      },
      "execution_count": null,
      "outputs": [
        {
          "output_type": "stream",
          "name": "stdout",
          "text": [
            "안녕하세요. 파일 입출력입니다! \n",
            "나 글 좀 잘 쓰는 듯!불타는 금요일! 불타고싶다!\n"
          ]
        }
      ]
    },
    {
      "cell_type": "code",
      "source": [
        "f = open('./file_test1.txt', 'r')\n",
        "line1 = f.readline()\n",
        "line2 = f.readline()\n",
        "f.close()\n",
        "\n",
        "print(line1)\n",
        "print(line2)"
      ],
      "metadata": {
        "colab": {
          "base_uri": "https://localhost:8080/"
        },
        "id": "VZ8wW1FuftcC",
        "outputId": "859f1f69-4183-420e-e158-546832bc5325"
      },
      "execution_count": null,
      "outputs": [
        {
          "output_type": "stream",
          "name": "stdout",
          "text": [
            "안녕하세요. 파일 입출력입니다! \n",
            "\n",
            "나 글 좀 잘 쓰는 듯!불타는 금요일! 불타고싶다!\n"
          ]
        }
      ]
    },
    {
      "cell_type": "code",
      "source": [
        "try:\n",
        "    f = open('./file_test2.txt',  'wt', encoding='utf-8')\n",
        "    f.write('야식 리스트\\n')\n",
        "    f.write('치킨\\n')\n",
        "    f.write('매운 닭발\\n')\n",
        "    f.write('피자\\n')\n",
        "    f.write('햄버거\\n')\n",
        "except AttributeError:\n",
        "    print('메서드를 잘못 입력하였습니다.')\n",
        "except BaseException:\n",
        "    print('open 메서드를 정확히 작성해주세요')\n",
        "except Exception:\n",
        "    print(Exception.args)\n",
        "    print('알수 없는 예외 발생')\n",
        "finally:\n",
        "    print('file_text2.txt.를 생성했습니다.')\n",
        "    f.close()\n"
      ],
      "metadata": {
        "colab": {
          "base_uri": "https://localhost:8080/"
        },
        "id": "iR3-tAVGi1Y8",
        "outputId": "3e2eefcf-771e-4272-ebca-453b5c9b479c"
      },
      "execution_count": null,
      "outputs": [
        {
          "output_type": "stream",
          "name": "stdout",
          "text": [
            "file_text2.txt.를 생성했습니다.\n"
          ]
        }
      ]
    },
    {
      "cell_type": "code",
      "source": [
        "# with 문\n",
        "with open('./file_test3.txt', 'wt', encoding='utf=8') as f:\n",
        "  f.write('파일 입출력 완전 정복!!')\n",
        "  f.write('내 마음대로 파일 다 만들 수 있다!!')\n",
        "  print('file_test3.txt가 생성되었습니다')\n",
        "  f.close()"
      ],
      "metadata": {
        "colab": {
          "base_uri": "https://localhost:8080/"
        },
        "id": "PyuCHiPYlWDH",
        "outputId": "f1a79da8-8b47-411b-c84e-bf4cf9f61b99"
      },
      "execution_count": null,
      "outputs": [
        {
          "output_type": "stream",
          "name": "stdout",
          "text": [
            "file_test3.txt가 생성되었습니다\n"
          ]
        }
      ]
    },
    {
      "cell_type": "code",
      "source": [
        "# 파일 합치기\n",
        "with open('./merged_test.txt', 'a') as merged_file:\n",
        "  with open('./file_test1.txt', 'r') as f:\n",
        "    data = f.read()\n",
        "    merged_file.write(data)\n",
        "    f.close()\n",
        "\n",
        "  with open('./file_test2.txt', 'r') as f:\n",
        "    data = f.read()\n",
        "    merged_file.write(data)\n",
        "    f.close()\n",
        "\n",
        "  with open('./file_test3.txt', 'r') as f:\n",
        "    data = f.read()\n",
        "    merged_file.write(data)\n",
        "    f.close()\n",
        "\n",
        "merged_file.close()"
      ],
      "metadata": {
        "id": "ObZ9WL8Gl2i_"
      },
      "execution_count": null,
      "outputs": []
    },
    {
      "cell_type": "code",
      "source": [
        "#합쳐진 파일 가져와서 데이터 출력\n",
        "#예외 발생 시 처리하기\n",
        "\n",
        "try:\n",
        "  with open('./merged_test.txt', 'r', encoding='utf=8') as f:\n",
        "\n",
        "    # # 1\n",
        "    # data = f.read()\n",
        "    # data_list = data.split('\\n')\n",
        "    # for i in data_list:\n",
        "    #   if (i == '매운 닭발'):\n",
        "    #     print(i)\n",
        "    #     break\n",
        "\n",
        "\n",
        "    # # 2\n",
        "    # while True:\n",
        "    #   line = f.readline()\n",
        "    #   if not line:\n",
        "    #     break\n",
        "    #   #Strip으로 줄 제거\n",
        "    #   print(line.strip())\n",
        "\n",
        "    # 3\n",
        "    # Walrus Operator\n",
        "    # 파이썬 3.8버전 이상에서 사용이 가능\n",
        "    # 값을 대입 후 조건식으로 결과를 알려준다.\n",
        "    while(line:= f.readline()):\n",
        "        print(line.strip())\n",
        "\n",
        "except FileNotFoundError:\n",
        "    print('파일 경로를 확인해 주세요')\n",
        "except AttributeError:\n",
        "    print('메서드를 정확히 작성해주세요')\n",
        "except Exception:\n",
        "    print('알수 없는 예외 발생')\n",
        "finally:\n",
        "    f.close()"
      ],
      "metadata": {
        "colab": {
          "base_uri": "https://localhost:8080/"
        },
        "id": "vVqAVtSCmXIA",
        "outputId": "836eec8f-e65d-4a41-d26f-3642a6236d0f"
      },
      "execution_count": null,
      "outputs": [
        {
          "output_type": "stream",
          "name": "stdout",
          "text": [
            "안녕하세요. 파일 입출력입니다!\n",
            "나 글 좀 잘 쓰는 듯!불타는 금요일! 불타고싶다!야식 리스트\n",
            "치킨\n",
            "매운 닭발\n",
            "피자\n",
            "햄버거\n",
            "파일 입출력 완전 정복!!내 마음대로 파일 다 만들 수 있다!!안녕하세요. 파일 입출력입니다!\n",
            "나 글 좀 잘 쓰는 듯!불타는 금요일! 불타고싶다!야식 리스트\n",
            "치킨\n",
            "매운 닭발\n",
            "피자\n",
            "햄버거\n",
            "파일 입출력 완전 정복!!내 마음대로 파일 다 만들 수 있다!!\n"
          ]
        }
      ]
    },
    {
      "cell_type": "code",
      "source": [
        "#파이썬 버전 확인\n",
        "!python --version"
      ],
      "metadata": {
        "colab": {
          "base_uri": "https://localhost:8080/"
        },
        "id": "-gE-J8aZsCnw",
        "outputId": "75a86655-0a62-45e1-c257-ca088f212a7d"
      },
      "execution_count": null,
      "outputs": [
        {
          "output_type": "stream",
          "name": "stdout",
          "text": [
            "Python 3.11.11\n"
          ]
        }
      ]
    }
  ]
}