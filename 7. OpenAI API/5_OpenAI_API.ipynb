{
  "nbformat": 4,
  "nbformat_minor": 0,
  "metadata": {
    "colab": {
      "provenance": [],
      "mount_file_id": "1K2YQ_O1SvHkNnet0JWgwRmwkTAu9UW61",
      "authorship_tag": "ABX9TyO0d7DpE9kKWhVt7r/nGLb0",
      "include_colab_link": true
    },
    "kernelspec": {
      "name": "python3",
      "display_name": "Python 3"
    },
    "language_info": {
      "name": "python"
    }
  },
  "cells": [
    {
      "cell_type": "markdown",
      "metadata": {
        "id": "view-in-github",
        "colab_type": "text"
      },
      "source": [
        "<a href=\"https://colab.research.google.com/github/JinLeeGG/Python_DataStructue-Algoritms/blob/main/7.%20OpenAI%20API/5_OpenAI_API.ipynb\" target=\"_parent\"><img src=\"https://colab.research.google.com/assets/colab-badge.svg\" alt=\"Open In Colab\"/></a>"
      ]
    },
    {
      "cell_type": "code",
      "source": [
        "!pip install python-dotenv"
      ],
      "metadata": {
        "colab": {
          "base_uri": "https://localhost:8080/"
        },
        "id": "aL7SAJw2sDmb",
        "outputId": "92f1b482-a65b-43c0-9d25-45314150c5c5"
      },
      "execution_count": null,
      "outputs": [
        {
          "output_type": "stream",
          "name": "stdout",
          "text": [
            "Requirement already satisfied: python-dotenv in /usr/local/lib/python3.11/dist-packages (1.1.0)\n"
          ]
        }
      ]
    },
    {
      "cell_type": "code",
      "execution_count": null,
      "metadata": {
        "id": "o6ZDpFziulIN"
      },
      "outputs": [],
      "source": [
        "import os\n",
        "from dotenv import load_dotenv"
      ]
    },
    {
      "cell_type": "code",
      "source": [
        "ENV_BASE_PATH=r'/content/drive/MyDrive/python_1900_lgj/env'\n",
        "load_dotenv(dotenv_path=os.path.join(ENV_BASE_PATH, 'NLPenv.txt'))\n",
        "# 성공시 true"
      ],
      "metadata": {
        "colab": {
          "base_uri": "https://localhost:8080/"
        },
        "id": "okuS3gNMsCtE",
        "outputId": "c291dc5f-cce1-4aa9-be9e-1fb87bc74aa1"
      },
      "execution_count": null,
      "outputs": [
        {
          "output_type": "execute_result",
          "data": {
            "text/plain": [
              "True"
            ]
          },
          "metadata": {},
          "execution_count": 15
        }
      ]
    },
    {
      "cell_type": "code",
      "source": [
        "api_key = os.getenv('OPENAI_API_KEY')"
      ],
      "metadata": {
        "id": "Fs0TzarwtSZB"
      },
      "execution_count": null,
      "outputs": []
    },
    {
      "cell_type": "markdown",
      "source": [
        "## 요청, 응답 객체 만들기\n",
        "- request 만들기\n",
        "   - https://platform.openai.com/docs/api-reference/introduction\n",
        "\n",
        "- chat requests body 만들기\n",
        "   - https://platform.openai.com/docs/api-reference/chat/create\n"
      ],
      "metadata": {
        "id": "c6DRyX3ut4XK"
      }
    },
    {
      "cell_type": "code",
      "source": [
        "import requests"
      ],
      "metadata": {
        "id": "8qolXxxbuLir"
      },
      "execution_count": null,
      "outputs": []
    },
    {
      "cell_type": "code",
      "source": [
        "response = requests.post(\n",
        "    \"https://api.openai.com/v1/chat/completions\",\n",
        "    headers={\n",
        "        \"Authorization\": f\"Bearer {api_key}\"\n",
        "    },\n",
        "    json = {\n",
        "        \"model\": \"gpt-3.5-turbo\",\n",
        "        \"messages\": [\n",
        "            {\n",
        "              \"role\": \"developer\",\n",
        "              \"content\": \"Tell me about Dickinson College in Penn\"\n",
        "            },\n",
        "            {\n",
        "              \"role\": \"user\",\n",
        "              \"content\": \"Hello!\"\n",
        "            }\n",
        "        ]\n",
        "    }\n",
        ")\n",
        "\n",
        "print(response)"
      ],
      "metadata": {
        "colab": {
          "base_uri": "https://localhost:8080/"
        },
        "id": "m7Y9gHAbvdaa",
        "outputId": "39ebbb21-a1cd-43c2-ce79-babdaf58fe73"
      },
      "execution_count": null,
      "outputs": [
        {
          "output_type": "stream",
          "name": "stdout",
          "text": [
            "<Response [200]>\n"
          ]
        }
      ]
    },
    {
      "cell_type": "code",
      "source": [
        "import pprint\n",
        "\n",
        "# .json() 문자열(JSON) -> 파이썬의 자료구조로 변환을 시켜주는 메서드\n",
        "\n",
        "result = response.json()\n",
        "\n",
        "pprint.pprint(result)"
      ],
      "metadata": {
        "colab": {
          "base_uri": "https://localhost:8080/"
        },
        "id": "WM9Txg7Qx7Am",
        "outputId": "ca6357de-9ce6-4230-eaff-4d24d6091e12"
      },
      "execution_count": null,
      "outputs": [
        {
          "output_type": "stream",
          "name": "stdout",
          "text": [
            "{'choices': [{'finish_reason': 'stop',\n",
            "              'index': 0,\n",
            "              'logprobs': None,\n",
            "              'message': {'annotations': [],\n",
            "                          'content': 'Hello! Dickinson College is a private '\n",
            "                                     'liberal arts college located in '\n",
            "                                     'Carlisle, Pennsylvania. It was founded '\n",
            "                                     'in 1783 and is known for its rigorous '\n",
            "                                     'academic programs, global focus, and '\n",
            "                                     'commitment to sustainability.\\n'\n",
            "                                     '\\n'\n",
            "                                     'Dickinson College offers a wide range of '\n",
            "                                     'undergraduate programs in the liberal '\n",
            "                                     'arts and sciences, with majors and '\n",
            "                                     'minors in fields such as biology, '\n",
            "                                     'history, psychology, environmental '\n",
            "                                     'studies, and more. The college has a '\n",
            "                                     'strong international focus and offers '\n",
            "                                     'study abroad programs in over 40 '\n",
            "                                     'countries.\\n'\n",
            "                                     '\\n'\n",
            "                                     'In addition to its academic offerings, '\n",
            "                                     'Dickinson College is known for its '\n",
            "                                     'commitment to sustainability and '\n",
            "                                     'environmental stewardship. The college '\n",
            "                                     'has a number of sustainability '\n",
            "                                     'initiatives, including a Center for '\n",
            "                                     'Sustainability Education and a campus '\n",
            "                                     'farm.\\n'\n",
            "                                     '\\n'\n",
            "                                     'Dickinson College has a relatively small '\n",
            "                                     'student body, with a focus on close '\n",
            "                                     'student-faculty relationships and '\n",
            "                                     'hands-on learning experiences. The '\n",
            "                                     'campus is located in a historic area of '\n",
            "                                     'Carlisle, Pennsylvania, providing '\n",
            "                                     'students with access to a vibrant '\n",
            "                                     'community and cultural opportunities.\\n'\n",
            "                                     '\\n'\n",
            "                                     'Overall, Dickinson College is a '\n",
            "                                     'well-respected institution known for its '\n",
            "                                     'academic excellence, global perspective, '\n",
            "                                     'and commitment to sustainability.',\n",
            "                          'refusal': None,\n",
            "                          'role': 'assistant'}}],\n",
            " 'created': 1743417364,\n",
            " 'id': 'chatcmpl-BH6mqtZ3t4ioBburayewWE8JBElVI',\n",
            " 'model': 'gpt-3.5-turbo-0125',\n",
            " 'object': 'chat.completion',\n",
            " 'service_tier': 'default',\n",
            " 'system_fingerprint': None,\n",
            " 'usage': {'completion_tokens': 214,\n",
            "           'completion_tokens_details': {'accepted_prediction_tokens': 0,\n",
            "                                         'audio_tokens': 0,\n",
            "                                         'reasoning_tokens': 0,\n",
            "                                         'rejected_prediction_tokens': 0},\n",
            "           'prompt_tokens': 20,\n",
            "           'prompt_tokens_details': {'audio_tokens': 0, 'cached_tokens': 0},\n",
            "           'total_tokens': 234}}\n"
          ]
        }
      ]
    },
    {
      "cell_type": "code",
      "source": [
        "result['choices'][0]['message']['content']"
      ],
      "metadata": {
        "colab": {
          "base_uri": "https://localhost:8080/",
          "height": 127
        },
        "id": "LRldMUlGyeVW",
        "outputId": "63ca1ba6-5df6-4f3b-86f0-37b63811d8a9"
      },
      "execution_count": null,
      "outputs": [
        {
          "output_type": "execute_result",
          "data": {
            "text/plain": [
              "'Hello! Dickinson College is a private liberal arts college located in Carlisle, Pennsylvania. It was founded in 1783 and is known for its rigorous academic programs, global focus, and commitment to sustainability.\\n\\nDickinson College offers a wide range of undergraduate programs in the liberal arts and sciences, with majors and minors in fields such as biology, history, psychology, environmental studies, and more. The college has a strong international focus and offers study abroad programs in over 40 countries.\\n\\nIn addition to its academic offerings, Dickinson College is known for its commitment to sustainability and environmental stewardship. The college has a number of sustainability initiatives, including a Center for Sustainability Education and a campus farm.\\n\\nDickinson College has a relatively small student body, with a focus on close student-faculty relationships and hands-on learning experiences. The campus is located in a historic area of Carlisle, Pennsylvania, providing students with access to a vibrant community and cultural opportunities.\\n\\nOverall, Dickinson College is a well-respected institution known for its academic excellence, global perspective, and commitment to sustainability.'"
            ],
            "application/vnd.google.colaboratory.intrinsic+json": {
              "type": "string"
            }
          },
          "metadata": {},
          "execution_count": 30
        }
      ]
    },
    {
      "cell_type": "code",
      "source": [
        "import openai\n",
        "from openai import OpenAI"
      ],
      "metadata": {
        "id": "6WRxfatVyz0b"
      },
      "execution_count": null,
      "outputs": []
    },
    {
      "cell_type": "code",
      "source": [
        "client = OpenAI(api_key=api_key)\n",
        "\n",
        "chat_result = client.chat.completions.create(\n",
        "    model = \"gpt-3.5-turbo\",\n",
        "    messages =[\n",
        "        {\n",
        "            \"role\": \"developer\",\n",
        "            \"content\": \"서울에 벚꽃 명소를 추천해줘!\"\n",
        "        },\n",
        "        {\n",
        "            \"role\": \"user\",\n",
        "            \"content\": \"hello!\"\n",
        "        },\n",
        "    ]\n",
        ")"
      ],
      "metadata": {
        "id": "Nq7uL-Z_y3wI"
      },
      "execution_count": null,
      "outputs": []
    },
    {
      "cell_type": "code",
      "source": [
        "chat_result.choices[0].message.content"
      ],
      "metadata": {
        "colab": {
          "base_uri": "https://localhost:8080/",
          "height": 72
        },
        "id": "d3zgicdLz_Ap",
        "outputId": "f21cacab-f1a1-4371-f722-6418d539b0f1"
      },
      "execution_count": null,
      "outputs": [
        {
          "output_type": "execute_result",
          "data": {
            "text/plain": [
              "'안녕하세요! 서울에 벚꽃 명소를 추천해드릴게요.\\n\\n1. 경의선숲길 - 서울역에서 동대문역 사이에 위치한 경의선숲길은 봄에는 아름다운 벚꽃으로 물든 길로 유명합니다.\\n\\n2. 서울 숲 - 서울시내에 위치한 서울 숲은 벚꽃 구경을 할 수 있는 곳으로 유명합니다. 봄에는 벚꽃 터널이 아름다운 풍경을 만들어냅니다.\\n\\n3. 용산 하버도를 - 용산에 위치한 하버도를은 벚꽃 명소로 유명하며, 한강을 배경으로 한 아름다운 풍경을 즐길 수 있습니다.\\n\\n이런 곳들을 방문하면 봄의 아름다운 벚꽃을 감상할 수 있을 것입니다. 즐거운 시간 보내시길 바랍니다!'"
            ],
            "application/vnd.google.colaboratory.intrinsic+json": {
              "type": "string"
            }
          },
          "metadata": {},
          "execution_count": 38
        }
      ]
    },
    {
      "cell_type": "code",
      "source": [
        "def chat(query):\n",
        "    chat_result = client.chat.completions.create(\n",
        "      model = \"gpt-3.5-turbo\",\n",
        "      messages =[\n",
        "          {\n",
        "              \"role\": \"developer\",\n",
        "              \"content\": query\n",
        "          },\n",
        "          {\n",
        "              \"role\": \"user\",\n",
        "              \"content\": \"hello!\"\n",
        "          },\n",
        "      ]\n",
        "  )\n",
        "    print(chat_result.choices[0].message.content)"
      ],
      "metadata": {
        "id": "D4k2EbpqzT-Z"
      },
      "execution_count": null,
      "outputs": []
    },
    {
      "cell_type": "code",
      "source": [
        "chat('서울에 있는 벚꽃 명소를 알려줘!')"
      ],
      "metadata": {
        "colab": {
          "base_uri": "https://localhost:8080/"
        },
        "id": "XFb_0PK70bEV",
        "outputId": "14a9ef43-c5cc-43d6-b8f1-80982905571e"
      },
      "execution_count": null,
      "outputs": [
        {
          "output_type": "stream",
          "name": "stdout",
          "text": [
            "안녕하세요! 서울에 있는 벚꽃 명소로는 다양한 곳이 있습니다. 여의도 한강공원, 광화문 광장, 선릉 선정릉, 석촌호수 공원, 봉은사 등이 유명한 벚꽃 명소로 알려져 있어요. 벚꽃이 만발하는 계절에는 많은 사람들이 이곳을 찾아 벚꽃을 감상합니다. 맑은 날씨에는 산책이나 자전거 타기도 좋은 곳이니 꼭 방문해보시기를 추천해요! 더 궁금한 것이 있으면 알려주세요.\n"
          ]
        }
      ]
    }
  ]
}